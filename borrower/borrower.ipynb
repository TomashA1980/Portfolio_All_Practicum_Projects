{
 "cells": [
  {
   "cell_type": "markdown",
   "id": "270eecb2",
   "metadata": {
    "deletable": false,
    "editable": false,
    "id": "c81daeeb"
   },
   "source": [
    "# Исследование надежности заемщиков\n"
   ]
  },
  {
   "cell_type": "markdown",
   "id": "5d69d338",
   "metadata": {
    "toc": true
   },
   "source": [
    "<h1>Исследование надежности заёмщиков<span class=\"tocSkip\"></span></h1>\n",
    "<div class=\"toc\"><ul class=\"toc-item\"><li><span><a href=\"#Введение\" data-toc-modified-id=\"Введение-1\"><span class=\"toc-item-num\">1&nbsp;&nbsp;</span>Введение</a></span></li><li><span><a href=\"#Откройте-таблицу-и-изучите-общую-информацию-о-данных\" data-toc-modified-id=\"Откройте-таблицу-и-изучите-общую-информацию-о-данных-2\"><span class=\"toc-item-num\">2&nbsp;&nbsp;</span>Откройте таблицу и изучите общую информацию о данных</a></span></li><li><span><a href=\"#Предобработка-данных\" data-toc-modified-id=\"Предобработка-данных-3\"><span class=\"toc-item-num\">3&nbsp;&nbsp;</span>Предобработка данных</a></span><ul class=\"toc-item\"><li><span><a href=\"#Удаление-пропусков\" data-toc-modified-id=\"Удаление-пропусков-3.1\"><span class=\"toc-item-num\">3.1&nbsp;&nbsp;</span>Удаление пропусков</a></span></li><li><span><a href=\"#Обработка-аномальных-значений\" data-toc-modified-id=\"Обработка-аномальных-значений-3.2\"><span class=\"toc-item-num\">3.2&nbsp;&nbsp;</span>Обработка аномальных значений</a></span></li><li><span><a href=\"#Удаление-пропусков-(продолжение)\" data-toc-modified-id=\"Удаление-пропусков-(продолжение)-3.3\"><span class=\"toc-item-num\">3.3&nbsp;&nbsp;</span>Удаление пропусков (продолжение)</a></span></li><li><span><a href=\"#Изменение-типов-данных\" data-toc-modified-id=\"Изменение-типов-данных-3.4\"><span class=\"toc-item-num\">3.4&nbsp;&nbsp;</span>Изменение типов данных</a></span></li><li><span><a href=\"#Обработка-дубликатов\" data-toc-modified-id=\"Обработка-дубликатов-3.5\"><span class=\"toc-item-num\">3.5&nbsp;&nbsp;</span>Обработка дубликатов</a></span></li><li><span><a href=\"#Категоризация-данных\" data-toc-modified-id=\"Категоризация-данных-3.6\"><span class=\"toc-item-num\">3.6&nbsp;&nbsp;</span>Категоризация данных</a></span></li><li><span><a href=\"#Шаг-3.-Исследуйте-данные-и-ответьте-на-вопросы\" data-toc-modified-id=\"Шаг-3.-Исследуйте-данные-и-ответьте-на-вопросы-3.7\"><span class=\"toc-item-num\">3.7&nbsp;&nbsp;</span>Шаг 3. Исследуйте данные и ответьте на вопросы</a></span><ul class=\"toc-item\"><li><span><a href=\"#3.1-Есть-ли-зависимость-между-количеством-детей-и-возвратом-кредита-в-срок?\" data-toc-modified-id=\"3.1-Есть-ли-зависимость-между-количеством-детей-и-возвратом-кредита-в-срок?-3.7.1\"><span class=\"toc-item-num\">3.7.1&nbsp;&nbsp;</span>3.1 Есть ли зависимость между количеством детей и возвратом кредита в срок?</a></span></li><li><span><a href=\"#3.2-Есть-ли-зависимость-между-семейным-положением-и-возвратом-кредита-в-срок?\" data-toc-modified-id=\"3.2-Есть-ли-зависимость-между-семейным-положением-и-возвратом-кредита-в-срок?-3.7.2\"><span class=\"toc-item-num\">3.7.2&nbsp;&nbsp;</span>3.2 Есть ли зависимость между семейным положением и возвратом кредита в срок?</a></span></li><li><span><a href=\"#3.3-Есть-ли-зависимость-между-уровнем-дохода-и-возвратом-кредита-в-срок?\" data-toc-modified-id=\"3.3-Есть-ли-зависимость-между-уровнем-дохода-и-возвратом-кредита-в-срок?-3.7.3\"><span class=\"toc-item-num\">3.7.3&nbsp;&nbsp;</span>3.3 Есть ли зависимость между уровнем дохода и возвратом кредита в срок?</a></span></li><li><span><a href=\"#3.4-Как-разные-цели-кредита-влияют-на-его-возврат-в-срок?\" data-toc-modified-id=\"3.4-Как-разные-цели-кредита-влияют-на-его-возврат-в-срок?-3.7.4\"><span class=\"toc-item-num\">3.7.4&nbsp;&nbsp;</span>3.4 Как разные цели кредита влияют на его возврат в срок?</a></span></li><li><span><a href=\"#3.5-Приведите-возможные-причины-появления-пропусков-в-исходных-данных.\" data-toc-modified-id=\"3.5-Приведите-возможные-причины-появления-пропусков-в-исходных-данных.-3.7.5\"><span class=\"toc-item-num\">3.7.5&nbsp;&nbsp;</span>3.5 Приведите возможные причины появления пропусков в исходных данных.</a></span></li><li><span><a href=\"#3.6-Объясните,-почему-заполнить-пропуски-медианным-значением-—-лучшее-решение-для-количественных-переменных.\" data-toc-modified-id=\"3.6-Объясните,-почему-заполнить-пропуски-медианным-значением-—-лучшее-решение-для-количественных-переменных.-3.7.6\"><span class=\"toc-item-num\">3.7.6&nbsp;&nbsp;</span>3.6 Объясните, почему заполнить пропуски медианным значением — лучшее решение для количественных переменных.</a></span></li></ul></li><li><span><a href=\"#Шаг-4:-общий-вывод.\" data-toc-modified-id=\"Шаг-4:-общий-вывод.-3.8\"><span class=\"toc-item-num\">3.8&nbsp;&nbsp;</span>Шаг 4: общий вывод.</a></span></li></ul></li><li><span><a href=\"#Шаг-5.-Разницы-в-заданиях-в-конспекте-и-в-тетради.\" data-toc-modified-id=\"Шаг-5.-Разницы-в-заданиях-в-конспекте-и-в-тетради.-4\"><span class=\"toc-item-num\">4&nbsp;&nbsp;</span>Шаг 5. Разницы в заданиях в конспекте и в тетради.</a></span><ul class=\"toc-item\"><li><span><a href=\"#Выполнение-Шаг-2,-п.-5\" data-toc-modified-id=\"Выполнение-Шаг-2,-п.-5-4.1\"><span class=\"toc-item-num\">4.1&nbsp;&nbsp;</span>Выполнение Шаг 2, п. 5</a></span></li></ul></li></ul></div>"
   ]
  },
  {
   "cell_type": "markdown",
   "id": "c4decc75",
   "metadata": {},
   "source": [
    "## Введение"
   ]
  },
  {
   "cell_type": "markdown",
   "id": "fbbafb15",
   "metadata": {},
   "source": [
    "Данное исследование будет проведено с целью *первичного определения зависимости возвратов кредитов в срок от различных характеристик заемщиков*. Мы рассмотрим следующие характеристики:\n",
    "- наличие и количество детей,\n",
    "- семейное положение,\n",
    "- уровень дохода,\n",
    "- цели кредита.\n",
    "\n",
    "Дополнительно, выдвинем новые гипотизы и наметим пути дальнейших исследований. Но это все во **второй части**.\n",
    "\n",
    "А в **первой части** мы подготовим данные, которые нам были предоставлены:\n",
    "- удалим прописки,\n",
    "- разберемся с аномальными значениями,\n",
    "- зададим правильные типы данных,\n",
    "- удалим дубликаты,\n",
    "- создадим нужные словари,\n",
    "- и категоризируем необходимые характеристики.\n",
    "И... в путь!"
   ]
  },
  {
   "cell_type": "markdown",
   "id": "db920597",
   "metadata": {
    "deletable": false,
    "editable": false,
    "id": "827c20bf"
   },
   "source": [
    "Во второй части проекта вы выполните шаги 3 и 4. Их вручную проверит ревьюер.\n",
    "Чтобы вам не пришлось писать код заново для шагов 1 и 2, мы добавили авторские решения в ячейки с кодом. \n",
    "\n"
   ]
  },
  {
   "cell_type": "markdown",
   "id": "ce854fb1",
   "metadata": {
    "deletable": false,
    "editable": false,
    "id": "744d7639"
   },
   "source": [
    "## Откройте таблицу и изучите общую информацию о данных"
   ]
  },
  {
   "cell_type": "markdown",
   "id": "d163836b",
   "metadata": {
    "deletable": false,
    "editable": false,
    "id": "e7a14c31"
   },
   "source": [
    "**Задание 1. Импортируйте библиотеку pandas. Считайте данные из csv-файла в датафрейм и сохраните в переменную `data`. Путь к файлу:**\n",
    "\n",
    "`/datasets/data.csv`"
   ]
  },
  {
   "cell_type": "code",
   "execution_count": 1,
   "id": "968fc4a3",
   "metadata": {
    "deletable": false,
    "id": "7bcf75c9"
   },
   "outputs": [],
   "source": [
    "import pandas as pd\n",
    "from IPython.display import display\n",
    "import seaborn as sns\n",
    "import matplotlib.pyplot as plt\n",
    "\n",
    "# data = pd.read_csv('data.csv')\n",
    "data = pd.read_csv('/datasets/data.csv')\n",
    "\n",
    "# try:\n",
    "#    data = pd.read_csv('/datasets/data.csv')\n",
    "# except:\n",
    "#    data = pd.read_csv('https://code.s3.yandex.net/datasets/data.csv')"
   ]
  },
  {
   "cell_type": "markdown",
   "id": "b20ccad7",
   "metadata": {
    "deletable": false,
    "editable": false,
    "id": "b8038fe3"
   },
   "source": [
    "**Задание 2. Выведите первые 20 строчек датафрейма `data` на экран.**"
   ]
  },
  {
   "cell_type": "code",
   "execution_count": 2,
   "id": "78fdc0e7",
   "metadata": {
    "deletable": false,
    "id": "2a7cab99",
    "outputId": "1a8f3ef2-d323-4ec2-ddf7-89670b5944c4"
   },
   "outputs": [
    {
     "data": {
      "text/html": [
       "<div>\n",
       "<style scoped>\n",
       "    .dataframe tbody tr th:only-of-type {\n",
       "        vertical-align: middle;\n",
       "    }\n",
       "\n",
       "    .dataframe tbody tr th {\n",
       "        vertical-align: top;\n",
       "    }\n",
       "\n",
       "    .dataframe thead th {\n",
       "        text-align: right;\n",
       "    }\n",
       "</style>\n",
       "<table border=\"1\" class=\"dataframe\">\n",
       "  <thead>\n",
       "    <tr style=\"text-align: right;\">\n",
       "      <th></th>\n",
       "      <th>children</th>\n",
       "      <th>days_employed</th>\n",
       "      <th>dob_years</th>\n",
       "      <th>education</th>\n",
       "      <th>education_id</th>\n",
       "      <th>family_status</th>\n",
       "      <th>family_status_id</th>\n",
       "      <th>gender</th>\n",
       "      <th>income_type</th>\n",
       "      <th>debt</th>\n",
       "      <th>total_income</th>\n",
       "      <th>purpose</th>\n",
       "    </tr>\n",
       "  </thead>\n",
       "  <tbody>\n",
       "    <tr>\n",
       "      <th>0</th>\n",
       "      <td>1</td>\n",
       "      <td>-8437.673028</td>\n",
       "      <td>42</td>\n",
       "      <td>высшее</td>\n",
       "      <td>0</td>\n",
       "      <td>женат / замужем</td>\n",
       "      <td>0</td>\n",
       "      <td>F</td>\n",
       "      <td>сотрудник</td>\n",
       "      <td>0</td>\n",
       "      <td>253875.639453</td>\n",
       "      <td>покупка жилья</td>\n",
       "    </tr>\n",
       "    <tr>\n",
       "      <th>1</th>\n",
       "      <td>1</td>\n",
       "      <td>-4024.803754</td>\n",
       "      <td>36</td>\n",
       "      <td>среднее</td>\n",
       "      <td>1</td>\n",
       "      <td>женат / замужем</td>\n",
       "      <td>0</td>\n",
       "      <td>F</td>\n",
       "      <td>сотрудник</td>\n",
       "      <td>0</td>\n",
       "      <td>112080.014102</td>\n",
       "      <td>приобретение автомобиля</td>\n",
       "    </tr>\n",
       "    <tr>\n",
       "      <th>2</th>\n",
       "      <td>0</td>\n",
       "      <td>-5623.422610</td>\n",
       "      <td>33</td>\n",
       "      <td>Среднее</td>\n",
       "      <td>1</td>\n",
       "      <td>женат / замужем</td>\n",
       "      <td>0</td>\n",
       "      <td>M</td>\n",
       "      <td>сотрудник</td>\n",
       "      <td>0</td>\n",
       "      <td>145885.952297</td>\n",
       "      <td>покупка жилья</td>\n",
       "    </tr>\n",
       "    <tr>\n",
       "      <th>3</th>\n",
       "      <td>3</td>\n",
       "      <td>-4124.747207</td>\n",
       "      <td>32</td>\n",
       "      <td>среднее</td>\n",
       "      <td>1</td>\n",
       "      <td>женат / замужем</td>\n",
       "      <td>0</td>\n",
       "      <td>M</td>\n",
       "      <td>сотрудник</td>\n",
       "      <td>0</td>\n",
       "      <td>267628.550329</td>\n",
       "      <td>дополнительное образование</td>\n",
       "    </tr>\n",
       "    <tr>\n",
       "      <th>4</th>\n",
       "      <td>0</td>\n",
       "      <td>340266.072047</td>\n",
       "      <td>53</td>\n",
       "      <td>среднее</td>\n",
       "      <td>1</td>\n",
       "      <td>гражданский брак</td>\n",
       "      <td>1</td>\n",
       "      <td>F</td>\n",
       "      <td>пенсионер</td>\n",
       "      <td>0</td>\n",
       "      <td>158616.077870</td>\n",
       "      <td>сыграть свадьбу</td>\n",
       "    </tr>\n",
       "    <tr>\n",
       "      <th>5</th>\n",
       "      <td>0</td>\n",
       "      <td>-926.185831</td>\n",
       "      <td>27</td>\n",
       "      <td>высшее</td>\n",
       "      <td>0</td>\n",
       "      <td>гражданский брак</td>\n",
       "      <td>1</td>\n",
       "      <td>M</td>\n",
       "      <td>компаньон</td>\n",
       "      <td>0</td>\n",
       "      <td>255763.565419</td>\n",
       "      <td>покупка жилья</td>\n",
       "    </tr>\n",
       "    <tr>\n",
       "      <th>6</th>\n",
       "      <td>0</td>\n",
       "      <td>-2879.202052</td>\n",
       "      <td>43</td>\n",
       "      <td>высшее</td>\n",
       "      <td>0</td>\n",
       "      <td>женат / замужем</td>\n",
       "      <td>0</td>\n",
       "      <td>F</td>\n",
       "      <td>компаньон</td>\n",
       "      <td>0</td>\n",
       "      <td>240525.971920</td>\n",
       "      <td>операции с жильем</td>\n",
       "    </tr>\n",
       "    <tr>\n",
       "      <th>7</th>\n",
       "      <td>0</td>\n",
       "      <td>-152.779569</td>\n",
       "      <td>50</td>\n",
       "      <td>СРЕДНЕЕ</td>\n",
       "      <td>1</td>\n",
       "      <td>женат / замужем</td>\n",
       "      <td>0</td>\n",
       "      <td>M</td>\n",
       "      <td>сотрудник</td>\n",
       "      <td>0</td>\n",
       "      <td>135823.934197</td>\n",
       "      <td>образование</td>\n",
       "    </tr>\n",
       "    <tr>\n",
       "      <th>8</th>\n",
       "      <td>2</td>\n",
       "      <td>-6929.865299</td>\n",
       "      <td>35</td>\n",
       "      <td>ВЫСШЕЕ</td>\n",
       "      <td>0</td>\n",
       "      <td>гражданский брак</td>\n",
       "      <td>1</td>\n",
       "      <td>F</td>\n",
       "      <td>сотрудник</td>\n",
       "      <td>0</td>\n",
       "      <td>95856.832424</td>\n",
       "      <td>на проведение свадьбы</td>\n",
       "    </tr>\n",
       "    <tr>\n",
       "      <th>9</th>\n",
       "      <td>0</td>\n",
       "      <td>-2188.756445</td>\n",
       "      <td>41</td>\n",
       "      <td>среднее</td>\n",
       "      <td>1</td>\n",
       "      <td>женат / замужем</td>\n",
       "      <td>0</td>\n",
       "      <td>M</td>\n",
       "      <td>сотрудник</td>\n",
       "      <td>0</td>\n",
       "      <td>144425.938277</td>\n",
       "      <td>покупка жилья для семьи</td>\n",
       "    </tr>\n",
       "    <tr>\n",
       "      <th>10</th>\n",
       "      <td>2</td>\n",
       "      <td>-4171.483647</td>\n",
       "      <td>36</td>\n",
       "      <td>высшее</td>\n",
       "      <td>0</td>\n",
       "      <td>женат / замужем</td>\n",
       "      <td>0</td>\n",
       "      <td>M</td>\n",
       "      <td>компаньон</td>\n",
       "      <td>0</td>\n",
       "      <td>113943.491460</td>\n",
       "      <td>покупка недвижимости</td>\n",
       "    </tr>\n",
       "    <tr>\n",
       "      <th>11</th>\n",
       "      <td>0</td>\n",
       "      <td>-792.701887</td>\n",
       "      <td>40</td>\n",
       "      <td>среднее</td>\n",
       "      <td>1</td>\n",
       "      <td>женат / замужем</td>\n",
       "      <td>0</td>\n",
       "      <td>F</td>\n",
       "      <td>сотрудник</td>\n",
       "      <td>0</td>\n",
       "      <td>77069.234271</td>\n",
       "      <td>покупка коммерческой недвижимости</td>\n",
       "    </tr>\n",
       "    <tr>\n",
       "      <th>12</th>\n",
       "      <td>0</td>\n",
       "      <td>NaN</td>\n",
       "      <td>65</td>\n",
       "      <td>среднее</td>\n",
       "      <td>1</td>\n",
       "      <td>гражданский брак</td>\n",
       "      <td>1</td>\n",
       "      <td>M</td>\n",
       "      <td>пенсионер</td>\n",
       "      <td>0</td>\n",
       "      <td>NaN</td>\n",
       "      <td>сыграть свадьбу</td>\n",
       "    </tr>\n",
       "    <tr>\n",
       "      <th>13</th>\n",
       "      <td>0</td>\n",
       "      <td>-1846.641941</td>\n",
       "      <td>54</td>\n",
       "      <td>неоконченное высшее</td>\n",
       "      <td>2</td>\n",
       "      <td>женат / замужем</td>\n",
       "      <td>0</td>\n",
       "      <td>F</td>\n",
       "      <td>сотрудник</td>\n",
       "      <td>0</td>\n",
       "      <td>130458.228857</td>\n",
       "      <td>приобретение автомобиля</td>\n",
       "    </tr>\n",
       "    <tr>\n",
       "      <th>14</th>\n",
       "      <td>0</td>\n",
       "      <td>-1844.956182</td>\n",
       "      <td>56</td>\n",
       "      <td>высшее</td>\n",
       "      <td>0</td>\n",
       "      <td>гражданский брак</td>\n",
       "      <td>1</td>\n",
       "      <td>F</td>\n",
       "      <td>компаньон</td>\n",
       "      <td>1</td>\n",
       "      <td>165127.911772</td>\n",
       "      <td>покупка жилой недвижимости</td>\n",
       "    </tr>\n",
       "    <tr>\n",
       "      <th>15</th>\n",
       "      <td>1</td>\n",
       "      <td>-972.364419</td>\n",
       "      <td>26</td>\n",
       "      <td>среднее</td>\n",
       "      <td>1</td>\n",
       "      <td>женат / замужем</td>\n",
       "      <td>0</td>\n",
       "      <td>F</td>\n",
       "      <td>сотрудник</td>\n",
       "      <td>0</td>\n",
       "      <td>116820.904450</td>\n",
       "      <td>строительство собственной недвижимости</td>\n",
       "    </tr>\n",
       "    <tr>\n",
       "      <th>16</th>\n",
       "      <td>0</td>\n",
       "      <td>-1719.934226</td>\n",
       "      <td>35</td>\n",
       "      <td>среднее</td>\n",
       "      <td>1</td>\n",
       "      <td>женат / замужем</td>\n",
       "      <td>0</td>\n",
       "      <td>F</td>\n",
       "      <td>сотрудник</td>\n",
       "      <td>0</td>\n",
       "      <td>289202.704229</td>\n",
       "      <td>недвижимость</td>\n",
       "    </tr>\n",
       "    <tr>\n",
       "      <th>17</th>\n",
       "      <td>0</td>\n",
       "      <td>-2369.999720</td>\n",
       "      <td>33</td>\n",
       "      <td>высшее</td>\n",
       "      <td>0</td>\n",
       "      <td>гражданский брак</td>\n",
       "      <td>1</td>\n",
       "      <td>M</td>\n",
       "      <td>сотрудник</td>\n",
       "      <td>0</td>\n",
       "      <td>90410.586745</td>\n",
       "      <td>строительство недвижимости</td>\n",
       "    </tr>\n",
       "    <tr>\n",
       "      <th>18</th>\n",
       "      <td>0</td>\n",
       "      <td>400281.136913</td>\n",
       "      <td>53</td>\n",
       "      <td>среднее</td>\n",
       "      <td>1</td>\n",
       "      <td>вдовец / вдова</td>\n",
       "      <td>2</td>\n",
       "      <td>F</td>\n",
       "      <td>пенсионер</td>\n",
       "      <td>0</td>\n",
       "      <td>56823.777243</td>\n",
       "      <td>на покупку подержанного автомобиля</td>\n",
       "    </tr>\n",
       "    <tr>\n",
       "      <th>19</th>\n",
       "      <td>0</td>\n",
       "      <td>-10038.818549</td>\n",
       "      <td>48</td>\n",
       "      <td>СРЕДНЕЕ</td>\n",
       "      <td>1</td>\n",
       "      <td>в разводе</td>\n",
       "      <td>3</td>\n",
       "      <td>F</td>\n",
       "      <td>сотрудник</td>\n",
       "      <td>0</td>\n",
       "      <td>242831.107982</td>\n",
       "      <td>на покупку своего автомобиля</td>\n",
       "    </tr>\n",
       "  </tbody>\n",
       "</table>\n",
       "</div>"
      ],
      "text/plain": [
       "    children  days_employed  dob_years            education  education_id  \\\n",
       "0          1   -8437.673028         42               высшее             0   \n",
       "1          1   -4024.803754         36              среднее             1   \n",
       "2          0   -5623.422610         33              Среднее             1   \n",
       "3          3   -4124.747207         32              среднее             1   \n",
       "4          0  340266.072047         53              среднее             1   \n",
       "5          0    -926.185831         27               высшее             0   \n",
       "6          0   -2879.202052         43               высшее             0   \n",
       "7          0    -152.779569         50              СРЕДНЕЕ             1   \n",
       "8          2   -6929.865299         35               ВЫСШЕЕ             0   \n",
       "9          0   -2188.756445         41              среднее             1   \n",
       "10         2   -4171.483647         36               высшее             0   \n",
       "11         0    -792.701887         40              среднее             1   \n",
       "12         0            NaN         65              среднее             1   \n",
       "13         0   -1846.641941         54  неоконченное высшее             2   \n",
       "14         0   -1844.956182         56               высшее             0   \n",
       "15         1    -972.364419         26              среднее             1   \n",
       "16         0   -1719.934226         35              среднее             1   \n",
       "17         0   -2369.999720         33               высшее             0   \n",
       "18         0  400281.136913         53              среднее             1   \n",
       "19         0  -10038.818549         48              СРЕДНЕЕ             1   \n",
       "\n",
       "       family_status  family_status_id gender income_type  debt  \\\n",
       "0    женат / замужем                 0      F   сотрудник     0   \n",
       "1    женат / замужем                 0      F   сотрудник     0   \n",
       "2    женат / замужем                 0      M   сотрудник     0   \n",
       "3    женат / замужем                 0      M   сотрудник     0   \n",
       "4   гражданский брак                 1      F   пенсионер     0   \n",
       "5   гражданский брак                 1      M   компаньон     0   \n",
       "6    женат / замужем                 0      F   компаньон     0   \n",
       "7    женат / замужем                 0      M   сотрудник     0   \n",
       "8   гражданский брак                 1      F   сотрудник     0   \n",
       "9    женат / замужем                 0      M   сотрудник     0   \n",
       "10   женат / замужем                 0      M   компаньон     0   \n",
       "11   женат / замужем                 0      F   сотрудник     0   \n",
       "12  гражданский брак                 1      M   пенсионер     0   \n",
       "13   женат / замужем                 0      F   сотрудник     0   \n",
       "14  гражданский брак                 1      F   компаньон     1   \n",
       "15   женат / замужем                 0      F   сотрудник     0   \n",
       "16   женат / замужем                 0      F   сотрудник     0   \n",
       "17  гражданский брак                 1      M   сотрудник     0   \n",
       "18    вдовец / вдова                 2      F   пенсионер     0   \n",
       "19         в разводе                 3      F   сотрудник     0   \n",
       "\n",
       "     total_income                                 purpose  \n",
       "0   253875.639453                           покупка жилья  \n",
       "1   112080.014102                 приобретение автомобиля  \n",
       "2   145885.952297                           покупка жилья  \n",
       "3   267628.550329              дополнительное образование  \n",
       "4   158616.077870                         сыграть свадьбу  \n",
       "5   255763.565419                           покупка жилья  \n",
       "6   240525.971920                       операции с жильем  \n",
       "7   135823.934197                             образование  \n",
       "8    95856.832424                   на проведение свадьбы  \n",
       "9   144425.938277                 покупка жилья для семьи  \n",
       "10  113943.491460                    покупка недвижимости  \n",
       "11   77069.234271       покупка коммерческой недвижимости  \n",
       "12            NaN                         сыграть свадьбу  \n",
       "13  130458.228857                 приобретение автомобиля  \n",
       "14  165127.911772              покупка жилой недвижимости  \n",
       "15  116820.904450  строительство собственной недвижимости  \n",
       "16  289202.704229                            недвижимость  \n",
       "17   90410.586745              строительство недвижимости  \n",
       "18   56823.777243      на покупку подержанного автомобиля  \n",
       "19  242831.107982            на покупку своего автомобиля  "
      ]
     },
     "execution_count": 2,
     "metadata": {},
     "output_type": "execute_result"
    }
   ],
   "source": [
    "data.head(20)"
   ]
  },
  {
   "cell_type": "markdown",
   "id": "e748d52d",
   "metadata": {
    "deletable": false,
    "editable": false,
    "id": "1c12e233"
   },
   "source": [
    "**Задание 3. Выведите основную информацию о датафрейме с помощью метода `info()`.**"
   ]
  },
  {
   "cell_type": "code",
   "execution_count": 3,
   "id": "19a89138",
   "metadata": {
    "deletable": false,
    "id": "2b757bca",
    "outputId": "15376089-8dad-46c9-b520-c05248d43158"
   },
   "outputs": [
    {
     "name": "stdout",
     "output_type": "stream",
     "text": [
      "<class 'pandas.core.frame.DataFrame'>\n",
      "RangeIndex: 21525 entries, 0 to 21524\n",
      "Data columns (total 12 columns):\n",
      " #   Column            Non-Null Count  Dtype  \n",
      "---  ------            --------------  -----  \n",
      " 0   children          21525 non-null  int64  \n",
      " 1   days_employed     19351 non-null  float64\n",
      " 2   dob_years         21525 non-null  int64  \n",
      " 3   education         21525 non-null  object \n",
      " 4   education_id      21525 non-null  int64  \n",
      " 5   family_status     21525 non-null  object \n",
      " 6   family_status_id  21525 non-null  int64  \n",
      " 7   gender            21525 non-null  object \n",
      " 8   income_type       21525 non-null  object \n",
      " 9   debt              21525 non-null  int64  \n",
      " 10  total_income      19351 non-null  float64\n",
      " 11  purpose           21525 non-null  object \n",
      "dtypes: float64(2), int64(5), object(5)\n",
      "memory usage: 2.0+ MB\n"
     ]
    }
   ],
   "source": [
    "data.info()"
   ]
  },
  {
   "cell_type": "markdown",
   "id": "f5cebb0c",
   "metadata": {
    "deletable": false,
    "editable": false,
    "id": "333ec665"
   },
   "source": [
    "## Предобработка данных"
   ]
  },
  {
   "cell_type": "markdown",
   "id": "3322a270",
   "metadata": {
    "deletable": false,
    "editable": false,
    "id": "02d92d53"
   },
   "source": [
    "### Удаление пропусков"
   ]
  },
  {
   "cell_type": "markdown",
   "id": "855bd77a",
   "metadata": {
    "deletable": false,
    "editable": false,
    "id": "cd84967c"
   },
   "source": [
    "**Задание 4. Выведите количество пропущенных значений для каждого столбца. Используйте комбинацию двух методов.**"
   ]
  },
  {
   "cell_type": "code",
   "execution_count": 4,
   "id": "e61e1202",
   "metadata": {
    "deletable": false,
    "id": "7f9b2309",
    "outputId": "81f4d817-781c-465c-ed15-91ce4446810d"
   },
   "outputs": [
    {
     "data": {
      "text/plain": [
       "children               0\n",
       "days_employed       2174\n",
       "dob_years              0\n",
       "education              0\n",
       "education_id           0\n",
       "family_status          0\n",
       "family_status_id       0\n",
       "gender                 0\n",
       "income_type            0\n",
       "debt                   0\n",
       "total_income        2174\n",
       "purpose                0\n",
       "dtype: int64"
      ]
     },
     "execution_count": 4,
     "metadata": {},
     "output_type": "execute_result"
    }
   ],
   "source": [
    "data.isna().sum()"
   ]
  },
  {
   "cell_type": "markdown",
   "id": "52c8a530",
   "metadata": {
    "deletable": false,
    "editable": false,
    "id": "db86e27b"
   },
   "source": [
    "**Задание 5. В двух столбцах есть пропущенные значения. Один из них — `days_employed`. Пропуски в этом столбце вы обработаете на следующем этапе. Другой столбец с пропущенными значениями — `total_income` — хранит данные о доходах. На сумму дохода сильнее всего влияет тип занятости, поэтому заполнить пропуски в этом столбце нужно медианным значением по каждому типу из столбца `income_type`. Например, у человека с типом занятости `сотрудник` пропуск в столбце `total_income` должен быть заполнен медианным доходом среди всех записей с тем же типом.**"
   ]
  },
  {
   "cell_type": "code",
   "execution_count": 5,
   "id": "bf539e42",
   "metadata": {
    "deletable": false,
    "id": "42006a93"
   },
   "outputs": [],
   "source": [
    "for t in data['income_type'].unique():\n",
    "    data.loc[(data['income_type'] == t) & (data['total_income'].isna()), 'total_income'] = \\\n",
    "    data.loc[(data['income_type'] == t), 'total_income'].median()"
   ]
  },
  {
   "cell_type": "markdown",
   "id": "45f34392",
   "metadata": {
    "deletable": false,
    "editable": false,
    "id": "89da5ece"
   },
   "source": [
    "### Обработка аномальных значений"
   ]
  },
  {
   "cell_type": "markdown",
   "id": "f7c7d1d4",
   "metadata": {
    "deletable": false,
    "editable": false,
    "id": "57964554"
   },
   "source": [
    "**Задание 6. В данных могут встречаться артефакты (аномалии) — значения, которые не отражают действительность и появились по какой-то ошибке. таким артефактом будет отрицательное количество дней трудового стажа в столбце `days_employed`. Для реальных данных это нормально. Обработайте значения в этом столбце: замените все отрицательные значения положительными с помощью метода `abs()`.**"
   ]
  },
  {
   "cell_type": "code",
   "execution_count": 6,
   "id": "08549a15",
   "metadata": {
    "deletable": false,
    "id": "f6f055bf"
   },
   "outputs": [],
   "source": [
    "data['days_employed'] = data['days_employed'].abs()"
   ]
  },
  {
   "cell_type": "markdown",
   "id": "180df790",
   "metadata": {
    "deletable": false,
    "editable": false,
    "id": "6107dd2f"
   },
   "source": [
    "**Задание 7. Для каждого типа занятости выведите медианное значение трудового стажа `days_employed` в днях.**"
   ]
  },
  {
   "cell_type": "code",
   "execution_count": 7,
   "id": "c558841d",
   "metadata": {
    "deletable": false,
    "id": "85a5faf6",
    "outputId": "801ef80e-522b-4668-f34e-565af7432bcf"
   },
   "outputs": [
    {
     "data": {
      "text/plain": [
       "income_type\n",
       "безработный        366413.652744\n",
       "в декрете            3296.759962\n",
       "госслужащий          2689.368353\n",
       "компаньон            1547.382223\n",
       "пенсионер          365213.306266\n",
       "предприниматель       520.848083\n",
       "сотрудник            1574.202821\n",
       "студент               578.751554\n",
       "Name: days_employed, dtype: float64"
      ]
     },
     "execution_count": 7,
     "metadata": {},
     "output_type": "execute_result"
    }
   ],
   "source": [
    "data.groupby('income_type')['days_employed'].agg('median')"
   ]
  },
  {
   "cell_type": "markdown",
   "id": "03a9b692",
   "metadata": {
    "deletable": false,
    "editable": false,
    "id": "38d1a030"
   },
   "source": [
    "У двух типов (безработные и пенсионеры) получатся аномально большие значения. Исправить такие значения сложно, поэтому оставьте их как есть. Тем более этот столбец не понадобится вам для исследования."
   ]
  },
  {
   "cell_type": "markdown",
   "id": "d7922d93",
   "metadata": {
    "deletable": false,
    "editable": false,
    "id": "d8a9f147"
   },
   "source": [
    "**Задание 8. Выведите перечень уникальных значений столбца `children`.**"
   ]
  },
  {
   "cell_type": "code",
   "execution_count": 8,
   "id": "8e337774",
   "metadata": {
    "deletable": false,
    "id": "ef5056eb",
    "outputId": "6975b15c-7f95-4697-d16d-a0c79b657b03"
   },
   "outputs": [
    {
     "data": {
      "text/plain": [
       "array([ 1,  0,  3,  2, -1,  4, 20,  5])"
      ]
     },
     "execution_count": 8,
     "metadata": {},
     "output_type": "execute_result"
    }
   ],
   "source": [
    "data['children'].unique()"
   ]
  },
  {
   "cell_type": "markdown",
   "id": "c61edd15",
   "metadata": {
    "deletable": false,
    "editable": false,
    "id": "40b9ebf2"
   },
   "source": [
    "**Задание 9. В столбце `children` есть два аномальных значения. Удалите строки, в которых встречаются такие аномальные значения из датафрейма `data`.**"
   ]
  },
  {
   "cell_type": "code",
   "execution_count": 9,
   "id": "f29ad0d7",
   "metadata": {
    "deletable": false,
    "id": "3ff9801d"
   },
   "outputs": [],
   "source": [
    "data = data[(data['children'] != -1) & (data['children'] != 20)]"
   ]
  },
  {
   "cell_type": "markdown",
   "id": "e8043b7b",
   "metadata": {
    "deletable": false,
    "editable": false,
    "id": "bbc4d0ce"
   },
   "source": [
    "**Задание 10. Ещё раз выведите перечень уникальных значений столбца `children`, чтобы убедиться, что артефакты удалены.**"
   ]
  },
  {
   "cell_type": "code",
   "execution_count": 10,
   "id": "9d4b0674",
   "metadata": {
    "deletable": false,
    "id": "ad4fa8b7",
    "outputId": "b2097101-d49d-44d9-901b-32a65c9463d1"
   },
   "outputs": [
    {
     "data": {
      "text/plain": [
       "array([1, 0, 3, 2, 4, 5])"
      ]
     },
     "execution_count": 10,
     "metadata": {},
     "output_type": "execute_result"
    }
   ],
   "source": [
    "data['children'].unique()"
   ]
  },
  {
   "cell_type": "markdown",
   "id": "f44f347d",
   "metadata": {
    "deletable": false,
    "editable": false,
    "id": "75440b63"
   },
   "source": [
    "### Удаление пропусков (продолжение)"
   ]
  },
  {
   "cell_type": "markdown",
   "id": "b148f267",
   "metadata": {
    "deletable": false,
    "editable": false,
    "id": "f4ea573f"
   },
   "source": [
    "**Задание 11. Заполните пропуски в столбце `days_employed` медианными значениями по каждого типа занятости `income_type`.**"
   ]
  },
  {
   "cell_type": "code",
   "execution_count": 11,
   "id": "813e4f99",
   "metadata": {
    "deletable": false,
    "id": "af6b1a7e"
   },
   "outputs": [],
   "source": [
    "for t in data['income_type'].unique():\n",
    "    data.loc[(data['income_type'] == t) & (data['days_employed'].isna()), 'days_employed'] = \\\n",
    "    data.loc[(data['income_type'] == t), 'days_employed'].median()"
   ]
  },
  {
   "cell_type": "markdown",
   "id": "41aea1c8",
   "metadata": {
    "deletable": false,
    "editable": false,
    "id": "2753f40d"
   },
   "source": [
    "**Задание 12. Убедитесь, что все пропуски заполнены. Проверьте себя и ещё раз выведите количество пропущенных значений для каждого столбца с помощью двух методов.**"
   ]
  },
  {
   "cell_type": "code",
   "execution_count": 12,
   "id": "1bb718ef",
   "metadata": {
    "deletable": false,
    "id": "55f78bc2",
    "outputId": "8da1e4e1-358e-4e87-98c9-f261bce0a7b2"
   },
   "outputs": [
    {
     "data": {
      "text/plain": [
       "children            0\n",
       "days_employed       0\n",
       "dob_years           0\n",
       "education           0\n",
       "education_id        0\n",
       "family_status       0\n",
       "family_status_id    0\n",
       "gender              0\n",
       "income_type         0\n",
       "debt                0\n",
       "total_income        0\n",
       "purpose             0\n",
       "dtype: int64"
      ]
     },
     "execution_count": 12,
     "metadata": {},
     "output_type": "execute_result"
    }
   ],
   "source": [
    "data.isna().sum()"
   ]
  },
  {
   "cell_type": "markdown",
   "id": "19d33ab1",
   "metadata": {
    "deletable": false,
    "editable": false,
    "id": "ddc81e43"
   },
   "source": [
    "### Изменение типов данных"
   ]
  },
  {
   "cell_type": "markdown",
   "id": "1082ec8f",
   "metadata": {
    "deletable": false,
    "editable": false,
    "id": "42d19d24"
   },
   "source": [
    "**Задание 13. Замените вещественный тип данных в столбце `total_income` на целочисленный с помощью метода `astype()`.**"
   ]
  },
  {
   "cell_type": "code",
   "execution_count": 13,
   "id": "23eae766",
   "metadata": {
    "deletable": false,
    "id": "920b65ad"
   },
   "outputs": [],
   "source": [
    "data['total_income'] = data['total_income'].astype(int)"
   ]
  },
  {
   "cell_type": "markdown",
   "id": "8d7f64b6",
   "metadata": {
    "deletable": false,
    "editable": false,
    "id": "80c420ba"
   },
   "source": [
    "### Обработка дубликатов"
   ]
  },
  {
   "cell_type": "markdown",
   "id": "0e434b3e",
   "metadata": {
    "deletable": false,
    "editable": false
   },
   "source": [
    "**Задание 14. Обработайте неявные дубликаты в столбце `education`. В этом столбце есть одни и те же значения, но записанные по-разному: с использованием заглавных и строчных букв. Приведите их к нижнему регистру. Проверьте остальные столбцы.**"
   ]
  },
  {
   "cell_type": "code",
   "execution_count": 14,
   "id": "0af0952d",
   "metadata": {
    "deletable": false
   },
   "outputs": [],
   "source": [
    "data['education'] = data['education'].str.lower()"
   ]
  },
  {
   "cell_type": "markdown",
   "id": "93c874e1",
   "metadata": {
    "deletable": false,
    "editable": false,
    "id": "dc587695"
   },
   "source": [
    "**Задание 15. Выведите на экран количество строк-дубликатов в данных. Если такие строки присутствуют, удалите их.**"
   ]
  },
  {
   "cell_type": "code",
   "execution_count": 15,
   "id": "4bd1ec8c",
   "metadata": {
    "deletable": false,
    "id": "3ee445e4",
    "outputId": "9684deba-1934-42d1-99e1-cda61740f822"
   },
   "outputs": [
    {
     "data": {
      "text/plain": [
       "71"
      ]
     },
     "execution_count": 15,
     "metadata": {},
     "output_type": "execute_result"
    }
   ],
   "source": [
    "data.duplicated().sum()"
   ]
  },
  {
   "cell_type": "code",
   "execution_count": 16,
   "id": "8d83c099",
   "metadata": {
    "deletable": false,
    "id": "8575fe05"
   },
   "outputs": [],
   "source": [
    "data = data.drop_duplicates()"
   ]
  },
  {
   "cell_type": "markdown",
   "id": "341d8f08",
   "metadata": {
    "deletable": false,
    "editable": false,
    "id": "9904cf55"
   },
   "source": [
    "### Категоризация данных"
   ]
  },
  {
   "cell_type": "markdown",
   "id": "b6b7fa58",
   "metadata": {
    "deletable": false,
    "editable": false,
    "id": "72fcc8a2"
   },
   "source": [
    "**Задание 16. На основании диапазонов, указанных ниже, создайте в датафрейме `data` столбец `total_income_category` с категориями:**\n",
    "\n",
    "- 0–30000 — `'E'`;\n",
    "- 30001–50000 — `'D'`;\n",
    "- 50001–200000 — `'C'`;\n",
    "- 200001–1000000 — `'B'`;\n",
    "- 1000001 и выше — `'A'`.\n",
    "\n",
    "\n",
    "**Например, кредитополучателю с доходом 25000 нужно назначить категорию `'E'`, а клиенту, получающему 235000, — `'B'`. Используйте собственную функцию с именем `categorize_income()` и метод `apply()`.**"
   ]
  },
  {
   "cell_type": "code",
   "execution_count": 17,
   "id": "401fdd2b",
   "metadata": {
    "deletable": false,
    "id": "e1771346"
   },
   "outputs": [],
   "source": [
    "def categorize_income(income):\n",
    "    try:\n",
    "        if 0 <= income <= 30000:\n",
    "            return 'E'\n",
    "        elif 30001 <= income <= 50000:\n",
    "            return 'D'\n",
    "        elif 50001 <= income <= 200000:\n",
    "            return 'C'\n",
    "        elif 200001 <= income <= 1000000:\n",
    "            return 'B'\n",
    "        elif income >= 1000001:\n",
    "            return 'A'\n",
    "    except:\n",
    "        pass"
   ]
  },
  {
   "cell_type": "code",
   "execution_count": 18,
   "id": "9a4c752a",
   "metadata": {
    "deletable": false,
    "id": "d5f3586d"
   },
   "outputs": [],
   "source": [
    "data['total_income_category'] = data['total_income'].apply(categorize_income)"
   ]
  },
  {
   "cell_type": "markdown",
   "id": "87da7412",
   "metadata": {
    "deletable": false,
    "editable": false,
    "id": "dde49b5c"
   },
   "source": [
    "**Задание 17. Выведите на экран перечень уникальных целей взятия кредита из столбца `purpose`.**"
   ]
  },
  {
   "cell_type": "code",
   "execution_count": 19,
   "id": "6530fa51",
   "metadata": {
    "deletable": false,
    "id": "f67ce9b3",
    "outputId": "673c12d9-7d7e-4ae0-9812-c622c89dd244"
   },
   "outputs": [
    {
     "data": {
      "text/plain": [
       "array(['покупка жилья', 'приобретение автомобиля',\n",
       "       'дополнительное образование', 'сыграть свадьбу',\n",
       "       'операции с жильем', 'образование', 'на проведение свадьбы',\n",
       "       'покупка жилья для семьи', 'покупка недвижимости',\n",
       "       'покупка коммерческой недвижимости', 'покупка жилой недвижимости',\n",
       "       'строительство собственной недвижимости', 'недвижимость',\n",
       "       'строительство недвижимости', 'на покупку подержанного автомобиля',\n",
       "       'на покупку своего автомобиля',\n",
       "       'операции с коммерческой недвижимостью',\n",
       "       'строительство жилой недвижимости', 'жилье',\n",
       "       'операции со своей недвижимостью', 'автомобили',\n",
       "       'заняться образованием', 'сделка с подержанным автомобилем',\n",
       "       'получение образования', 'автомобиль', 'свадьба',\n",
       "       'получение дополнительного образования', 'покупка своего жилья',\n",
       "       'операции с недвижимостью', 'получение высшего образования',\n",
       "       'свой автомобиль', 'сделка с автомобилем',\n",
       "       'профильное образование', 'высшее образование',\n",
       "       'покупка жилья для сдачи', 'на покупку автомобиля', 'ремонт жилью',\n",
       "       'заняться высшим образованием'], dtype=object)"
      ]
     },
     "execution_count": 19,
     "metadata": {},
     "output_type": "execute_result"
    }
   ],
   "source": [
    "data['purpose'].unique()"
   ]
  },
  {
   "cell_type": "markdown",
   "id": "3eceb4d1",
   "metadata": {
    "deletable": false,
    "editable": false,
    "id": "85d0aef0"
   },
   "source": [
    "**Задание 18. Создайте функцию, которая на основании данных из столбца `purpose` сформирует новый столбец `purpose_category`, в который войдут следующие категории:**\n",
    "\n",
    "- `'операции с автомобилем'`,\n",
    "- `'операции с недвижимостью'`,\n",
    "- `'проведение свадьбы'`,\n",
    "- `'получение образования'`.\n",
    "\n",
    "**Например, если в столбце `purpose` находится подстрока `'на покупку автомобиля'`, то в столбце `purpose_category` должна появиться строка `'операции с автомобилем'`.**\n",
    "\n",
    "**Используйте собственную функцию с именем `categorize_purpose()` и метод `apply()`. Изучите данные в столбце `purpose` и определите, какие подстроки помогут вам правильно определить категорию.**"
   ]
  },
  {
   "cell_type": "code",
   "execution_count": 20,
   "id": "04d58502",
   "metadata": {
    "deletable": false,
    "id": "e149fab4"
   },
   "outputs": [],
   "source": [
    "def categorize_purpose(row):\n",
    "    try:\n",
    "        if 'автом' in row:\n",
    "            return 'операции с автомобилем'\n",
    "        elif 'жил' in row or 'недвиж' in row:\n",
    "            return 'операции с недвижимостью'\n",
    "        elif 'свад' in row:\n",
    "            return 'проведение свадьбы'\n",
    "        elif 'образов' in row:\n",
    "            return 'получение образования'\n",
    "    except:\n",
    "        return 'нет категории'"
   ]
  },
  {
   "cell_type": "code",
   "execution_count": 21,
   "id": "20d24e0b",
   "metadata": {
    "deletable": false,
    "id": "bf36e69b"
   },
   "outputs": [],
   "source": [
    "data['purpose_category'] = data['purpose'].apply(categorize_purpose)"
   ]
  },
  {
   "cell_type": "markdown",
   "id": "21829775",
   "metadata": {
    "deletable": false,
    "editable": false,
    "id": "09b242bf"
   },
   "source": [
    "### Шаг 3. Исследуйте данные и ответьте на вопросы"
   ]
  },
  {
   "cell_type": "markdown",
   "id": "d659743f",
   "metadata": {
    "deletable": false,
    "editable": false,
    "id": "c5d66278"
   },
   "source": [
    "#### 3.1 Есть ли зависимость между количеством детей и возвратом кредита в срок?"
   ]
  },
  {
   "cell_type": "markdown",
   "id": "61bae0b4",
   "metadata": {},
   "source": [
    "Из описания проекта становится понятно, что за количество детей отвечает столбец `children`, а за возврат кредита столбец `debt`. Проверим столбец `debt` на заполненность и уникальность значений. Столбец `children` был проверен ранее."
   ]
  },
  {
   "cell_type": "code",
   "execution_count": 22,
   "id": "bcbcace0",
   "metadata": {
    "deletable": false,
    "id": "2cacfc4a"
   },
   "outputs": [
    {
     "data": {
      "text/plain": [
       "0"
      ]
     },
     "metadata": {},
     "output_type": "display_data"
    },
    {
     "data": {
      "text/plain": [
       "array([0, 1])"
      ]
     },
     "execution_count": 22,
     "metadata": {},
     "output_type": "execute_result"
    }
   ],
   "source": [
    "# Ваш код будет здесь. Вы можете создавать новые ячейки.\n",
    "display(data['debt'].isna().sum())\n",
    "data['debt'].unique()"
   ]
  },
  {
   "cell_type": "markdown",
   "id": "a81c2f42",
   "metadata": {},
   "source": [
    "Столбцы `children` и `debt` не содержат пропусков и содержат корректные значения.\n",
    "Посмотрим сколько задолженностей по возврату кредитов у семей с разным количеством детей."
   ]
  },
  {
   "cell_type": "code",
   "execution_count": 23,
   "id": "c5a5a6af",
   "metadata": {},
   "outputs": [
    {
     "data": {
      "text/plain": [
       "children\n",
       "0    1063\n",
       "1     444\n",
       "2     194\n",
       "3      27\n",
       "4       4\n",
       "5       0\n",
       "Name: debt, dtype: int64"
      ]
     },
     "execution_count": 23,
     "metadata": {},
     "output_type": "execute_result"
    }
   ],
   "source": [
    "data.groupby('children')['debt'].sum()"
   ]
  },
  {
   "cell_type": "markdown",
   "id": "8ccbc173",
   "metadata": {},
   "source": [
    "В абсолютных значениях, конечно ситуация выглядит так, что можно подумать, что дети подталкивают отдавать кредиты вовремя.\n",
    "Дополнительно заметим, что 1 в столбце `debt` означает наличие задолженности, иначе некому было бы давать это задание...\n",
    "\n",
    "Но давай проверим сколько всего кредитов берут семьи с разным количеством детей."
   ]
  },
  {
   "cell_type": "code",
   "execution_count": 24,
   "id": "eec5bec7",
   "metadata": {},
   "outputs": [
    {
     "data": {
      "text/plain": [
       "children\n",
       "0    14091\n",
       "1     4808\n",
       "2     2052\n",
       "3      330\n",
       "4       41\n",
       "5        9\n",
       "Name: debt, dtype: int64"
      ]
     },
     "execution_count": 24,
     "metadata": {},
     "output_type": "execute_result"
    }
   ],
   "source": [
    "data.groupby('children')['debt'].count()"
   ]
  },
  {
   "cell_type": "markdown",
   "id": "dad7070b",
   "metadata": {},
   "source": [
    "Становится понятно, что чем больше детей, тем меньше семьи готовы или могут брать кредиты, а вот долю возврата кредита нужно посчитать внимательно. И отсортировать по возрастанию."
   ]
  },
  {
   "cell_type": "code",
   "execution_count": 25,
   "id": "7c8f25fd",
   "metadata": {},
   "outputs": [
    {
     "data": {
      "text/html": [
       "<div>\n",
       "<style scoped>\n",
       "    .dataframe tbody tr th:only-of-type {\n",
       "        vertical-align: middle;\n",
       "    }\n",
       "\n",
       "    .dataframe tbody tr th {\n",
       "        vertical-align: top;\n",
       "    }\n",
       "\n",
       "    .dataframe thead tr th {\n",
       "        text-align: left;\n",
       "    }\n",
       "\n",
       "    .dataframe thead tr:last-of-type th {\n",
       "        text-align: right;\n",
       "    }\n",
       "</style>\n",
       "<table border=\"1\" class=\"dataframe\">\n",
       "  <thead>\n",
       "    <tr>\n",
       "      <th></th>\n",
       "      <th colspan=\"2\" halign=\"left\">debt</th>\n",
       "      <th>ratio</th>\n",
       "    </tr>\n",
       "    <tr>\n",
       "      <th></th>\n",
       "      <th>count</th>\n",
       "      <th>sum</th>\n",
       "      <th></th>\n",
       "    </tr>\n",
       "    <tr>\n",
       "      <th>children</th>\n",
       "      <th></th>\n",
       "      <th></th>\n",
       "      <th></th>\n",
       "    </tr>\n",
       "  </thead>\n",
       "  <tbody>\n",
       "    <tr>\n",
       "      <th>0</th>\n",
       "      <td>14091</td>\n",
       "      <td>1063</td>\n",
       "      <td>0.075438</td>\n",
       "    </tr>\n",
       "    <tr>\n",
       "      <th>1</th>\n",
       "      <td>4808</td>\n",
       "      <td>444</td>\n",
       "      <td>0.092346</td>\n",
       "    </tr>\n",
       "    <tr>\n",
       "      <th>2</th>\n",
       "      <td>2052</td>\n",
       "      <td>194</td>\n",
       "      <td>0.094542</td>\n",
       "    </tr>\n",
       "    <tr>\n",
       "      <th>3</th>\n",
       "      <td>330</td>\n",
       "      <td>27</td>\n",
       "      <td>0.081818</td>\n",
       "    </tr>\n",
       "    <tr>\n",
       "      <th>4</th>\n",
       "      <td>41</td>\n",
       "      <td>4</td>\n",
       "      <td>0.097561</td>\n",
       "    </tr>\n",
       "    <tr>\n",
       "      <th>5</th>\n",
       "      <td>9</td>\n",
       "      <td>0</td>\n",
       "      <td>0.000000</td>\n",
       "    </tr>\n",
       "  </tbody>\n",
       "</table>\n",
       "</div>"
      ],
      "text/plain": [
       "           debt           ratio\n",
       "          count   sum          \n",
       "children                       \n",
       "0         14091  1063  0.075438\n",
       "1          4808   444  0.092346\n",
       "2          2052   194  0.094542\n",
       "3           330    27  0.081818\n",
       "4            41     4  0.097561\n",
       "5             9     0  0.000000"
      ]
     },
     "metadata": {},
     "output_type": "display_data"
    },
    {
     "data": {
      "text/html": [
       "<div>\n",
       "<style scoped>\n",
       "    .dataframe tbody tr th:only-of-type {\n",
       "        vertical-align: middle;\n",
       "    }\n",
       "\n",
       "    .dataframe tbody tr th {\n",
       "        vertical-align: top;\n",
       "    }\n",
       "\n",
       "    .dataframe thead tr th {\n",
       "        text-align: left;\n",
       "    }\n",
       "\n",
       "    .dataframe thead tr:last-of-type th {\n",
       "        text-align: right;\n",
       "    }\n",
       "</style>\n",
       "<table border=\"1\" class=\"dataframe\">\n",
       "  <thead>\n",
       "    <tr>\n",
       "      <th></th>\n",
       "      <th colspan=\"2\" halign=\"left\">debt</th>\n",
       "      <th>ratio</th>\n",
       "    </tr>\n",
       "    <tr>\n",
       "      <th></th>\n",
       "      <th>count</th>\n",
       "      <th>sum</th>\n",
       "      <th></th>\n",
       "    </tr>\n",
       "    <tr>\n",
       "      <th>children</th>\n",
       "      <th></th>\n",
       "      <th></th>\n",
       "      <th></th>\n",
       "    </tr>\n",
       "  </thead>\n",
       "  <tbody>\n",
       "    <tr>\n",
       "      <th>5</th>\n",
       "      <td>9</td>\n",
       "      <td>0</td>\n",
       "      <td>0.000000</td>\n",
       "    </tr>\n",
       "    <tr>\n",
       "      <th>0</th>\n",
       "      <td>14091</td>\n",
       "      <td>1063</td>\n",
       "      <td>0.075438</td>\n",
       "    </tr>\n",
       "    <tr>\n",
       "      <th>3</th>\n",
       "      <td>330</td>\n",
       "      <td>27</td>\n",
       "      <td>0.081818</td>\n",
       "    </tr>\n",
       "    <tr>\n",
       "      <th>1</th>\n",
       "      <td>4808</td>\n",
       "      <td>444</td>\n",
       "      <td>0.092346</td>\n",
       "    </tr>\n",
       "    <tr>\n",
       "      <th>2</th>\n",
       "      <td>2052</td>\n",
       "      <td>194</td>\n",
       "      <td>0.094542</td>\n",
       "    </tr>\n",
       "    <tr>\n",
       "      <th>4</th>\n",
       "      <td>41</td>\n",
       "      <td>4</td>\n",
       "      <td>0.097561</td>\n",
       "    </tr>\n",
       "  </tbody>\n",
       "</table>\n",
       "</div>"
      ],
      "text/plain": [
       "           debt           ratio\n",
       "          count   sum          \n",
       "children                       \n",
       "5             9     0  0.000000\n",
       "0         14091  1063  0.075438\n",
       "3           330    27  0.081818\n",
       "1          4808   444  0.092346\n",
       "2          2052   194  0.094542\n",
       "4            41     4  0.097561"
      ]
     },
     "execution_count": 25,
     "metadata": {},
     "output_type": "execute_result"
    }
   ],
   "source": [
    "data_children_debt= data.groupby('children').agg({'debt':['count', 'sum']})\n",
    "data_children_debt['ratio'] = data_children_debt['debt']['sum'] / data_children_debt['debt']['count']\n",
    "display(data_children_debt)\n",
    "data_children_debt.sort_values(by='ratio')"
   ]
  },
  {
   "cell_type": "markdown",
   "id": "4c6fcb5c",
   "metadata": {},
   "source": [
    "Оказалось, доля кредитов с задолженностями среди семей с детьми выше, чем у заемщиков без детей. А вдруг дети не виноваты?"
   ]
  },
  {
   "cell_type": "markdown",
   "id": "3638a607",
   "metadata": {
    "deletable": false,
    "id": "3a6b99ec"
   },
   "source": [
    "**Вывод:** "
   ]
  },
  {
   "cell_type": "markdown",
   "id": "0219c01a",
   "metadata": {},
   "source": [
    "При анализе данных выяснилось, что **зависимость между количеством детей и возвратом кредитов в срок сущестует: семьи с детьми возращали кредиты до 2,3% хуже** чем заёмщики без детей. Но **важно отметить, что и количество заемщиков с детьми падает в геометрической прогрессии с увеличением детей** из-за чего данные для семей с 3 и более детьми можно поставить под сомнение с точки зрения статистики."
   ]
  },
  {
   "cell_type": "code",
   "execution_count": 26,
   "id": "74dc5f31",
   "metadata": {},
   "outputs": [
    {
     "data": {
      "image/png": "[encoded data removed]",
      "text/plain": [
       "<Figure size 432x288 with 1 Axes>"
      ]
     },
     "metadata": {
      "needs_background": "light"
     },
     "output_type": "display_data"
    }
   ],
   "source": [
    "sns.barplot(\n",
    "    x=\"children\", \n",
    "    y=\"debt\",\n",
    "    ci=None,\n",
    "    data=data\n",
    ")\n",
    "plt.xlabel('Количество детей')\n",
    "plt.ylabel('Доля кредитов с нарушением срока')\n",
    "plt.title(\"Зависимость количества детей и уплаты кредитов в срок\")\n",
    "plt.show()"
   ]
  },
  {
   "cell_type": "markdown",
   "id": "72e1eb99",
   "metadata": {
    "deletable": false,
    "editable": false,
    "id": "97be82ca"
   },
   "source": [
    "#### 3.2 Есть ли зависимость между семейным положением и возвратом кредита в срок?"
   ]
  },
  {
   "cell_type": "code",
   "execution_count": 27,
   "id": "60c0a889",
   "metadata": {
    "deletable": false,
    "id": "dc3f7ee8",
    "scrolled": false
   },
   "outputs": [
    {
     "data": {
      "text/html": [
       "<div>\n",
       "<style scoped>\n",
       "    .dataframe tbody tr th:only-of-type {\n",
       "        vertical-align: middle;\n",
       "    }\n",
       "\n",
       "    .dataframe tbody tr th {\n",
       "        vertical-align: top;\n",
       "    }\n",
       "\n",
       "    .dataframe thead th {\n",
       "        text-align: right;\n",
       "    }\n",
       "</style>\n",
       "<table border=\"1\" class=\"dataframe\">\n",
       "  <thead>\n",
       "    <tr style=\"text-align: right;\">\n",
       "      <th></th>\n",
       "      <th>children</th>\n",
       "      <th>days_employed</th>\n",
       "      <th>dob_years</th>\n",
       "      <th>education</th>\n",
       "      <th>education_id</th>\n",
       "      <th>family_status</th>\n",
       "      <th>family_status_id</th>\n",
       "      <th>gender</th>\n",
       "      <th>income_type</th>\n",
       "      <th>debt</th>\n",
       "      <th>total_income</th>\n",
       "      <th>purpose</th>\n",
       "      <th>total_income_category</th>\n",
       "      <th>purpose_category</th>\n",
       "    </tr>\n",
       "  </thead>\n",
       "  <tbody>\n",
       "    <tr>\n",
       "      <th>0</th>\n",
       "      <td>1</td>\n",
       "      <td>8437.673028</td>\n",
       "      <td>42</td>\n",
       "      <td>высшее</td>\n",
       "      <td>0</td>\n",
       "      <td>женат / замужем</td>\n",
       "      <td>0</td>\n",
       "      <td>F</td>\n",
       "      <td>сотрудник</td>\n",
       "      <td>0</td>\n",
       "      <td>253875</td>\n",
       "      <td>покупка жилья</td>\n",
       "      <td>B</td>\n",
       "      <td>операции с недвижимостью</td>\n",
       "    </tr>\n",
       "    <tr>\n",
       "      <th>1</th>\n",
       "      <td>1</td>\n",
       "      <td>4024.803754</td>\n",
       "      <td>36</td>\n",
       "      <td>среднее</td>\n",
       "      <td>1</td>\n",
       "      <td>женат / замужем</td>\n",
       "      <td>0</td>\n",
       "      <td>F</td>\n",
       "      <td>сотрудник</td>\n",
       "      <td>0</td>\n",
       "      <td>112080</td>\n",
       "      <td>приобретение автомобиля</td>\n",
       "      <td>C</td>\n",
       "      <td>операции с автомобилем</td>\n",
       "    </tr>\n",
       "    <tr>\n",
       "      <th>2</th>\n",
       "      <td>0</td>\n",
       "      <td>5623.422610</td>\n",
       "      <td>33</td>\n",
       "      <td>среднее</td>\n",
       "      <td>1</td>\n",
       "      <td>женат / замужем</td>\n",
       "      <td>0</td>\n",
       "      <td>M</td>\n",
       "      <td>сотрудник</td>\n",
       "      <td>0</td>\n",
       "      <td>145885</td>\n",
       "      <td>покупка жилья</td>\n",
       "      <td>C</td>\n",
       "      <td>операции с недвижимостью</td>\n",
       "    </tr>\n",
       "    <tr>\n",
       "      <th>3</th>\n",
       "      <td>3</td>\n",
       "      <td>4124.747207</td>\n",
       "      <td>32</td>\n",
       "      <td>среднее</td>\n",
       "      <td>1</td>\n",
       "      <td>женат / замужем</td>\n",
       "      <td>0</td>\n",
       "      <td>M</td>\n",
       "      <td>сотрудник</td>\n",
       "      <td>0</td>\n",
       "      <td>267628</td>\n",
       "      <td>дополнительное образование</td>\n",
       "      <td>B</td>\n",
       "      <td>получение образования</td>\n",
       "    </tr>\n",
       "    <tr>\n",
       "      <th>4</th>\n",
       "      <td>0</td>\n",
       "      <td>340266.072047</td>\n",
       "      <td>53</td>\n",
       "      <td>среднее</td>\n",
       "      <td>1</td>\n",
       "      <td>гражданский брак</td>\n",
       "      <td>1</td>\n",
       "      <td>F</td>\n",
       "      <td>пенсионер</td>\n",
       "      <td>0</td>\n",
       "      <td>158616</td>\n",
       "      <td>сыграть свадьбу</td>\n",
       "      <td>C</td>\n",
       "      <td>проведение свадьбы</td>\n",
       "    </tr>\n",
       "  </tbody>\n",
       "</table>\n",
       "</div>"
      ],
      "text/plain": [
       "   children  days_employed  dob_years education  education_id  \\\n",
       "0         1    8437.673028         42    высшее             0   \n",
       "1         1    4024.803754         36   среднее             1   \n",
       "2         0    5623.422610         33   среднее             1   \n",
       "3         3    4124.747207         32   среднее             1   \n",
       "4         0  340266.072047         53   среднее             1   \n",
       "\n",
       "      family_status  family_status_id gender income_type  debt  total_income  \\\n",
       "0   женат / замужем                 0      F   сотрудник     0        253875   \n",
       "1   женат / замужем                 0      F   сотрудник     0        112080   \n",
       "2   женат / замужем                 0      M   сотрудник     0        145885   \n",
       "3   женат / замужем                 0      M   сотрудник     0        267628   \n",
       "4  гражданский брак                 1      F   пенсионер     0        158616   \n",
       "\n",
       "                      purpose total_income_category          purpose_category  \n",
       "0               покупка жилья                     B  операции с недвижимостью  \n",
       "1     приобретение автомобиля                     C    операции с автомобилем  \n",
       "2               покупка жилья                     C  операции с недвижимостью  \n",
       "3  дополнительное образование                     B     получение образования  \n",
       "4             сыграть свадьбу                     C        проведение свадьбы  "
      ]
     },
     "execution_count": 27,
     "metadata": {},
     "output_type": "execute_result"
    }
   ],
   "source": [
    "# Ваш код будет здесь. Вы можете создавать новые ячейки.\n",
    "data.head(5)"
   ]
  },
  {
   "cell_type": "markdown",
   "id": "4055f5a3",
   "metadata": {},
   "source": [
    "Из информации выше видно, что семейное положение отражено с столбцах `family_status` и `family_status_id`, а возврат кредита в столбце `debt`. Хорошо, что пропусков у нас в этих столбцах нет, и с типами данных тоже все хорошо.\n",
    "\n",
    "1 в столбце `debt` показывает, что есть задолженность по кредиту, а вот семейным положением нужно разобраться."
   ]
  },
  {
   "cell_type": "code",
   "execution_count": 28,
   "id": "8c318b6a",
   "metadata": {},
   "outputs": [
    {
     "data": {
      "text/plain": [
       "family_status          family_status_id\n",
       "Не женат / не замужем  4                    2796\n",
       "в разводе              3                    1189\n",
       "вдовец / вдова         2                     951\n",
       "гражданский брак       1                    4134\n",
       "женат / замужем        0                   12261\n",
       "Name: family_status_id, dtype: int64"
      ]
     },
     "execution_count": 28,
     "metadata": {},
     "output_type": "execute_result"
    }
   ],
   "source": [
    "# data.groupby('family_status')['family_status_id'].unique()\n",
    "data.groupby('family_status')['family_status_id'].value_counts()"
   ]
  },
  {
   "cell_type": "markdown",
   "id": "0dc3be0e",
   "metadata": {},
   "source": [
    "Соотношение значений в столбцах `family_status` и `family_status_id` правильное. Мы можем работать с любым их этих столбцов.\n",
    "\n",
    "Начнем исследование: Найдем доли возвратов вовремя кредитов для разных семейных статусов."
   ]
  },
  {
   "cell_type": "code",
   "execution_count": 29,
   "id": "268a9985",
   "metadata": {},
   "outputs": [
    {
     "data": {
      "text/html": [
       "<div>\n",
       "<style scoped>\n",
       "    .dataframe tbody tr th:only-of-type {\n",
       "        vertical-align: middle;\n",
       "    }\n",
       "\n",
       "    .dataframe tbody tr th {\n",
       "        vertical-align: top;\n",
       "    }\n",
       "\n",
       "    .dataframe thead tr th {\n",
       "        text-align: left;\n",
       "    }\n",
       "\n",
       "    .dataframe thead tr:last-of-type th {\n",
       "        text-align: right;\n",
       "    }\n",
       "</style>\n",
       "<table border=\"1\" class=\"dataframe\">\n",
       "  <thead>\n",
       "    <tr>\n",
       "      <th></th>\n",
       "      <th>sum</th>\n",
       "      <th>count</th>\n",
       "      <th>ratio</th>\n",
       "    </tr>\n",
       "    <tr>\n",
       "      <th></th>\n",
       "      <th>debt</th>\n",
       "      <th>debt</th>\n",
       "      <th></th>\n",
       "    </tr>\n",
       "    <tr>\n",
       "      <th>family_status</th>\n",
       "      <th></th>\n",
       "      <th></th>\n",
       "      <th></th>\n",
       "    </tr>\n",
       "  </thead>\n",
       "  <tbody>\n",
       "    <tr>\n",
       "      <th>Не женат / не замужем</th>\n",
       "      <td>273</td>\n",
       "      <td>2796</td>\n",
       "      <td>0.097639</td>\n",
       "    </tr>\n",
       "    <tr>\n",
       "      <th>в разводе</th>\n",
       "      <td>84</td>\n",
       "      <td>1189</td>\n",
       "      <td>0.070648</td>\n",
       "    </tr>\n",
       "    <tr>\n",
       "      <th>вдовец / вдова</th>\n",
       "      <td>63</td>\n",
       "      <td>951</td>\n",
       "      <td>0.066246</td>\n",
       "    </tr>\n",
       "    <tr>\n",
       "      <th>гражданский брак</th>\n",
       "      <td>385</td>\n",
       "      <td>4134</td>\n",
       "      <td>0.093130</td>\n",
       "    </tr>\n",
       "    <tr>\n",
       "      <th>женат / замужем</th>\n",
       "      <td>927</td>\n",
       "      <td>12261</td>\n",
       "      <td>0.075606</td>\n",
       "    </tr>\n",
       "  </tbody>\n",
       "</table>\n",
       "</div>"
      ],
      "text/plain": [
       "                       sum  count     ratio\n",
       "                      debt   debt          \n",
       "family_status                              \n",
       "Не женат / не замужем  273   2796  0.097639\n",
       "в разводе               84   1189  0.070648\n",
       "вдовец / вдова          63    951  0.066246\n",
       "гражданский брак       385   4134  0.093130\n",
       "женат / замужем        927  12261  0.075606"
      ]
     },
     "execution_count": 29,
     "metadata": {},
     "output_type": "execute_result"
    }
   ],
   "source": [
    "data_family_debt = data.pivot_table(index='family_status', values='debt', aggfunc=[ 'sum', 'count'])\n",
    "data_family_debt['ratio'] = data_family_debt['sum']['debt'] / data_family_debt['count']['debt']\n",
    "data_family_debt"
   ]
  },
  {
   "cell_type": "markdown",
   "id": "03c4829d",
   "metadata": {},
   "source": [
    "Отсортируем."
   ]
  },
  {
   "cell_type": "code",
   "execution_count": 30,
   "id": "3178702b",
   "metadata": {},
   "outputs": [
    {
     "data": {
      "text/html": [
       "<div>\n",
       "<style scoped>\n",
       "    .dataframe tbody tr th:only-of-type {\n",
       "        vertical-align: middle;\n",
       "    }\n",
       "\n",
       "    .dataframe tbody tr th {\n",
       "        vertical-align: top;\n",
       "    }\n",
       "\n",
       "    .dataframe thead tr th {\n",
       "        text-align: left;\n",
       "    }\n",
       "\n",
       "    .dataframe thead tr:last-of-type th {\n",
       "        text-align: right;\n",
       "    }\n",
       "</style>\n",
       "<table border=\"1\" class=\"dataframe\">\n",
       "  <thead>\n",
       "    <tr>\n",
       "      <th></th>\n",
       "      <th>sum</th>\n",
       "      <th>count</th>\n",
       "      <th>ratio</th>\n",
       "    </tr>\n",
       "    <tr>\n",
       "      <th></th>\n",
       "      <th>debt</th>\n",
       "      <th>debt</th>\n",
       "      <th></th>\n",
       "    </tr>\n",
       "    <tr>\n",
       "      <th>family_status</th>\n",
       "      <th></th>\n",
       "      <th></th>\n",
       "      <th></th>\n",
       "    </tr>\n",
       "  </thead>\n",
       "  <tbody>\n",
       "    <tr>\n",
       "      <th>вдовец / вдова</th>\n",
       "      <td>63</td>\n",
       "      <td>951</td>\n",
       "      <td>0.066246</td>\n",
       "    </tr>\n",
       "    <tr>\n",
       "      <th>в разводе</th>\n",
       "      <td>84</td>\n",
       "      <td>1189</td>\n",
       "      <td>0.070648</td>\n",
       "    </tr>\n",
       "    <tr>\n",
       "      <th>женат / замужем</th>\n",
       "      <td>927</td>\n",
       "      <td>12261</td>\n",
       "      <td>0.075606</td>\n",
       "    </tr>\n",
       "    <tr>\n",
       "      <th>гражданский брак</th>\n",
       "      <td>385</td>\n",
       "      <td>4134</td>\n",
       "      <td>0.093130</td>\n",
       "    </tr>\n",
       "    <tr>\n",
       "      <th>Не женат / не замужем</th>\n",
       "      <td>273</td>\n",
       "      <td>2796</td>\n",
       "      <td>0.097639</td>\n",
       "    </tr>\n",
       "  </tbody>\n",
       "</table>\n",
       "</div>"
      ],
      "text/plain": [
       "                       sum  count     ratio\n",
       "                      debt   debt          \n",
       "family_status                              \n",
       "вдовец / вдова          63    951  0.066246\n",
       "в разводе               84   1189  0.070648\n",
       "женат / замужем        927  12261  0.075606\n",
       "гражданский брак       385   4134  0.093130\n",
       "Не женат / не замужем  273   2796  0.097639"
      ]
     },
     "execution_count": 30,
     "metadata": {},
     "output_type": "execute_result"
    }
   ],
   "source": [
    "data_family_debt.sort_values(by='ratio')"
   ]
  },
  {
   "cell_type": "markdown",
   "id": "5d36f0cf",
   "metadata": {
    "deletable": false,
    "id": "1cef7837"
   },
   "source": [
    "**Вывод:** "
   ]
  },
  {
   "cell_type": "markdown",
   "id": "7450a135",
   "metadata": {},
   "source": [
    "**Зависимость между семейным положением и возвратом кредита в срок существует**. Она выражена в том, что люди официально оформившие брак возвращают кредиты в срок лучше. Из таблицы выше видим, что у категорий *гражданский брак* и *Не женат / не замужем* доля возврата кредитов в срок хуже на 1,7% и более по сравнению с другими категориями."
   ]
  },
  {
   "cell_type": "code",
   "execution_count": 47,
   "id": "1915b317",
   "metadata": {},
   "outputs": [
    {
     "data": {
      "image/png": "[encoded data removed]",
      "text/plain": [
       "<Figure size 432x288 with 1 Axes>"
      ]
     },
     "metadata": {
      "needs_background": "light"
     },
     "output_type": "display_data"
    }
   ],
   "source": [
    "sns.barplot(\n",
    "    x='family_status_id', \n",
    "    y=\"debt\",\n",
    "    ci=None,\n",
    "    data=data,\n",
    "   )\n",
    "plt.xlabel('Семейное положение')\n",
    "plt.ylabel('Доля кредитов с нарушением срока')\n",
    "plt.title(\"Зависимость уплаты кредитов в срок и семейного положения\")\n",
    "plt.show()"
   ]
  },
  {
   "cell_type": "markdown",
   "id": "46f4a0ff",
   "metadata": {
    "deletable": false,
    "editable": false,
    "id": "1e8b2fca"
   },
   "source": [
    "#### 3.3 Есть ли зависимость между уровнем дохода и возвратом кредита в срок?"
   ]
  },
  {
   "cell_type": "markdown",
   "id": "ffda6564",
   "metadata": {
    "deletable": false,
    "id": "cd7e3720"
   },
   "source": [
    "В Задании 16 мы уже сделали категоризацию доходов.\n",
    "- 0–30000 — `'E'`;\n",
    "- 30001–50000 — `'D'`;\n",
    "- 50001–200000 — `'C'`;\n",
    "- 200001–1000000 — `'B'`;\n",
    "- 1000001 и выше — `'A'`.\n",
    "Она отражена в столбце `total_income_category`. \n",
    "\n",
    "Возврат кредита в срок опраделяется в столбце `debt`, где 1 означает, задолженность существует. \n",
    "\n",
    "Пропусков в обоих столбцах нет. Поэтому перейдем к анализу."
   ]
  },
  {
   "cell_type": "code",
   "execution_count": 32,
   "id": "761baddc",
   "metadata": {},
   "outputs": [
    {
     "data": {
      "text/html": [
       "<div>\n",
       "<style scoped>\n",
       "    .dataframe tbody tr th:only-of-type {\n",
       "        vertical-align: middle;\n",
       "    }\n",
       "\n",
       "    .dataframe tbody tr th {\n",
       "        vertical-align: top;\n",
       "    }\n",
       "\n",
       "    .dataframe thead tr th {\n",
       "        text-align: left;\n",
       "    }\n",
       "\n",
       "    .dataframe thead tr:last-of-type th {\n",
       "        text-align: right;\n",
       "    }\n",
       "</style>\n",
       "<table border=\"1\" class=\"dataframe\">\n",
       "  <thead>\n",
       "    <tr>\n",
       "      <th></th>\n",
       "      <th>sum</th>\n",
       "      <th>count</th>\n",
       "      <th>ratio</th>\n",
       "    </tr>\n",
       "    <tr>\n",
       "      <th></th>\n",
       "      <th>debt</th>\n",
       "      <th>debt</th>\n",
       "      <th></th>\n",
       "    </tr>\n",
       "    <tr>\n",
       "      <th>total_income_category</th>\n",
       "      <th></th>\n",
       "      <th></th>\n",
       "      <th></th>\n",
       "    </tr>\n",
       "  </thead>\n",
       "  <tbody>\n",
       "    <tr>\n",
       "      <th>A</th>\n",
       "      <td>2</td>\n",
       "      <td>25</td>\n",
       "      <td>0.080000</td>\n",
       "    </tr>\n",
       "    <tr>\n",
       "      <th>B</th>\n",
       "      <td>354</td>\n",
       "      <td>5014</td>\n",
       "      <td>0.070602</td>\n",
       "    </tr>\n",
       "    <tr>\n",
       "      <th>C</th>\n",
       "      <td>1353</td>\n",
       "      <td>15921</td>\n",
       "      <td>0.084982</td>\n",
       "    </tr>\n",
       "    <tr>\n",
       "      <th>D</th>\n",
       "      <td>21</td>\n",
       "      <td>349</td>\n",
       "      <td>0.060172</td>\n",
       "    </tr>\n",
       "    <tr>\n",
       "      <th>E</th>\n",
       "      <td>2</td>\n",
       "      <td>22</td>\n",
       "      <td>0.090909</td>\n",
       "    </tr>\n",
       "  </tbody>\n",
       "</table>\n",
       "</div>"
      ],
      "text/plain": [
       "                        sum  count     ratio\n",
       "                       debt   debt          \n",
       "total_income_category                       \n",
       "A                         2     25  0.080000\n",
       "B                       354   5014  0.070602\n",
       "C                      1353  15921  0.084982\n",
       "D                        21    349  0.060172\n",
       "E                         2     22  0.090909"
      ]
     },
     "execution_count": 32,
     "metadata": {},
     "output_type": "execute_result"
    }
   ],
   "source": [
    "data_income_debt = data.pivot_table(index='total_income_category', values='debt', aggfunc=[ 'sum', 'count'])\n",
    "data_income_debt['ratio'] = data_income_debt['sum']['debt'] / data_income_debt['count']['debt']\n",
    "data_income_debt"
   ]
  },
  {
   "cell_type": "markdown",
   "id": "e85363a9",
   "metadata": {},
   "source": [
    "Отсортируем."
   ]
  },
  {
   "cell_type": "code",
   "execution_count": 33,
   "id": "a87d97a4",
   "metadata": {},
   "outputs": [
    {
     "data": {
      "text/html": [
       "<div>\n",
       "<style scoped>\n",
       "    .dataframe tbody tr th:only-of-type {\n",
       "        vertical-align: middle;\n",
       "    }\n",
       "\n",
       "    .dataframe tbody tr th {\n",
       "        vertical-align: top;\n",
       "    }\n",
       "\n",
       "    .dataframe thead tr th {\n",
       "        text-align: left;\n",
       "    }\n",
       "\n",
       "    .dataframe thead tr:last-of-type th {\n",
       "        text-align: right;\n",
       "    }\n",
       "</style>\n",
       "<table border=\"1\" class=\"dataframe\">\n",
       "  <thead>\n",
       "    <tr>\n",
       "      <th></th>\n",
       "      <th>sum</th>\n",
       "      <th>count</th>\n",
       "      <th>ratio</th>\n",
       "    </tr>\n",
       "    <tr>\n",
       "      <th></th>\n",
       "      <th>debt</th>\n",
       "      <th>debt</th>\n",
       "      <th></th>\n",
       "    </tr>\n",
       "    <tr>\n",
       "      <th>total_income_category</th>\n",
       "      <th></th>\n",
       "      <th></th>\n",
       "      <th></th>\n",
       "    </tr>\n",
       "  </thead>\n",
       "  <tbody>\n",
       "    <tr>\n",
       "      <th>D</th>\n",
       "      <td>21</td>\n",
       "      <td>349</td>\n",
       "      <td>0.060172</td>\n",
       "    </tr>\n",
       "    <tr>\n",
       "      <th>B</th>\n",
       "      <td>354</td>\n",
       "      <td>5014</td>\n",
       "      <td>0.070602</td>\n",
       "    </tr>\n",
       "    <tr>\n",
       "      <th>A</th>\n",
       "      <td>2</td>\n",
       "      <td>25</td>\n",
       "      <td>0.080000</td>\n",
       "    </tr>\n",
       "    <tr>\n",
       "      <th>C</th>\n",
       "      <td>1353</td>\n",
       "      <td>15921</td>\n",
       "      <td>0.084982</td>\n",
       "    </tr>\n",
       "    <tr>\n",
       "      <th>E</th>\n",
       "      <td>2</td>\n",
       "      <td>22</td>\n",
       "      <td>0.090909</td>\n",
       "    </tr>\n",
       "  </tbody>\n",
       "</table>\n",
       "</div>"
      ],
      "text/plain": [
       "                        sum  count     ratio\n",
       "                       debt   debt          \n",
       "total_income_category                       \n",
       "D                        21    349  0.060172\n",
       "B                       354   5014  0.070602\n",
       "A                         2     25  0.080000\n",
       "C                      1353  15921  0.084982\n",
       "E                         2     22  0.090909"
      ]
     },
     "execution_count": 33,
     "metadata": {},
     "output_type": "execute_result"
    }
   ],
   "source": [
    "data_income_debt.sort_values(by='ratio')"
   ]
  },
  {
   "cell_type": "code",
   "execution_count": 34,
   "id": "4bafcd9e",
   "metadata": {},
   "outputs": [
    {
     "data": {
      "text/plain": [
       "0.07733308466327596"
      ]
     },
     "execution_count": 34,
     "metadata": {},
     "output_type": "execute_result"
    }
   ],
   "source": [
    "data_income_debt['ratio'].mean()  # среднее"
   ]
  },
  {
   "cell_type": "code",
   "execution_count": 35,
   "id": "086d1ed4",
   "metadata": {},
   "outputs": [
    {
     "data": {
      "text/plain": [
       "0.08"
      ]
     },
     "execution_count": 35,
     "metadata": {},
     "output_type": "execute_result"
    }
   ],
   "source": [
    "data_income_debt['ratio'].median() # медиана"
   ]
  },
  {
   "cell_type": "markdown",
   "id": "015bfdc4",
   "metadata": {},
   "source": [
    "Количество кредитов для категорий А, Е и D очень мало и трудно их оценивать. Но можно отметить, что при доходах меньше 30000 (категория E), трудно обслуживать кредиты, что подтверждается высокой долей не возврата.\n",
    "\n",
    "Для остальных же категорий разброс долей не значительный (менее 1% от средней и медианы) и может быть связан больше с разницей количества выданных кредитов. Поэтому выводы сделаем относительно каждой категории."
   ]
  },
  {
   "cell_type": "markdown",
   "id": "1b402a13",
   "metadata": {
    "deletable": false,
    "id": "e8593def"
   },
   "source": [
    "**Вывод:** "
   ]
  },
  {
   "cell_type": "markdown",
   "id": "b56a2f84",
   "metadata": {},
   "source": [
    "**Системной зависимости уровня дохода и возвратом кредита в срок не обнаружено**, но возможно сделать выводы для каждой из категорий:\n",
    "- Чаще всего кредиты выдаются категориям **C** и **B** (доходы от 50001 до 1000000).\n",
    "- Категория **C** с доходом от 500001 до 200000 имеет долю кредитов с нарушением сроков платежей не многим выше среднего, а категория **B** вторая по значимости не многим ниже среднего.\n",
    "- При доходах меньше 30000 (категория **E**), трудно обслуживать кредиты, что подтверждается высокой долей не возврата.\n",
    "- Категория **D** редко пользуется кредитами, но доля задержек выплат по кредитам очень низкая.\n",
    "- Категория **A** требует индивидуального подхода."
   ]
  },
  {
   "cell_type": "markdown",
   "id": "a396723f",
   "metadata": {
    "deletable": false,
    "editable": false,
    "id": "99ecbd1f"
   },
   "source": [
    "#### 3.4 Как разные цели кредита влияют на его возврат в срок?"
   ]
  },
  {
   "cell_type": "markdown",
   "id": "071ff66d",
   "metadata": {
    "deletable": false,
    "id": "2b687290"
   },
   "source": [
    " В Задании 18 уже сделана категоризация целей кредита: столбец `purpose_category`. Проверим данные."
   ]
  },
  {
   "cell_type": "code",
   "execution_count": 36,
   "id": "bd54019a",
   "metadata": {},
   "outputs": [
    {
     "data": {
      "text/plain": [
       "операции с недвижимостью    10751\n",
       "операции с автомобилем       4279\n",
       "получение образования        3988\n",
       "проведение свадьбы           2313\n",
       "Name: purpose_category, dtype: int64"
      ]
     },
     "execution_count": 36,
     "metadata": {},
     "output_type": "execute_result"
    }
   ],
   "source": [
    "data['purpose_category'].value_counts() # проверим значения"
   ]
  },
  {
   "cell_type": "code",
   "execution_count": 37,
   "id": "7edddf6b",
   "metadata": {},
   "outputs": [
    {
     "data": {
      "text/plain": [
       "0"
      ]
     },
     "execution_count": 37,
     "metadata": {},
     "output_type": "execute_result"
    }
   ],
   "source": [
    "data['purpose_category'].isna().sum() # проверим на пропуски данных"
   ]
  },
  {
   "cell_type": "markdown",
   "id": "db6b76a8",
   "metadata": {},
   "source": [
    "Возврат кредита в срок опраделяется в столбце `debt`, где 1 означает, задолженность существует. \n",
    "\n",
    "Пропусков в обоих столбцах нет. Поэтому перейдем к анализу. Найдем долю просроченных кредитов по каждой категории целей кредита."
   ]
  },
  {
   "cell_type": "code",
   "execution_count": 38,
   "id": "90a034ff",
   "metadata": {},
   "outputs": [
    {
     "data": {
      "text/html": [
       "<div>\n",
       "<style scoped>\n",
       "    .dataframe tbody tr th:only-of-type {\n",
       "        vertical-align: middle;\n",
       "    }\n",
       "\n",
       "    .dataframe tbody tr th {\n",
       "        vertical-align: top;\n",
       "    }\n",
       "\n",
       "    .dataframe thead tr th {\n",
       "        text-align: left;\n",
       "    }\n",
       "\n",
       "    .dataframe thead tr:last-of-type th {\n",
       "        text-align: right;\n",
       "    }\n",
       "</style>\n",
       "<table border=\"1\" class=\"dataframe\">\n",
       "  <thead>\n",
       "    <tr>\n",
       "      <th></th>\n",
       "      <th>sum</th>\n",
       "      <th>count</th>\n",
       "      <th>ratio</th>\n",
       "    </tr>\n",
       "    <tr>\n",
       "      <th></th>\n",
       "      <th>debt</th>\n",
       "      <th>debt</th>\n",
       "      <th></th>\n",
       "    </tr>\n",
       "    <tr>\n",
       "      <th>purpose_category</th>\n",
       "      <th></th>\n",
       "      <th></th>\n",
       "      <th></th>\n",
       "    </tr>\n",
       "  </thead>\n",
       "  <tbody>\n",
       "    <tr>\n",
       "      <th>операции с автомобилем</th>\n",
       "      <td>400</td>\n",
       "      <td>4279</td>\n",
       "      <td>0.093480</td>\n",
       "    </tr>\n",
       "    <tr>\n",
       "      <th>операции с недвижимостью</th>\n",
       "      <td>780</td>\n",
       "      <td>10751</td>\n",
       "      <td>0.072551</td>\n",
       "    </tr>\n",
       "    <tr>\n",
       "      <th>получение образования</th>\n",
       "      <td>369</td>\n",
       "      <td>3988</td>\n",
       "      <td>0.092528</td>\n",
       "    </tr>\n",
       "    <tr>\n",
       "      <th>проведение свадьбы</th>\n",
       "      <td>183</td>\n",
       "      <td>2313</td>\n",
       "      <td>0.079118</td>\n",
       "    </tr>\n",
       "  </tbody>\n",
       "</table>\n",
       "</div>"
      ],
      "text/plain": [
       "                          sum  count     ratio\n",
       "                         debt   debt          \n",
       "purpose_category                              \n",
       "операции с автомобилем    400   4279  0.093480\n",
       "операции с недвижимостью  780  10751  0.072551\n",
       "получение образования     369   3988  0.092528\n",
       "проведение свадьбы        183   2313  0.079118"
      ]
     },
     "execution_count": 38,
     "metadata": {},
     "output_type": "execute_result"
    }
   ],
   "source": [
    "data_purpose_debt = data.pivot_table(index='purpose_category', values='debt', aggfunc=[ 'sum', 'count'])\n",
    "data_purpose_debt['ratio'] = data_purpose_debt['sum']['debt'] / data_purpose_debt['count']['debt']\n",
    "data_purpose_debt"
   ]
  },
  {
   "cell_type": "markdown",
   "id": "744677a2",
   "metadata": {},
   "source": [
    "Отсортируем."
   ]
  },
  {
   "cell_type": "code",
   "execution_count": 39,
   "id": "90c72870",
   "metadata": {},
   "outputs": [
    {
     "data": {
      "text/html": [
       "<div>\n",
       "<style scoped>\n",
       "    .dataframe tbody tr th:only-of-type {\n",
       "        vertical-align: middle;\n",
       "    }\n",
       "\n",
       "    .dataframe tbody tr th {\n",
       "        vertical-align: top;\n",
       "    }\n",
       "\n",
       "    .dataframe thead tr th {\n",
       "        text-align: left;\n",
       "    }\n",
       "\n",
       "    .dataframe thead tr:last-of-type th {\n",
       "        text-align: right;\n",
       "    }\n",
       "</style>\n",
       "<table border=\"1\" class=\"dataframe\">\n",
       "  <thead>\n",
       "    <tr>\n",
       "      <th></th>\n",
       "      <th>sum</th>\n",
       "      <th>count</th>\n",
       "      <th>ratio</th>\n",
       "    </tr>\n",
       "    <tr>\n",
       "      <th></th>\n",
       "      <th>debt</th>\n",
       "      <th>debt</th>\n",
       "      <th></th>\n",
       "    </tr>\n",
       "    <tr>\n",
       "      <th>purpose_category</th>\n",
       "      <th></th>\n",
       "      <th></th>\n",
       "      <th></th>\n",
       "    </tr>\n",
       "  </thead>\n",
       "  <tbody>\n",
       "    <tr>\n",
       "      <th>операции с недвижимостью</th>\n",
       "      <td>780</td>\n",
       "      <td>10751</td>\n",
       "      <td>0.072551</td>\n",
       "    </tr>\n",
       "    <tr>\n",
       "      <th>проведение свадьбы</th>\n",
       "      <td>183</td>\n",
       "      <td>2313</td>\n",
       "      <td>0.079118</td>\n",
       "    </tr>\n",
       "    <tr>\n",
       "      <th>получение образования</th>\n",
       "      <td>369</td>\n",
       "      <td>3988</td>\n",
       "      <td>0.092528</td>\n",
       "    </tr>\n",
       "    <tr>\n",
       "      <th>операции с автомобилем</th>\n",
       "      <td>400</td>\n",
       "      <td>4279</td>\n",
       "      <td>0.093480</td>\n",
       "    </tr>\n",
       "  </tbody>\n",
       "</table>\n",
       "</div>"
      ],
      "text/plain": [
       "                          sum  count     ratio\n",
       "                         debt   debt          \n",
       "purpose_category                              \n",
       "операции с недвижимостью  780  10751  0.072551\n",
       "проведение свадьбы        183   2313  0.079118\n",
       "получение образования     369   3988  0.092528\n",
       "операции с автомобилем    400   4279  0.093480"
      ]
     },
     "execution_count": 39,
     "metadata": {},
     "output_type": "execute_result"
    }
   ],
   "source": [
    "data_purpose_debt.sort_values(by='ratio')"
   ]
  },
  {
   "cell_type": "markdown",
   "id": "222a2e6e",
   "metadata": {
    "deletable": false,
    "id": "b4bb2ce6"
   },
   "source": [
    "**Вывод:** "
   ]
  },
  {
   "cell_type": "markdown",
   "id": "d86fef1e",
   "metadata": {},
   "source": [
    "**Влияние целей взятия кредитов на его возврат в срок существует.**\n",
    "Из таблицы видно, наши категории разбились на 2 пары:\n",
    "- *операции с недвижимостью* и *проведение свадьбы* с долей до 8%,\n",
    "- *получение образования* и *операции с автомобилем*  с долей выше 9%.\n",
    "\n",
    "При этом *операции с недвижимостью* занимают подавляющую долю кредитов и имеют самую низкую долю кредитов с задержками платежей. Это очень хорошо. А вот на категориям *операции с автомобилем* и *получение образования* нужно уделить пристальное внимание.\n",
    "\n",
    "**Можно выдвинуть дополнительные гипотезы:**\n",
    "- низкая доля кредитов с задержками платежей в категории *операции с недвижимостью* связана с тем, что залогом является недвижимость и большое количество таких кредитов берут женатые люди: 2 залогодателя,\n",
    "- низкая доля кредитов с задержками платежей в категории *проведение свадьбы* связана с тем, что плательщиков кредита становиться двое,\n",
    "- высокая доля кредитов с задержками платежей в категории *получение образования* связано с возрастом до 25 лет и типом и как следстивие размером дохода,\n",
    "- высокая доля кредитов с задержками платежей в категории *операции с автомобилями* связана с величиной доходов и неприятностями с автомобилями (аварии, кражи и т.д.)."
   ]
  },
  {
   "cell_type": "markdown",
   "id": "2c5527ed",
   "metadata": {},
   "source": [
    "**Дополнительно** проверим одну из гипотез, для которой у нас хватает данных."
   ]
  },
  {
   "cell_type": "markdown",
   "id": "29d0503d",
   "metadata": {},
   "source": [
    "**Гипотеза**: низкая доля кредитов с задержками платежей в категории *операции с недвижимостью* связана с тем, большое количество таких кредитов берут женатые люди: 2 залогодателя."
   ]
  },
  {
   "cell_type": "code",
   "execution_count": 40,
   "id": "57e980fb",
   "metadata": {},
   "outputs": [
    {
     "data": {
      "text/html": [
       "<div>\n",
       "<style scoped>\n",
       "    .dataframe tbody tr th:only-of-type {\n",
       "        vertical-align: middle;\n",
       "    }\n",
       "\n",
       "    .dataframe tbody tr th {\n",
       "        vertical-align: top;\n",
       "    }\n",
       "\n",
       "    .dataframe thead tr th {\n",
       "        text-align: left;\n",
       "    }\n",
       "\n",
       "    .dataframe thead tr:last-of-type th {\n",
       "        text-align: right;\n",
       "    }\n",
       "</style>\n",
       "<table border=\"1\" class=\"dataframe\">\n",
       "  <thead>\n",
       "    <tr>\n",
       "      <th></th>\n",
       "      <th colspan=\"2\" halign=\"left\">debt</th>\n",
       "      <th>ratio_debt</th>\n",
       "      <th>ratio_credits_estate</th>\n",
       "    </tr>\n",
       "    <tr>\n",
       "      <th></th>\n",
       "      <th>count</th>\n",
       "      <th>sum</th>\n",
       "      <th></th>\n",
       "      <th></th>\n",
       "    </tr>\n",
       "    <tr>\n",
       "      <th>family_status</th>\n",
       "      <th></th>\n",
       "      <th></th>\n",
       "      <th></th>\n",
       "      <th></th>\n",
       "    </tr>\n",
       "  </thead>\n",
       "  <tbody>\n",
       "    <tr>\n",
       "      <th>Не женат / не замужем</th>\n",
       "      <td>1586</td>\n",
       "      <td>129</td>\n",
       "      <td>0.081337</td>\n",
       "      <td>0.147521</td>\n",
       "    </tr>\n",
       "    <tr>\n",
       "      <th>в разводе</th>\n",
       "      <td>672</td>\n",
       "      <td>46</td>\n",
       "      <td>0.068452</td>\n",
       "      <td>0.062506</td>\n",
       "    </tr>\n",
       "    <tr>\n",
       "      <th>вдовец / вдова</th>\n",
       "      <td>535</td>\n",
       "      <td>28</td>\n",
       "      <td>0.052336</td>\n",
       "      <td>0.049763</td>\n",
       "    </tr>\n",
       "    <tr>\n",
       "      <th>гражданский брак</th>\n",
       "      <td>988</td>\n",
       "      <td>91</td>\n",
       "      <td>0.092105</td>\n",
       "      <td>0.091898</td>\n",
       "    </tr>\n",
       "    <tr>\n",
       "      <th>женат / замужем</th>\n",
       "      <td>6970</td>\n",
       "      <td>486</td>\n",
       "      <td>0.069727</td>\n",
       "      <td>0.648312</td>\n",
       "    </tr>\n",
       "  </tbody>\n",
       "</table>\n",
       "</div>"
      ],
      "text/plain": [
       "                       debt      ratio_debt ratio_credits_estate\n",
       "                      count  sum                                \n",
       "family_status                                                   \n",
       "Не женат / не замужем  1586  129   0.081337             0.147521\n",
       "в разводе               672   46   0.068452             0.062506\n",
       "вдовец / вдова          535   28   0.052336             0.049763\n",
       "гражданский брак        988   91   0.092105             0.091898\n",
       "женат / замужем        6970  486   0.069727             0.648312"
      ]
     },
     "metadata": {},
     "output_type": "display_data"
    },
    {
     "data": {
      "text/html": [
       "<div>\n",
       "<style scoped>\n",
       "    .dataframe tbody tr th:only-of-type {\n",
       "        vertical-align: middle;\n",
       "    }\n",
       "\n",
       "    .dataframe tbody tr th {\n",
       "        vertical-align: top;\n",
       "    }\n",
       "\n",
       "    .dataframe thead tr th {\n",
       "        text-align: left;\n",
       "    }\n",
       "\n",
       "    .dataframe thead tr:last-of-type th {\n",
       "        text-align: right;\n",
       "    }\n",
       "</style>\n",
       "<table border=\"1\" class=\"dataframe\">\n",
       "  <thead>\n",
       "    <tr>\n",
       "      <th></th>\n",
       "      <th colspan=\"2\" halign=\"left\">debt</th>\n",
       "      <th>ratio_debt</th>\n",
       "      <th>ratio_credits_estate</th>\n",
       "    </tr>\n",
       "    <tr>\n",
       "      <th></th>\n",
       "      <th>count</th>\n",
       "      <th>sum</th>\n",
       "      <th></th>\n",
       "      <th></th>\n",
       "    </tr>\n",
       "    <tr>\n",
       "      <th>family_status</th>\n",
       "      <th></th>\n",
       "      <th></th>\n",
       "      <th></th>\n",
       "      <th></th>\n",
       "    </tr>\n",
       "  </thead>\n",
       "  <tbody>\n",
       "    <tr>\n",
       "      <th>вдовец / вдова</th>\n",
       "      <td>535</td>\n",
       "      <td>28</td>\n",
       "      <td>0.052336</td>\n",
       "      <td>0.049763</td>\n",
       "    </tr>\n",
       "    <tr>\n",
       "      <th>в разводе</th>\n",
       "      <td>672</td>\n",
       "      <td>46</td>\n",
       "      <td>0.068452</td>\n",
       "      <td>0.062506</td>\n",
       "    </tr>\n",
       "    <tr>\n",
       "      <th>гражданский брак</th>\n",
       "      <td>988</td>\n",
       "      <td>91</td>\n",
       "      <td>0.092105</td>\n",
       "      <td>0.091898</td>\n",
       "    </tr>\n",
       "    <tr>\n",
       "      <th>Не женат / не замужем</th>\n",
       "      <td>1586</td>\n",
       "      <td>129</td>\n",
       "      <td>0.081337</td>\n",
       "      <td>0.147521</td>\n",
       "    </tr>\n",
       "    <tr>\n",
       "      <th>женат / замужем</th>\n",
       "      <td>6970</td>\n",
       "      <td>486</td>\n",
       "      <td>0.069727</td>\n",
       "      <td>0.648312</td>\n",
       "    </tr>\n",
       "  </tbody>\n",
       "</table>\n",
       "</div>"
      ],
      "text/plain": [
       "                       debt      ratio_debt ratio_credits_estate\n",
       "                      count  sum                                \n",
       "family_status                                                   \n",
       "вдовец / вдова          535   28   0.052336             0.049763\n",
       "в разводе               672   46   0.068452             0.062506\n",
       "гражданский брак        988   91   0.092105             0.091898\n",
       "Не женат / не замужем  1586  129   0.081337             0.147521\n",
       "женат / замужем        6970  486   0.069727             0.648312"
      ]
     },
     "execution_count": 40,
     "metadata": {},
     "output_type": "execute_result"
    }
   ],
   "source": [
    "# возьмем данные только по операциям с недвижимостью\n",
    "data_purpose_family_debt = data.loc[(data['purpose_category'] == 'операции с недвижимостью')]\n",
    "# определимся с ситацией с редитами по семейному статусу\n",
    "data_purpose_family_debt_groupped = data_purpose_family_debt.groupby('family_status').agg({'debt':['count', 'sum']})\n",
    "# опредилим долю кредитов с задержкой платежей\n",
    "data_purpose_family_debt_groupped['ratio_debt'] = data_purpose_family_debt_groupped['debt']['sum'] / data_purpose_family_debt_groupped['debt']['count'] \n",
    "# определим долю кредитов на недвижимость по семейному статусу\n",
    "total_credits_estate = sum(data_purpose_family_debt_groupped['debt']['count'])\n",
    "data_purpose_family_debt_groupped['ratio_credits_estate'] = data_purpose_family_debt_groupped['debt']['count'] / total_credits_estate\n",
    "display(data_purpose_family_debt_groupped)\n",
    "data_purpose_family_debt_groupped.sort_values(by='ratio_credits_estate') # отсортируем"
   ]
  },
  {
   "cell_type": "markdown",
   "id": "c281fa12",
   "metadata": {},
   "source": [
    "**Вывод:** Как мы видим из таблицы более 64% кредитов на недвижимость берут женатые люди и доля кредитов с задержкой платежей у них низкая. Наша гипотеза подтвердилась. "
   ]
  },
  {
   "cell_type": "markdown",
   "id": "440bad26",
   "metadata": {
    "deletable": false,
    "editable": false,
    "id": "09c3ac4c"
   },
   "source": [
    "#### 3.5 Приведите возможные причины появления пропусков в исходных данных."
   ]
  },
  {
   "cell_type": "markdown",
   "id": "1d67c66b",
   "metadata": {
    "deletable": false,
    "id": "9da2ceda"
   },
   "source": [
    "*Ответ:* \n",
    "Пропуски в исходных данных:\n",
    "- **человеческий фактор**\n",
    "    - плохо стоставленные инструкции\n",
    "    - плохо изученые инструкции\n",
    "    - неумение оператора\n",
    "    - нежелание оператора\n",
    "    - умышленное вредительство\n",
    "    - другие\n",
    "- **технологические причины**\n",
    "    - при копировании\n",
    "    - при считывании\n",
    "    - при смене формата\n",
    "    - при записи данных\n",
    "    - другие"
   ]
  },
  {
   "cell_type": "markdown",
   "id": "e23317ea",
   "metadata": {
    "deletable": false,
    "editable": false,
    "id": "7b0487d6"
   },
   "source": [
    "#### 3.6 Объясните, почему заполнить пропуски медианным значением — лучшее решение для количественных переменных."
   ]
  },
  {
   "cell_type": "markdown",
   "id": "b47d2416",
   "metadata": {
    "deletable": false,
    "id": "7ecf2b8e"
   },
   "source": [
    "*Ответ:* Медина лучшее решение для заполнения пропусков количественных переменных, так как медиана меньше подвержена влиянию сильных отклонений значений, а при большом количестве данных приближается к среднему значению. "
   ]
  },
  {
   "cell_type": "markdown",
   "id": "6e7a4538",
   "metadata": {
    "deletable": false,
    "editable": false,
    "id": "6db5255a"
   },
   "source": [
    "### Шаг 4: общий вывод."
   ]
  },
  {
   "cell_type": "markdown",
   "id": "ceb3fb60",
   "metadata": {
    "deletable": false,
    "id": "bad65432"
   },
   "source": [
    "В данном исследовании мы провели анализ надежности заемщиков на основании предоставленных данных. \n",
    "Перед началом анализа данные были подготовлены: обработаны пропуски, дубликаты и не корректные значения.\n",
    "В ходе исследования были проверены гипотезы и получены следующие выводы и рекомендации:\n",
    "\n",
    "**Гипотеза 1**. Есть ли зависимость между количеством детей и возвратом кредита в срок?\n",
    "\n",
    "**Выводы**. При анализе данных выяснилось, что **зависимость между количеством детей и возвратом кредитов в срок существует: семьи с детьми возвращали кредиты до 2,3% хуже** чем заёмщики без детей. Но **важно отметить, что и количество заемщиков с детьми падает в геометрической прогрессии с увеличением детей** из-за чего данные для семей с 3 и более детьми можно поставить под сомнение с точки зрения статистики.\n",
    "\n",
    "**Гипотез 2**. Есть ли зависимость между семейным положением и возвратом кредита в срок?\n",
    "\n",
    "**Выводы**. **Зависимость между семейным положением и возвратом кредита в срок существует**. Она выражена в том, что люди официально оформившие брак, в том числе разведенные и вдовствующие, возвращают кредиты в срок лучше. У категорий *гражданский брак* и *Не женат / не замужем* доля возврата кредитов в срок хуже на 1,7% и более по сравнению с другими категориями.\n",
    "\n",
    "**Гипотеза 3**. Есть зависимость между уровнем дохода и возвратом кредита в срок?\n",
    "\n",
    "**Выводы**. **Системной зависимости уровня дохода и возвратом кредита в срок не обнаружено**, но возможно сделать выводы для каждой из категорий:\n",
    "- Чаще всего кредиты выдаются категориям **C** и **B** (доходы от 50001 до 1000000).\n",
    "- Категория **C** с доходом от 500001 до 200000 имеет долю кредитов с нарушением сроков платежей не многим выше среднего, а категория **B** вторая по значимости не многим ниже среднего.\n",
    "- При доходах меньше 30000 (категория **E**), трудно обслуживать кредиты, что подтверждается высокой долей не возврата.\n",
    "- Категория **D** редко пользуется кредитами, но доля задержек выплат по кредитам очень низкая.\n",
    "- Категория **A** требует индивидуального подхода.\n",
    "\n",
    "**Гипотеза 4**. Как разные цели кредита влияют на возврат кредита в срок?\n",
    "\n",
    "**Выводы**. **Влияние целей взятия кредитов на его возврат в срок существует.**\n",
    "Из таблицы видно, наши категории разбились на 2 пары:\n",
    "- *операции с недвижимостью* и *проведение свадьбы* с долей до 8%,\n",
    "- *получение образования* и *операции с автомобилем*  с долей выше 9%.\n",
    "\n",
    "При этом *операции с недвижимостью* занимают подавляющую долю кредитов и имеют самую низкую долю кредитов с задержками платежей. Это очень хорошо. А вот на категориям *операции с автомобилем* и *получение образования* нужно уделить пристальное внимание.\n",
    "\n",
    "**В ходе работы были предложены дополнительные гипотезы:**\n",
    "- низкая доля кредитов с задержками платежей в категории *операции с недвижимостью* связана с тем, что залогом является недвижимость и большое количество таких кредитов берут женатые люди: 2 залогодателя,\n",
    "- низкая доля кредитов с задержками платежей в категории *проведение свадьбы* связана с тем, что плательщиков кредита становиться двое,\n",
    "- высокая доля кредитов с задержками платежей в категории *получение образования* связано с возрастом до 25 лет и типом и как следствие размером дохода,\n",
    "- высокая доля кредитов с задержками платежей в категории *операции с автомобилями* связана с величиной доходов и неприятностями с автомобилями (аварии, кражи и т.д.)."
   ]
  },
  {
   "cell_type": "markdown",
   "id": "9617064b",
   "metadata": {},
   "source": [
    "## Шаг 5. Разницы в заданиях в конспекте и в тетради."
   ]
  },
  {
   "cell_type": "markdown",
   "id": "ec6972a5",
   "metadata": {},
   "source": [
    "### Выполнение Шаг 2, п. 5"
   ]
  },
  {
   "cell_type": "markdown",
   "id": "04fbc97a",
   "metadata": {},
   "source": [
    "**Задание**: Создайте два новых датафрейма со столбцами: \n",
    "- `education_id` и `education` — в первом;\n",
    "`family_status_id` и `family_status` — во втором.\n",
    "- Удалите из исходного датафрейма столбцы `education` и `family_status`, оставив только их идентификаторы: `education_id` и `family_status_id`. \n",
    "Новые датафреймы — это те самые «словари» (не путайте с одноимённой структурой данных в Python), к которым вы сможете обращаться по идентификатору."
   ]
  },
  {
   "cell_type": "code",
   "execution_count": 41,
   "id": "3805bc53",
   "metadata": {},
   "outputs": [
    {
     "data": {
      "text/html": [
       "<div>\n",
       "<style scoped>\n",
       "    .dataframe tbody tr th:only-of-type {\n",
       "        vertical-align: middle;\n",
       "    }\n",
       "\n",
       "    .dataframe tbody tr th {\n",
       "        vertical-align: top;\n",
       "    }\n",
       "\n",
       "    .dataframe thead th {\n",
       "        text-align: right;\n",
       "    }\n",
       "</style>\n",
       "<table border=\"1\" class=\"dataframe\">\n",
       "  <thead>\n",
       "    <tr style=\"text-align: right;\">\n",
       "      <th></th>\n",
       "      <th>education_id</th>\n",
       "      <th>education</th>\n",
       "    </tr>\n",
       "  </thead>\n",
       "  <tbody>\n",
       "    <tr>\n",
       "      <th>0</th>\n",
       "      <td>0</td>\n",
       "      <td>высшее</td>\n",
       "    </tr>\n",
       "    <tr>\n",
       "      <th>1</th>\n",
       "      <td>1</td>\n",
       "      <td>среднее</td>\n",
       "    </tr>\n",
       "    <tr>\n",
       "      <th>2</th>\n",
       "      <td>2</td>\n",
       "      <td>неоконченное высшее</td>\n",
       "    </tr>\n",
       "    <tr>\n",
       "      <th>3</th>\n",
       "      <td>3</td>\n",
       "      <td>начальное</td>\n",
       "    </tr>\n",
       "    <tr>\n",
       "      <th>4</th>\n",
       "      <td>4</td>\n",
       "      <td>ученая степень</td>\n",
       "    </tr>\n",
       "  </tbody>\n",
       "</table>\n",
       "</div>"
      ],
      "text/plain": [
       "   education_id            education\n",
       "0             0               высшее\n",
       "1             1              среднее\n",
       "2             2  неоконченное высшее\n",
       "3             3            начальное\n",
       "4             4       ученая степень"
      ]
     },
     "execution_count": 41,
     "metadata": {},
     "output_type": "execute_result"
    }
   ],
   "source": [
    "# создаем словарь education_dict\n",
    "education_dict = data[['education_id', 'education']]\n",
    "education_dict = education_dict.drop_duplicates().reset_index(drop=True)\n",
    "education_dict"
   ]
  },
  {
   "cell_type": "code",
   "execution_count": 42,
   "id": "76cf1459",
   "metadata": {},
   "outputs": [
    {
     "data": {
      "text/html": [
       "<div>\n",
       "<style scoped>\n",
       "    .dataframe tbody tr th:only-of-type {\n",
       "        vertical-align: middle;\n",
       "    }\n",
       "\n",
       "    .dataframe tbody tr th {\n",
       "        vertical-align: top;\n",
       "    }\n",
       "\n",
       "    .dataframe thead th {\n",
       "        text-align: right;\n",
       "    }\n",
       "</style>\n",
       "<table border=\"1\" class=\"dataframe\">\n",
       "  <thead>\n",
       "    <tr style=\"text-align: right;\">\n",
       "      <th></th>\n",
       "      <th>family_status_id</th>\n",
       "      <th>family_status</th>\n",
       "    </tr>\n",
       "  </thead>\n",
       "  <tbody>\n",
       "    <tr>\n",
       "      <th>0</th>\n",
       "      <td>0</td>\n",
       "      <td>женат / замужем</td>\n",
       "    </tr>\n",
       "    <tr>\n",
       "      <th>1</th>\n",
       "      <td>1</td>\n",
       "      <td>гражданский брак</td>\n",
       "    </tr>\n",
       "    <tr>\n",
       "      <th>2</th>\n",
       "      <td>2</td>\n",
       "      <td>вдовец / вдова</td>\n",
       "    </tr>\n",
       "    <tr>\n",
       "      <th>3</th>\n",
       "      <td>3</td>\n",
       "      <td>в разводе</td>\n",
       "    </tr>\n",
       "    <tr>\n",
       "      <th>4</th>\n",
       "      <td>4</td>\n",
       "      <td>Не женат / не замужем</td>\n",
       "    </tr>\n",
       "  </tbody>\n",
       "</table>\n",
       "</div>"
      ],
      "text/plain": [
       "   family_status_id          family_status\n",
       "0                 0        женат / замужем\n",
       "1                 1       гражданский брак\n",
       "2                 2         вдовец / вдова\n",
       "3                 3              в разводе\n",
       "4                 4  Не женат / не замужем"
      ]
     },
     "execution_count": 42,
     "metadata": {},
     "output_type": "execute_result"
    }
   ],
   "source": [
    "# создаем словарь family_status_dict\n",
    "family_status_dict = data[['family_status_id', 'family_status']]\n",
    "family_status_dict = family_status_dict.drop_duplicates().reset_index(drop=True)\n",
    "family_status_dict"
   ]
  },
  {
   "cell_type": "code",
   "execution_count": 43,
   "id": "3945be48",
   "metadata": {},
   "outputs": [
    {
     "name": "stdout",
     "output_type": "stream",
     "text": [
      "<class 'pandas.core.frame.DataFrame'>\n",
      "Int64Index: 21331 entries, 0 to 21524\n",
      "Data columns (total 12 columns):\n",
      " #   Column                 Non-Null Count  Dtype  \n",
      "---  ------                 --------------  -----  \n",
      " 0   children               21331 non-null  int64  \n",
      " 1   days_employed          21331 non-null  float64\n",
      " 2   dob_years              21331 non-null  int64  \n",
      " 3   education_id           21331 non-null  int64  \n",
      " 4   family_status_id       21331 non-null  int64  \n",
      " 5   gender                 21331 non-null  object \n",
      " 6   income_type            21331 non-null  object \n",
      " 7   debt                   21331 non-null  int64  \n",
      " 8   total_income           21331 non-null  int64  \n",
      " 9   purpose                21331 non-null  object \n",
      " 10  total_income_category  21331 non-null  object \n",
      " 11  purpose_category       21331 non-null  object \n",
      "dtypes: float64(1), int64(6), object(5)\n",
      "memory usage: 2.6+ MB\n"
     ]
    }
   ],
   "source": [
    "# удаляем столбцы 'education', 'family_status' из data\n",
    "data = data.drop(columns=['education', 'family_status'], inplace=False, errors='raise')\n",
    "data.info()"
   ]
  }
 ],
 "metadata": {
  "ExecuteTimeLog": [
   {
    "duration": 74,
    "start_time": "2023-01-24T14:52:02.649Z"
   },
   {
    "duration": 8,
    "start_time": "2023-01-24T14:52:27.285Z"
   },
   {
    "duration": 704,
    "start_time": "2023-01-24T14:52:51.477Z"
   },
   {
    "duration": 23,
    "start_time": "2023-01-24T14:52:52.183Z"
   },
   {
    "duration": 20,
    "start_time": "2023-01-24T14:52:52.208Z"
   },
   {
    "duration": 32,
    "start_time": "2023-01-24T14:52:52.230Z"
   },
   {
    "duration": 71,
    "start_time": "2023-01-24T14:52:52.264Z"
   },
   {
    "duration": 4,
    "start_time": "2023-01-24T14:52:52.337Z"
   },
   {
    "duration": 19,
    "start_time": "2023-01-24T14:52:52.343Z"
   },
   {
    "duration": 7,
    "start_time": "2023-01-24T14:52:52.365Z"
   },
   {
    "duration": 29,
    "start_time": "2023-01-24T14:52:52.374Z"
   },
   {
    "duration": 28,
    "start_time": "2023-01-24T14:52:52.406Z"
   },
   {
    "duration": 55,
    "start_time": "2023-01-24T14:52:52.436Z"
   },
   {
    "duration": 12,
    "start_time": "2023-01-24T14:52:52.493Z"
   },
   {
    "duration": 10,
    "start_time": "2023-01-24T14:52:52.507Z"
   },
   {
    "duration": 26,
    "start_time": "2023-01-24T14:52:52.519Z"
   },
   {
    "duration": 28,
    "start_time": "2023-01-24T14:52:52.547Z"
   },
   {
    "duration": 28,
    "start_time": "2023-01-24T14:52:52.577Z"
   },
   {
    "duration": 5,
    "start_time": "2023-01-24T14:52:52.607Z"
   },
   {
    "duration": 36,
    "start_time": "2023-01-24T14:52:52.613Z"
   },
   {
    "duration": 16,
    "start_time": "2023-01-24T14:52:52.652Z"
   },
   {
    "duration": 22,
    "start_time": "2023-01-24T14:52:52.670Z"
   },
   {
    "duration": 27,
    "start_time": "2023-01-24T14:52:52.694Z"
   },
   {
    "duration": 22,
    "start_time": "2023-01-24T14:52:56.991Z"
   },
   {
    "duration": 5,
    "start_time": "2023-01-24T14:55:03.558Z"
   },
   {
    "duration": 19,
    "start_time": "2023-01-24T14:56:28.499Z"
   },
   {
    "duration": 1274,
    "start_time": "2023-01-27T08:34:38.241Z"
   },
   {
    "duration": 17,
    "start_time": "2023-01-27T08:34:39.517Z"
   },
   {
    "duration": 17,
    "start_time": "2023-01-27T08:34:39.536Z"
   },
   {
    "duration": 13,
    "start_time": "2023-01-27T08:34:39.556Z"
   },
   {
    "duration": 49,
    "start_time": "2023-01-27T08:34:39.570Z"
   },
   {
    "duration": 5,
    "start_time": "2023-01-27T08:34:39.620Z"
   },
   {
    "duration": 22,
    "start_time": "2023-01-27T08:34:39.627Z"
   },
   {
    "duration": 22,
    "start_time": "2023-01-27T08:34:39.651Z"
   },
   {
    "duration": 17,
    "start_time": "2023-01-27T08:34:39.675Z"
   },
   {
    "duration": 4,
    "start_time": "2023-01-27T08:34:39.695Z"
   },
   {
    "duration": 41,
    "start_time": "2023-01-27T08:34:39.700Z"
   },
   {
    "duration": 9,
    "start_time": "2023-01-27T08:34:39.743Z"
   },
   {
    "duration": 13,
    "start_time": "2023-01-27T08:34:39.754Z"
   },
   {
    "duration": 52,
    "start_time": "2023-01-27T08:34:39.769Z"
   },
   {
    "duration": 63,
    "start_time": "2023-01-27T08:34:39.823Z"
   },
   {
    "duration": 36,
    "start_time": "2023-01-27T08:34:39.888Z"
   },
   {
    "duration": 31,
    "start_time": "2023-01-27T08:34:39.925Z"
   },
   {
    "duration": 31,
    "start_time": "2023-01-27T08:34:39.957Z"
   },
   {
    "duration": 59,
    "start_time": "2023-01-27T08:34:39.990Z"
   },
   {
    "duration": 39,
    "start_time": "2023-01-27T08:34:40.050Z"
   },
   {
    "duration": 49,
    "start_time": "2023-01-27T08:34:40.090Z"
   },
   {
    "duration": 29,
    "start_time": "2023-01-27T08:34:40.141Z"
   },
   {
    "duration": 59,
    "start_time": "2023-01-27T08:34:40.172Z"
   },
   {
    "duration": 40,
    "start_time": "2023-01-27T08:34:40.233Z"
   },
   {
    "duration": 46,
    "start_time": "2023-01-27T08:34:40.275Z"
   },
   {
    "duration": 147,
    "start_time": "2023-01-27T08:34:40.323Z"
   },
   {
    "duration": 14,
    "start_time": "2023-01-27T08:34:40.472Z"
   },
   {
    "duration": 16,
    "start_time": "2023-01-27T08:34:40.489Z"
   },
   {
    "duration": 28,
    "start_time": "2023-01-27T08:34:40.507Z"
   },
   {
    "duration": 11,
    "start_time": "2023-01-27T08:34:40.537Z"
   },
   {
    "duration": 136,
    "start_time": "2023-01-27T08:34:40.550Z"
   },
   {
    "duration": 32,
    "start_time": "2023-01-27T08:34:40.687Z"
   },
   {
    "duration": 10,
    "start_time": "2023-01-27T08:34:40.721Z"
   },
   {
    "duration": 22,
    "start_time": "2023-01-27T08:34:40.733Z"
   },
   {
    "duration": 24,
    "start_time": "2023-01-27T08:34:40.757Z"
   },
   {
    "duration": 10,
    "start_time": "2023-01-27T08:34:40.782Z"
   },
   {
    "duration": 19,
    "start_time": "2023-01-27T08:34:40.794Z"
   },
   {
    "duration": 30,
    "start_time": "2023-01-27T08:34:40.815Z"
   },
   {
    "duration": 10,
    "start_time": "2023-01-27T08:34:40.847Z"
   },
   {
    "duration": 42,
    "start_time": "2023-01-27T08:34:40.859Z"
   },
   {
    "duration": 12,
    "start_time": "2023-01-27T08:34:40.903Z"
   },
   {
    "duration": 20,
    "start_time": "2023-01-27T08:34:40.917Z"
   },
   {
    "duration": 16,
    "start_time": "2023-01-27T08:34:40.938Z"
   },
   {
    "duration": 55,
    "start_time": "2023-01-27T14:00:33.296Z"
   },
   {
    "duration": 6,
    "start_time": "2023-01-27T14:00:43.318Z"
   },
   {
    "duration": 7,
    "start_time": "2023-01-27T14:01:00.791Z"
   },
   {
    "duration": 1525,
    "start_time": "2023-01-27T14:01:27.377Z"
   },
   {
    "duration": 18,
    "start_time": "2023-01-27T14:01:28.903Z"
   },
   {
    "duration": 15,
    "start_time": "2023-01-27T14:01:28.922Z"
   },
   {
    "duration": 9,
    "start_time": "2023-01-27T14:01:28.938Z"
   },
   {
    "duration": 36,
    "start_time": "2023-01-27T14:01:28.948Z"
   },
   {
    "duration": 3,
    "start_time": "2023-01-27T14:01:28.985Z"
   },
   {
    "duration": 11,
    "start_time": "2023-01-27T14:01:28.990Z"
   },
   {
    "duration": 4,
    "start_time": "2023-01-27T14:01:29.002Z"
   },
   {
    "duration": 10,
    "start_time": "2023-01-27T14:01:29.007Z"
   },
   {
    "duration": 4,
    "start_time": "2023-01-27T14:01:29.020Z"
   },
   {
    "duration": 55,
    "start_time": "2023-01-27T14:01:29.026Z"
   },
   {
    "duration": 10,
    "start_time": "2023-01-27T14:01:29.083Z"
   },
   {
    "duration": 4,
    "start_time": "2023-01-27T14:01:29.095Z"
   },
   {
    "duration": 12,
    "start_time": "2023-01-27T14:01:29.101Z"
   },
   {
    "duration": 47,
    "start_time": "2023-01-27T14:01:29.114Z"
   },
   {
    "duration": 16,
    "start_time": "2023-01-27T14:01:29.163Z"
   },
   {
    "duration": 4,
    "start_time": "2023-01-27T14:01:29.180Z"
   },
   {
    "duration": 13,
    "start_time": "2023-01-27T14:01:29.185Z"
   },
   {
    "duration": 6,
    "start_time": "2023-01-27T14:01:29.199Z"
   },
   {
    "duration": 5,
    "start_time": "2023-01-27T14:01:29.206Z"
   },
   {
    "duration": 12,
    "start_time": "2023-01-27T14:01:29.213Z"
   },
   {
    "duration": 26,
    "start_time": "2023-01-27T14:01:29.226Z"
   },
   {
    "duration": 7,
    "start_time": "2023-01-27T14:01:29.253Z"
   },
   {
    "duration": 4,
    "start_time": "2023-01-27T14:01:29.262Z"
   },
   {
    "duration": 22,
    "start_time": "2023-01-27T14:01:29.268Z"
   },
   {
    "duration": 235,
    "start_time": "2023-01-27T14:01:29.291Z"
   },
   {
    "duration": 0,
    "start_time": "2023-01-27T14:01:29.528Z"
   },
   {
    "duration": 0,
    "start_time": "2023-01-27T14:01:29.530Z"
   },
   {
    "duration": 0,
    "start_time": "2023-01-27T14:01:29.531Z"
   },
   {
    "duration": 0,
    "start_time": "2023-01-27T14:01:29.532Z"
   },
   {
    "duration": 0,
    "start_time": "2023-01-27T14:01:29.532Z"
   },
   {
    "duration": 0,
    "start_time": "2023-01-27T14:01:29.534Z"
   },
   {
    "duration": 0,
    "start_time": "2023-01-27T14:01:29.535Z"
   },
   {
    "duration": 0,
    "start_time": "2023-01-27T14:01:29.548Z"
   },
   {
    "duration": 0,
    "start_time": "2023-01-27T14:01:29.549Z"
   },
   {
    "duration": 0,
    "start_time": "2023-01-27T14:01:29.550Z"
   },
   {
    "duration": 0,
    "start_time": "2023-01-27T14:01:29.550Z"
   },
   {
    "duration": 0,
    "start_time": "2023-01-27T14:01:29.551Z"
   },
   {
    "duration": 0,
    "start_time": "2023-01-27T14:01:29.552Z"
   },
   {
    "duration": 0,
    "start_time": "2023-01-27T14:01:29.553Z"
   },
   {
    "duration": 0,
    "start_time": "2023-01-27T14:01:29.554Z"
   },
   {
    "duration": 0,
    "start_time": "2023-01-27T14:01:29.555Z"
   },
   {
    "duration": 0,
    "start_time": "2023-01-27T14:01:29.556Z"
   },
   {
    "duration": 109,
    "start_time": "2023-01-27T14:01:59.790Z"
   },
   {
    "duration": 71,
    "start_time": "2023-01-27T14:18:23.169Z"
   },
   {
    "duration": 126,
    "start_time": "2023-01-27T14:18:37.703Z"
   },
   {
    "duration": 126,
    "start_time": "2023-01-27T14:21:19.110Z"
   },
   {
    "duration": 1237,
    "start_time": "2023-01-27T14:23:14.377Z"
   },
   {
    "duration": 24,
    "start_time": "2023-01-27T14:23:15.618Z"
   },
   {
    "duration": 24,
    "start_time": "2023-01-27T14:23:15.644Z"
   },
   {
    "duration": 16,
    "start_time": "2023-01-27T14:23:15.671Z"
   },
   {
    "duration": 49,
    "start_time": "2023-01-27T14:23:15.689Z"
   },
   {
    "duration": 3,
    "start_time": "2023-01-27T14:23:15.740Z"
   },
   {
    "duration": 9,
    "start_time": "2023-01-27T14:23:15.747Z"
   },
   {
    "duration": 6,
    "start_time": "2023-01-27T14:23:15.757Z"
   },
   {
    "duration": 8,
    "start_time": "2023-01-27T14:23:15.764Z"
   },
   {
    "duration": 4,
    "start_time": "2023-01-27T14:23:15.774Z"
   },
   {
    "duration": 33,
    "start_time": "2023-01-27T14:23:15.780Z"
   },
   {
    "duration": 37,
    "start_time": "2023-01-27T14:23:15.814Z"
   },
   {
    "duration": 4,
    "start_time": "2023-01-27T14:23:15.853Z"
   },
   {
    "duration": 14,
    "start_time": "2023-01-27T14:23:15.858Z"
   },
   {
    "duration": 23,
    "start_time": "2023-01-27T14:23:15.873Z"
   },
   {
    "duration": 18,
    "start_time": "2023-01-27T14:23:15.897Z"
   },
   {
    "duration": 4,
    "start_time": "2023-01-27T14:23:15.916Z"
   },
   {
    "duration": 32,
    "start_time": "2023-01-27T14:23:15.921Z"
   },
   {
    "duration": 11,
    "start_time": "2023-01-27T14:23:15.955Z"
   },
   {
    "duration": 4,
    "start_time": "2023-01-27T14:23:15.967Z"
   },
   {
    "duration": 13,
    "start_time": "2023-01-27T14:23:15.972Z"
   },
   {
    "duration": 8,
    "start_time": "2023-01-27T14:23:15.987Z"
   },
   {
    "duration": 7,
    "start_time": "2023-01-27T14:23:15.996Z"
   },
   {
    "duration": 6,
    "start_time": "2023-01-27T14:23:16.004Z"
   },
   {
    "duration": 50,
    "start_time": "2023-01-27T14:23:16.011Z"
   },
   {
    "duration": 145,
    "start_time": "2023-01-27T14:23:16.063Z"
   },
   {
    "duration": 14,
    "start_time": "2023-01-27T14:23:16.210Z"
   },
   {
    "duration": 27,
    "start_time": "2023-01-27T14:23:16.228Z"
   },
   {
    "duration": 28,
    "start_time": "2023-01-27T14:23:16.258Z"
   },
   {
    "duration": 10,
    "start_time": "2023-01-27T14:23:16.289Z"
   },
   {
    "duration": 181,
    "start_time": "2023-01-27T14:23:16.301Z"
   },
   {
    "duration": 24,
    "start_time": "2023-01-27T14:23:16.484Z"
   },
   {
    "duration": 10,
    "start_time": "2023-01-27T14:23:16.510Z"
   },
   {
    "duration": 26,
    "start_time": "2023-01-27T14:23:16.522Z"
   },
   {
    "duration": 10,
    "start_time": "2023-01-27T14:23:16.550Z"
   },
   {
    "duration": 12,
    "start_time": "2023-01-27T14:23:16.562Z"
   },
   {
    "duration": 7,
    "start_time": "2023-01-27T14:23:16.576Z"
   },
   {
    "duration": 26,
    "start_time": "2023-01-27T14:23:16.585Z"
   },
   {
    "duration": 9,
    "start_time": "2023-01-27T14:23:16.613Z"
   },
   {
    "duration": 29,
    "start_time": "2023-01-27T14:23:16.648Z"
   },
   {
    "duration": 10,
    "start_time": "2023-01-27T14:23:16.679Z"
   },
   {
    "duration": 11,
    "start_time": "2023-01-27T14:23:16.690Z"
   },
   {
    "duration": 46,
    "start_time": "2023-01-27T14:23:16.702Z"
   },
   {
    "duration": 110,
    "start_time": "2023-01-27T14:25:59.694Z"
   },
   {
    "duration": 131,
    "start_time": "2023-01-27T14:26:16.048Z"
   },
   {
    "duration": 108,
    "start_time": "2023-01-27T14:27:43.094Z"
   },
   {
    "duration": 127,
    "start_time": "2023-01-27T14:28:04.270Z"
   }
  ],
  "colab": {
   "name": "dpp_template_part2.ipynb",
   "provenance": []
  },
  "kernelspec": {
   "display_name": "Python 3 (ipykernel)",
   "language": "python",
   "name": "python3"
  },
  "language_info": {
   "codemirror_mode": {
    "name": "ipython",
    "version": 3
   },
   "file_extension": ".py",
   "mimetype": "text/x-python",
   "name": "python",
   "nbconvert_exporter": "python",
   "pygments_lexer": "ipython3",
   "version": "3.9.15"
  },
  "toc": {
   "base_numbering": 1,
   "nav_menu": {},
   "number_sections": true,
   "sideBar": true,
   "skip_h1_title": true,
   "title_cell": "Исследование надежности заёмщиков",
   "title_sidebar": "Исследование надежности заёмщиков",
   "toc_cell": true,
   "toc_position": {
    "height": "calc(100% - 180px)",
    "left": "10px",
    "top": "150px",
    "width": "345px"
   },
   "toc_section_display": true,
   "toc_window_display": true
  }
 },
 "nbformat": 4,
 "nbformat_minor": 5
}
