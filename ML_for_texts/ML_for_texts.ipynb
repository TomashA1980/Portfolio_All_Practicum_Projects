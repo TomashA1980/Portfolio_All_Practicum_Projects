{
 "cells": [
  {
   "cell_type": "markdown",
   "metadata": {
    "toc": true
   },
   "source": [
    "<h1>Содержание<span class=\"tocSkip\"></span></h1>\n",
    "<div class=\"toc\"><ul class=\"toc-item\"><li><span><a href=\"#Введение\" data-toc-modified-id=\"Введение-1\"><span class=\"toc-item-num\">1&nbsp;&nbsp;</span>Введение</a></span></li><li><span><a href=\"#Библиотеки-и-настройки\" data-toc-modified-id=\"Библиотеки-и-настройки-2\"><span class=\"toc-item-num\">2&nbsp;&nbsp;</span>Библиотеки и настройки</a></span><ul class=\"toc-item\"><li><span><a href=\"#Библиотеки\" data-toc-modified-id=\"Библиотеки-2.1\"><span class=\"toc-item-num\">2.1&nbsp;&nbsp;</span>Библиотеки</a></span></li><li><span><a href=\"#Настройки\" data-toc-modified-id=\"Настройки-2.2\"><span class=\"toc-item-num\">2.2&nbsp;&nbsp;</span>Настройки</a></span></li></ul></li><li><span><a href=\"#Подготовка\" data-toc-modified-id=\"Подготовка-3\"><span class=\"toc-item-num\">3&nbsp;&nbsp;</span>Подготовка</a></span><ul class=\"toc-item\"><li><span><a href=\"#Загрузка-данных\" data-toc-modified-id=\"Загрузка-данных-3.1\"><span class=\"toc-item-num\">3.1&nbsp;&nbsp;</span>Загрузка данных</a></span></li><li><span><a href=\"#Анализ-данных\" data-toc-modified-id=\"Анализ-данных-3.2\"><span class=\"toc-item-num\">3.2&nbsp;&nbsp;</span>Анализ данных</a></span><ul class=\"toc-item\"><li><span><a href=\"#Дисбаланс-класса-на-всех-данных\" data-toc-modified-id=\"Дисбаланс-класса-на-всех-данных-3.2.1\"><span class=\"toc-item-num\">3.2.1&nbsp;&nbsp;</span>Дисбаланс класса на всех данных</a></span></li><li><span><a href=\"#Максимальная-длина-строки\" data-toc-modified-id=\"Максимальная-длина-строки-3.2.2\"><span class=\"toc-item-num\">3.2.2&nbsp;&nbsp;</span>Максимальная длина строки</a></span></li></ul></li><li><span><a href=\"#Обработка\" data-toc-modified-id=\"Обработка-3.3\"><span class=\"toc-item-num\">3.3&nbsp;&nbsp;</span>Обработка</a></span><ul class=\"toc-item\"><li><span><a href=\"#Очистка-от-лишних-символов.\" data-toc-modified-id=\"Очистка-от-лишних-символов.-3.3.1\"><span class=\"toc-item-num\">3.3.1&nbsp;&nbsp;</span>Очистка от лишних символов.</a></span></li><li><span><a href=\"#Лемматизация\" data-toc-modified-id=\"Лемматизация-3.3.2\"><span class=\"toc-item-num\">3.3.2&nbsp;&nbsp;</span>Лемматизация</a></span></li></ul></li><li><span><a href=\"#Разбиение-на-выборки\" data-toc-modified-id=\"Разбиение-на-выборки-3.4\"><span class=\"toc-item-num\">3.4&nbsp;&nbsp;</span>Разбиение на выборки</a></span><ul class=\"toc-item\"><li><span><a href=\"#Upsampling-тренировочной-выборки\" data-toc-modified-id=\"Upsampling-тренировочной-выборки-3.4.1\"><span class=\"toc-item-num\">3.4.1&nbsp;&nbsp;</span>Upsampling тренировочной выборки</a></span></li></ul></li><li><span><a href=\"#TF-IDF:-подготовка-обучающий-признаков\" data-toc-modified-id=\"TF-IDF:-подготовка-обучающий-признаков-3.5\"><span class=\"toc-item-num\">3.5&nbsp;&nbsp;</span>TF-IDF: подготовка обучающий признаков</a></span><ul class=\"toc-item\"><li><span><a href=\"#TF-IDF:-подготовка-сбалансированных-обучающий-признаков\" data-toc-modified-id=\"TF-IDF:-подготовка-сбалансированных-обучающий-признаков-3.5.1\"><span class=\"toc-item-num\">3.5.1&nbsp;&nbsp;</span>TF-IDF: подготовка сбалансированных обучающий признаков</a></span></li></ul></li><li><span><a href=\"#Тип-целевого-признака\" data-toc-modified-id=\"Тип-целевого-признака-3.6\"><span class=\"toc-item-num\">3.6&nbsp;&nbsp;</span>Тип целевого признака</a></span></li></ul></li><li><span><a href=\"#Обучение\" data-toc-modified-id=\"Обучение-4\"><span class=\"toc-item-num\">4&nbsp;&nbsp;</span>Обучение</a></span><ul class=\"toc-item\"><li><span><a href=\"#Модели\" data-toc-modified-id=\"Модели-4.1\"><span class=\"toc-item-num\">4.1&nbsp;&nbsp;</span>Модели</a></span><ul class=\"toc-item\"><li><span><a href=\"#Логистическая-регрессия\" data-toc-modified-id=\"Логистическая-регрессия-4.1.1\"><span class=\"toc-item-num\">4.1.1&nbsp;&nbsp;</span>Логистическая регрессия</a></span><ul class=\"toc-item\"><li><span><a href=\"#threshold\" data-toc-modified-id=\"threshold-4.1.1.1\"><span class=\"toc-item-num\">4.1.1.1&nbsp;&nbsp;</span>threshold</a></span></li><li><span><a href=\"#настройка-модели-balanced\" data-toc-modified-id=\"настройка-модели-balanced-4.1.1.2\"><span class=\"toc-item-num\">4.1.1.2&nbsp;&nbsp;</span>настройка модели <code>balanced</code></a></span></li><li><span><a href=\"#upsamling-данных\" data-toc-modified-id=\"upsamling-данных-4.1.1.3\"><span class=\"toc-item-num\">4.1.1.3&nbsp;&nbsp;</span>upsamling данных</a></span></li></ul></li></ul></li><li><span><a href=\"#LGBMClassifier\" data-toc-modified-id=\"LGBMClassifier-4.2\"><span class=\"toc-item-num\">4.2&nbsp;&nbsp;</span>LGBMClassifier</a></span></li><li><span><a href=\"#Проверка-не-тестовой-выборке\" data-toc-modified-id=\"Проверка-не-тестовой-выборке-4.3\"><span class=\"toc-item-num\">4.3&nbsp;&nbsp;</span>Проверка не тестовой выборке</a></span></li></ul></li><li><span><a href=\"#Выводы\" data-toc-modified-id=\"Выводы-5\"><span class=\"toc-item-num\">5&nbsp;&nbsp;</span>Выводы</a></span></li></ul></div>"
   ]
  },
  {
   "cell_type": "markdown",
   "metadata": {},
   "source": [
    "# Проект для «Викишоп»"
   ]
  },
  {
   "cell_type": "markdown",
   "metadata": {},
   "source": [
    "## Введение"
   ]
  },
  {
   "cell_type": "markdown",
   "metadata": {},
   "source": [
    "Интернет-магазин «Викишоп» запускает новый сервис. Теперь пользователи могут редактировать и дополнять описания товаров, как в вики-сообществах. То есть клиенты предлагают свои правки и комментируют изменения других. Магазину нужен инструмент, который будет искать токсичные комментарии и отправлять их на модерацию. \n",
    "\n",
    "Обучите модель классифицировать комментарии на позитивные и негативные. В вашем распоряжении набор данных с разметкой о токсичности правок.\n",
    "\n",
    "Постройте модель со значением метрики качества *F1* не меньше 0.75. \n",
    "\n",
    "**Описание данных**\n",
    "\n",
    "Данные находятся в файле `toxic_comments.csv`. Столбец *text* в нём содержит текст комментария, а *toxic* — целевой признак."
   ]
  },
  {
   "cell_type": "markdown",
   "metadata": {},
   "source": [
    "## Библиотеки и настройки"
   ]
  },
  {
   "cell_type": "markdown",
   "metadata": {},
   "source": [
    "### Библиотеки"
   ]
  },
  {
   "cell_type": "code",
   "execution_count": 1,
   "metadata": {},
   "outputs": [],
   "source": [
    "# ! pip install -U pip setuptools wheel\n",
    "! pip install -q spacy"
   ]
  },
  {
   "cell_type": "code",
   "execution_count": 2,
   "metadata": {},
   "outputs": [],
   "source": [
    "!pip install -q https://github.com/explosion/spacy-models/releases/download/en_core_web_sm-3.0.0/en_core_web_sm-3.0.0.tar.gz"
   ]
  },
  {
   "cell_type": "code",
   "execution_count": 3,
   "metadata": {},
   "outputs": [],
   "source": [
    "!pip install -q optuna"
   ]
  },
  {
   "cell_type": "code",
   "execution_count": 4,
   "metadata": {},
   "outputs": [],
   "source": [
    "import pandas as pd \n",
    "\n",
    "\n",
    "import numpy as np\n",
    "\n",
    "# для графиков\n",
    "import matplotlib.pyplot as plt\n",
    "import seaborn as sns\n",
    "\n",
    "#для загрузки данных и с сервера и локально\n",
    "import os\n",
    "# для скрытия ошибок\n",
    "import warnings\n",
    "from IPython.display import display\n",
    "# для условно рандомных состояний\n",
    "from numpy.random import RandomState\n",
    "# регулярные выражения\n",
    "import re\n",
    "#Лемматизатор\n",
    "import spacy\n",
    "# модель для лемматизации английского языка\n",
    "import en_core_web_sm\n",
    "\n",
    "# разбиение на выборки\n",
    "from sklearn.model_selection import train_test_split\n",
    "\n",
    "# расчитаем TF-IDF\n",
    "from sklearn.feature_extraction.text import TfidfVectorizer\n",
    "from nltk.corpus import stopwords\n",
    "import nltk\n",
    "\n",
    "# Логистическая регрессия\n",
    "from sklearn.linear_model import LogisticRegression\n",
    "# перемешивание данных\n",
    "from sklearn.utils import shuffle\n",
    "\n",
    "# F1 метрика\n",
    "from sklearn.metrics import f1_score\n",
    "\n",
    "import lightgbm as lgb"
   ]
  },
  {
   "cell_type": "markdown",
   "metadata": {},
   "source": [
    "### Настройки"
   ]
  },
  {
   "cell_type": "code",
   "execution_count": 5,
   "metadata": {},
   "outputs": [
    {
     "name": "stderr",
     "output_type": "stream",
     "text": [
      "[nltk_data] Downloading package stopwords to /home/jovyan/nltk_data...\n",
      "[nltk_data]   Package stopwords is already up-to-date!\n"
     ]
    }
   ],
   "source": [
    "# для скрытия ошибок\n",
    "warnings.filterwarnings(\"ignore\")\n",
    "\n",
    "# для увеличения окна вывода \n",
    "pd.options.display.max_rows = 300\n",
    "# максимальная вместимость ячейки для отображения\n",
    "pd.set_option('display.max_colwidth', None)\n",
    "# четыре знака после запятой\n",
    "pd.set_option('display.float_format', '{:.4f}'.format)\n",
    "\n",
    "# для задания размера графиков по умолчанию\n",
    "plt.rcParams[\"figure.figsize\"] = (7, 5)\n",
    "\n",
    "# для псевдорандомных значений\n",
    "np.random.seed(seed=321)\n",
    "np.random.RandomState(seed=321)\n",
    "rs=321\n",
    "\n",
    "# загрузим английские стоп слова\n",
    "nltk.download('stopwords')\n",
    "stop_words = set(stopwords.words('english'))"
   ]
  },
  {
   "cell_type": "markdown",
   "metadata": {},
   "source": [
    "## Подготовка"
   ]
  },
  {
   "cell_type": "markdown",
   "metadata": {},
   "source": [
    "### Загрузка данных"
   ]
  },
  {
   "cell_type": "markdown",
   "metadata": {},
   "source": [
    "Загрузим данные сразу придим им нужный формат."
   ]
  },
  {
   "cell_type": "code",
   "execution_count": 6,
   "metadata": {},
   "outputs": [
    {
     "name": "stdout",
     "output_type": "stream",
     "text": [
      "<class 'pandas.core.frame.DataFrame'>\n",
      "Int64Index: 159292 entries, 0 to 159450\n",
      "Data columns (total 2 columns):\n",
      " #   Column  Non-Null Count   Dtype \n",
      "---  ------  --------------   ----- \n",
      " 0   text    159292 non-null  object\n",
      " 1   toxic   159292 non-null  int64 \n",
      "dtypes: int64(1), object(1)\n",
      "memory usage: 3.6+ MB\n"
     ]
    },
    {
     "data": {
      "text/html": [
       "<div>\n",
       "<style scoped>\n",
       "    .dataframe tbody tr th:only-of-type {\n",
       "        vertical-align: middle;\n",
       "    }\n",
       "\n",
       "    .dataframe tbody tr th {\n",
       "        vertical-align: top;\n",
       "    }\n",
       "\n",
       "    .dataframe thead th {\n",
       "        text-align: right;\n",
       "    }\n",
       "</style>\n",
       "<table border=\"1\" class=\"dataframe\">\n",
       "  <thead>\n",
       "    <tr style=\"text-align: right;\">\n",
       "      <th></th>\n",
       "      <th>text</th>\n",
       "      <th>toxic</th>\n",
       "    </tr>\n",
       "  </thead>\n",
       "  <tbody>\n",
       "    <tr>\n",
       "      <th>0</th>\n",
       "      <td>Explanation\\nWhy the edits made under my username Hardcore Metallica Fan were reverted? They weren't vandalisms, just closure on some GAs after I voted at New York Dolls FAC. And please don't remove the template from the talk page since I'm retired now.89.205.38.27</td>\n",
       "      <td>0</td>\n",
       "    </tr>\n",
       "    <tr>\n",
       "      <th>1</th>\n",
       "      <td>D'aww! He matches this background colour I'm seemingly stuck with. Thanks.  (talk) 21:51, January 11, 2016 (UTC)</td>\n",
       "      <td>0</td>\n",
       "    </tr>\n",
       "    <tr>\n",
       "      <th>2</th>\n",
       "      <td>Hey man, I'm really not trying to edit war. It's just that this guy is constantly removing relevant information and talking to me through edits instead of my talk page. He seems to care more about the formatting than the actual info.</td>\n",
       "      <td>0</td>\n",
       "    </tr>\n",
       "    <tr>\n",
       "      <th>3</th>\n",
       "      <td>\"\\nMore\\nI can't make any real suggestions on improvement - I wondered if the section statistics should be later on, or a subsection of \"\"types of accidents\"\"  -I think the references may need tidying so that they are all in the exact same format ie date format etc. I can do that later on, if no-one else does first - if you have any preferences for formatting style on references or want to do it yourself please let me know.\\n\\nThere appears to be a backlog on articles for review so I guess there may be a delay until a reviewer turns up. It's listed in the relevant form eg Wikipedia:Good_article_nominations#Transport  \"</td>\n",
       "      <td>0</td>\n",
       "    </tr>\n",
       "    <tr>\n",
       "      <th>4</th>\n",
       "      <td>You, sir, are my hero. Any chance you remember what page that's on?</td>\n",
       "      <td>0</td>\n",
       "    </tr>\n",
       "  </tbody>\n",
       "</table>\n",
       "</div>"
      ],
      "text/plain": [
       "                                                                                                                                                                                                                                                                                                                                                                                                                                                                                                                                                                                                                                                 text  \\\n",
       "0                                                                                                                                                                                                                                                                                                                                                                           Explanation\\nWhy the edits made under my username Hardcore Metallica Fan were reverted? They weren't vandalisms, just closure on some GAs after I voted at New York Dolls FAC. And please don't remove the template from the talk page since I'm retired now.89.205.38.27   \n",
       "1                                                                                                                                                                                                                                                                                                                                                                                                                                                                                                                                    D'aww! He matches this background colour I'm seemingly stuck with. Thanks.  (talk) 21:51, January 11, 2016 (UTC)   \n",
       "2                                                                                                                                                                                                                                                                                                                                                                                                           Hey man, I'm really not trying to edit war. It's just that this guy is constantly removing relevant information and talking to me through edits instead of my talk page. He seems to care more about the formatting than the actual info.   \n",
       "3  \"\\nMore\\nI can't make any real suggestions on improvement - I wondered if the section statistics should be later on, or a subsection of \"\"types of accidents\"\"  -I think the references may need tidying so that they are all in the exact same format ie date format etc. I can do that later on, if no-one else does first - if you have any preferences for formatting style on references or want to do it yourself please let me know.\\n\\nThere appears to be a backlog on articles for review so I guess there may be a delay until a reviewer turns up. It's listed in the relevant form eg Wikipedia:Good_article_nominations#Transport  \"   \n",
       "4                                                                                                                                                                                                                                                                                                                                                                                                                                                                                                                                                                                 You, sir, are my hero. Any chance you remember what page that's on?   \n",
       "\n",
       "   toxic  \n",
       "0      0  \n",
       "1      0  \n",
       "2      0  \n",
       "3      0  \n",
       "4      0  "
      ]
     },
     "execution_count": 6,
     "metadata": {},
     "output_type": "execute_result"
    }
   ],
   "source": [
    "#путь с сервероной версии\n",
    "pth1 = '/datasets/toxic_comments.csv'\n",
    "# моя локальная версия\n",
    "pth2 = 'toxic_comments.csv'\n",
    "\n",
    "# загрузка данных\n",
    "if os.path.exists(pth1):\n",
    "    df = pd.read_csv(pth1, index_col='Unnamed: 0'\n",
    "#                      , dtype={'toxic': int, 'text': 'U'}\n",
    "                    )\n",
    "elif os.path.exists(pth2):\n",
    "    df = pd.read_csv(pth2, index_col='Unnamed: 0'\n",
    "#                      , dtype={'toxic': int, 'text': 'U'}\n",
    "                    )\n",
    "else:\n",
    "    display('Проверьте пути к файлам с данными!')\n",
    "\n",
    "df.info()    \n",
    "df.head() "
   ]
  },
  {
   "cell_type": "code",
   "execution_count": 7,
   "metadata": {},
   "outputs": [
    {
     "name": "stdout",
     "output_type": "stream",
     "text": [
      "CPU times: user 1.22 s, sys: 7.03 ms, total: 1.23 s\n",
      "Wall time: 1.24 s\n"
     ]
    },
    {
     "data": {
      "text/plain": [
       "array(['ascii', 'Windows-1252', 'utf-8', 'ISO-8859-1', 'UTF-8-SIG',\n",
       "       'TIS-620'], dtype=object)"
      ]
     },
     "execution_count": 7,
     "metadata": {},
     "output_type": "execute_result"
    }
   ],
   "source": [
    "%%time\n",
    "# Код ревьюера.\n",
    "import chardet\n",
    "# define a function to determine the encoding format of a string\n",
    "def get_encoding(s):\n",
    "    # use chardet to detect the encoding format of the string\n",
    "    result = chardet.detect(s[0].encode())\n",
    "    return result['encoding']\n",
    "\n",
    "# iterate over each string in the series and print the detected encoding format\n",
    "formats = df['text'].apply(get_encoding)\n",
    "\n",
    "formats.unique() "
   ]
  },
  {
   "cell_type": "code",
   "execution_count": 8,
   "metadata": {},
   "outputs": [],
   "source": [
    "del formats"
   ]
  },
  {
   "cell_type": "markdown",
   "metadata": {},
   "source": [
    "**Вывод**: Данные загружены корректно."
   ]
  },
  {
   "cell_type": "markdown",
   "metadata": {},
   "source": [
    "### Анализ данных"
   ]
  },
  {
   "cell_type": "markdown",
   "metadata": {},
   "source": [
    "#### Дисбаланс класса на всех данных"
   ]
  },
  {
   "cell_type": "code",
   "execution_count": 9,
   "metadata": {},
   "outputs": [
    {
     "data": {
      "text/plain": [
       "array([0, 1])"
      ]
     },
     "metadata": {},
     "output_type": "display_data"
    },
    {
     "data": {
      "text/plain": [
       "0.10161213369158527"
      ]
     },
     "execution_count": 9,
     "metadata": {},
     "output_type": "execute_result"
    }
   ],
   "source": [
    "display(df['toxic'].unique())\n",
    "df['toxic'].mean()"
   ]
  },
  {
   "cell_type": "markdown",
   "metadata": {},
   "source": [
    "**Вывод**: Мы видим сильный дисбаланс класса: отрицательный класс к положительному как 9 к 1."
   ]
  },
  {
   "cell_type": "markdown",
   "metadata": {},
   "source": [
    "#### Максимальная длина строки"
   ]
  },
  {
   "cell_type": "markdown",
   "metadata": {},
   "source": [
    "Найдем максимальную длину отзыва."
   ]
  },
  {
   "cell_type": "code",
   "execution_count": 10,
   "metadata": {},
   "outputs": [
    {
     "data": {
      "text/plain": [
       "5000"
      ]
     },
     "execution_count": 10,
     "metadata": {},
     "output_type": "execute_result"
    }
   ],
   "source": [
    "max_len = len(max(df['text'], key=len))\n",
    "max_len"
   ]
  },
  {
   "cell_type": "markdown",
   "metadata": {},
   "source": [
    "Вот это да, у кого-то нервы не выдержали...\n",
    "\n",
    "Но нам нужны реальные данные, чтобы наши аппаратные мощьности смогли это обработать. \n",
    "\n",
    "Посмотрим статистику и график по длинам отзывов."
   ]
  },
  {
   "cell_type": "code",
   "execution_count": 11,
   "metadata": {},
   "outputs": [
    {
     "data": {
      "text/plain": [
       "count   159292.0000\n",
       "mean       393.6913\n",
       "std        590.1118\n",
       "min          5.0000\n",
       "25%         95.0000\n",
       "50%        205.0000\n",
       "75%        435.0000\n",
       "max       5000.0000\n",
       "Name: len, dtype: float64"
      ]
     },
     "execution_count": 11,
     "metadata": {},
     "output_type": "execute_result"
    }
   ],
   "source": [
    "df['len']= df['text'].apply(lambda x: len(x))\n",
    "df['len'].describe()"
   ]
  },
  {
   "cell_type": "code",
   "execution_count": 12,
   "metadata": {},
   "outputs": [
    {
     "data": {
      "image/png": "[encoded data removed]",
      "text/plain": [
       "<Figure size 504x360 with 1 Axes>"
      ]
     },
     "metadata": {
      "needs_background": "light"
     },
     "output_type": "display_data"
    }
   ],
   "source": [
    "# df['len'].hist(bins=50)\n",
    "sns.kdeplot(data = df['len'], shade=True)\n",
    "plt.title('График плотности отзывов по их длине в символах')\n",
    "plt.xlabel('Длина отзыва(количество символов)')\n",
    "plt.ylabel('Частота отзывов такой длины')\n",
    "plt.show()"
   ]
  },
  {
   "cell_type": "code",
   "execution_count": 13,
   "metadata": {},
   "outputs": [],
   "source": [
    "# max_len = 1000\n",
    "# display('Если мы оставим отзывы с длиной до {}, то мы сохраним {:.2%} всех отзывов.'.format(max_len, \n",
    "#     df[df['len'] <=max_len]['len'].count() / df['len'].count()))"
   ]
  },
  {
   "cell_type": "markdown",
   "metadata": {},
   "source": [
    "~**Вывод**: Примем волевое решение и уберём из наших данных все отзывы длиною более выбранной нами максимальной длины символов. Это нужно для экономии аппаратных ресурсов. \n",
    "\n",
    "Максимальная длина:~\n",
    "\n",
    "**Вывод**: Много слов. Но идем дельше."
   ]
  },
  {
   "cell_type": "markdown",
   "metadata": {},
   "source": [
    "Далее информация о длине отзыва на не понадобится. Удалим её."
   ]
  },
  {
   "cell_type": "code",
   "execution_count": 16,
   "metadata": {},
   "outputs": [
    {
     "data": {
      "text/plain": [
       "Index(['text', 'toxic'], dtype='object')"
      ]
     },
     "execution_count": 16,
     "metadata": {},
     "output_type": "execute_result"
    }
   ],
   "source": [
    "df.drop(columns='len', inplace=True)\n",
    "df.columns"
   ]
  },
  {
   "cell_type": "markdown",
   "metadata": {},
   "source": [
    "**Вывод**: После уменьшения данных из-за длины отзыва дисбаланс классов осталься на прежнем уровне. При обучении моделей мы будем использовать методики, чтобы устранить дисбаланс классов, если это будет мешать моделям."
   ]
  },
  {
   "cell_type": "code",
   "execution_count": 18,
   "metadata": {},
   "outputs": [],
   "source": [
    "# # df_features = df.sample(n=32000, replace=False, weights=None, random_state=rs)\n",
    "df_features=df\n",
    "# df_features.info()"
   ]
  },
  {
   "cell_type": "markdown",
   "metadata": {},
   "source": [
    "### Обработка"
   ]
  },
  {
   "cell_type": "markdown",
   "metadata": {},
   "source": [
    "Результаты обработок мы будем сохранять в дополнительный столбец `lemm_text`."
   ]
  },
  {
   "cell_type": "markdown",
   "metadata": {},
   "source": [
    "#### Очистка от лишних символов."
   ]
  },
  {
   "cell_type": "markdown",
   "metadata": {},
   "source": [
    "Напишем фунцию для очистки текста и приведению слов к нижнему регистру."
   ]
  },
  {
   "cell_type": "code",
   "execution_count": 20,
   "metadata": {},
   "outputs": [
    {
     "data": {
      "text/plain": [
       "\"D'aww! He matches this background colour I'm seemingly stuck with. Thanks.  (talk) 21:51, January 11, 2016 (UTC)\""
      ]
     },
     "metadata": {},
     "output_type": "display_data"
    },
    {
     "data": {
      "text/plain": [
       "'d aww he matches this background colour i m seemingly stuck with thanks talk january utc'"
      ]
     },
     "metadata": {},
     "output_type": "display_data"
    }
   ],
   "source": [
    "def clear_text(text):\n",
    "    return \" \".join(re.sub(r'[^A-Za-z]', ' ', text).split()).lower()\n",
    "\n",
    "display(df.loc[1, 'text'])\n",
    "display(clear_text(df.loc[1, 'text']))"
   ]
  },
  {
   "cell_type": "markdown",
   "metadata": {},
   "source": [
    "#### Лемматизация"
   ]
  },
  {
   "cell_type": "markdown",
   "metadata": {},
   "source": [
    "Напишем функцию для лемматизации текста."
   ]
  },
  {
   "cell_type": "code",
   "execution_count": 21,
   "metadata": {},
   "outputs": [],
   "source": [
    "# nlp = spacy.load('en_core_web_sm')\n",
    "nlp = spacy.load('en_core_web_sm', disable=['parser', 'ner'])\n",
    "\n",
    "def lemmatize(text):\n",
    "    global nlp\n",
    "    doc = nlp(text)\n",
    "    return \" \".join([token.lemma_ for token in doc])"
   ]
  },
  {
   "cell_type": "markdown",
   "metadata": {},
   "source": [
    "Применим функции очистки и лемматизации текста."
   ]
  },
  {
   "cell_type": "code",
   "execution_count": 23,
   "metadata": {
    "scrolled": true
   },
   "outputs": [
    {
     "data": {
      "text/html": [
       "<div>\n",
       "<style scoped>\n",
       "    .dataframe tbody tr th:only-of-type {\n",
       "        vertical-align: middle;\n",
       "    }\n",
       "\n",
       "    .dataframe tbody tr th {\n",
       "        vertical-align: top;\n",
       "    }\n",
       "\n",
       "    .dataframe thead th {\n",
       "        text-align: right;\n",
       "    }\n",
       "</style>\n",
       "<table border=\"1\" class=\"dataframe\">\n",
       "  <thead>\n",
       "    <tr style=\"text-align: right;\">\n",
       "      <th></th>\n",
       "      <th>text</th>\n",
       "      <th>toxic</th>\n",
       "      <th>lemm_text</th>\n",
       "    </tr>\n",
       "  </thead>\n",
       "  <tbody>\n",
       "    <tr>\n",
       "      <th>0</th>\n",
       "      <td>Explanation\\nWhy the edits made under my username Hardcore Metallica Fan were reverted? They weren't vandalisms, just closure on some GAs after I voted at New York Dolls FAC. And please don't remove the template from the talk page since I'm retired now.89.205.38.27</td>\n",
       "      <td>0</td>\n",
       "      <td>explanation why the edit make under my username hardcore metallica fan be revert they weren t vandalism just closure on some gas after I vote at new york doll fac and please don t remove the template from the talk page since I m retire now</td>\n",
       "    </tr>\n",
       "    <tr>\n",
       "      <th>1</th>\n",
       "      <td>D'aww! He matches this background colour I'm seemingly stuck with. Thanks.  (talk) 21:51, January 11, 2016 (UTC)</td>\n",
       "      <td>0</td>\n",
       "      <td>d aww he match this background colour I m seemingly stuck with thank talk january utc</td>\n",
       "    </tr>\n",
       "    <tr>\n",
       "      <th>2</th>\n",
       "      <td>Hey man, I'm really not trying to edit war. It's just that this guy is constantly removing relevant information and talking to me through edits instead of my talk page. He seems to care more about the formatting than the actual info.</td>\n",
       "      <td>0</td>\n",
       "      <td>hey man I m really not try to edit war it s just that this guy be constantly remove relevant information and talk to I through edit instead of my talk page he seem to care more about the formatting than the actual info</td>\n",
       "    </tr>\n",
       "    <tr>\n",
       "      <th>3</th>\n",
       "      <td>\"\\nMore\\nI can't make any real suggestions on improvement - I wondered if the section statistics should be later on, or a subsection of \"\"types of accidents\"\"  -I think the references may need tidying so that they are all in the exact same format ie date format etc. I can do that later on, if no-one else does first - if you have any preferences for formatting style on references or want to do it yourself please let me know.\\n\\nThere appears to be a backlog on articles for review so I guess there may be a delay until a reviewer turns up. It's listed in the relevant form eg Wikipedia:Good_article_nominations#Transport  \"</td>\n",
       "      <td>0</td>\n",
       "      <td>more I can t make any real suggestion on improvement I wonder if the section statistic should be later on or a subsection of type of accident I think the reference may need tidy so that they be all in the exact same format ie date format etc I can do that later on if no one else do first if you have any preference for format style on reference or want to do it yourself please let I know there appear to be a backlog on article for review so I guess there may be a delay until a reviewer turn up it s list in the relevant form eg wikipedia good article nomination transport</td>\n",
       "    </tr>\n",
       "    <tr>\n",
       "      <th>4</th>\n",
       "      <td>You, sir, are my hero. Any chance you remember what page that's on?</td>\n",
       "      <td>0</td>\n",
       "      <td>you sir be my hero any chance you remember what page that s on</td>\n",
       "    </tr>\n",
       "  </tbody>\n",
       "</table>\n",
       "</div>"
      ],
      "text/plain": [
       "                                                                                                                                                                                                                                                                                                                                                                                                                                                                                                                                                                                                                                                 text  \\\n",
       "0                                                                                                                                                                                                                                                                                                                                                                           Explanation\\nWhy the edits made under my username Hardcore Metallica Fan were reverted? They weren't vandalisms, just closure on some GAs after I voted at New York Dolls FAC. And please don't remove the template from the talk page since I'm retired now.89.205.38.27   \n",
       "1                                                                                                                                                                                                                                                                                                                                                                                                                                                                                                                                    D'aww! He matches this background colour I'm seemingly stuck with. Thanks.  (talk) 21:51, January 11, 2016 (UTC)   \n",
       "2                                                                                                                                                                                                                                                                                                                                                                                                           Hey man, I'm really not trying to edit war. It's just that this guy is constantly removing relevant information and talking to me through edits instead of my talk page. He seems to care more about the formatting than the actual info.   \n",
       "3  \"\\nMore\\nI can't make any real suggestions on improvement - I wondered if the section statistics should be later on, or a subsection of \"\"types of accidents\"\"  -I think the references may need tidying so that they are all in the exact same format ie date format etc. I can do that later on, if no-one else does first - if you have any preferences for formatting style on references or want to do it yourself please let me know.\\n\\nThere appears to be a backlog on articles for review so I guess there may be a delay until a reviewer turns up. It's listed in the relevant form eg Wikipedia:Good_article_nominations#Transport  \"   \n",
       "4                                                                                                                                                                                                                                                                                                                                                                                                                                                                                                                                                                                 You, sir, are my hero. Any chance you remember what page that's on?   \n",
       "\n",
       "   toxic  \\\n",
       "0      0   \n",
       "1      0   \n",
       "2      0   \n",
       "3      0   \n",
       "4      0   \n",
       "\n",
       "                                                                                                                                                                                                                                                                                                                                                                                                                                                                                                                                                                                         lemm_text  \n",
       "0                                                                                                                                                                                                                                                                                                                                                  explanation why the edit make under my username hardcore metallica fan be revert they weren t vandalism just closure on some gas after I vote at new york doll fac and please don t remove the template from the talk page since I m retire now  \n",
       "1                                                                                                                                                                                                                                                                                                                                                                                                                                                                                                            d aww he match this background colour I m seemingly stuck with thank talk january utc  \n",
       "2                                                                                                                                                                                                                                                                                                                                                                       hey man I m really not try to edit war it s just that this guy be constantly remove relevant information and talk to I through edit instead of my talk page he seem to care more about the formatting than the actual info  \n",
       "3  more I can t make any real suggestion on improvement I wonder if the section statistic should be later on or a subsection of type of accident I think the reference may need tidy so that they be all in the exact same format ie date format etc I can do that later on if no one else do first if you have any preference for format style on reference or want to do it yourself please let I know there appear to be a backlog on article for review so I guess there may be a delay until a reviewer turn up it s list in the relevant form eg wikipedia good article nomination transport  \n",
       "4                                                                                                                                                                                                                                                                                                                                                                                                                                                                                                                                   you sir be my hero any chance you remember what page that s on  "
      ]
     },
     "execution_count": 23,
     "metadata": {},
     "output_type": "execute_result"
    }
   ],
   "source": [
    "df_features['lemm_text'] = df_features['text'].apply(clear_text).apply(lemmatize)\n",
    "df_features.head()"
   ]
  },
  {
   "cell_type": "markdown",
   "metadata": {},
   "source": [
    "Запишем в файл результат лемматизации."
   ]
  },
  {
   "cell_type": "code",
   "execution_count": 25,
   "metadata": {},
   "outputs": [],
   "source": [
    "# записываем разультаты в файл\n",
    "df_features.to_csv('lemm_text_file.csv', index=False)"
   ]
  },
  {
   "cell_type": "code",
   "execution_count": 26,
   "metadata": {},
   "outputs": [
    {
     "data": {
      "text/html": [
       "<div>\n",
       "<style scoped>\n",
       "    .dataframe tbody tr th:only-of-type {\n",
       "        vertical-align: middle;\n",
       "    }\n",
       "\n",
       "    .dataframe tbody tr th {\n",
       "        vertical-align: top;\n",
       "    }\n",
       "\n",
       "    .dataframe thead th {\n",
       "        text-align: right;\n",
       "    }\n",
       "</style>\n",
       "<table border=\"1\" class=\"dataframe\">\n",
       "  <thead>\n",
       "    <tr style=\"text-align: right;\">\n",
       "      <th></th>\n",
       "      <th>text</th>\n",
       "      <th>toxic</th>\n",
       "      <th>lemm_text</th>\n",
       "    </tr>\n",
       "  </thead>\n",
       "  <tbody>\n",
       "    <tr>\n",
       "      <th>0</th>\n",
       "      <td>Explanation\\nWhy the edits made under my username Hardcore Metallica Fan were reverted? They weren't vandalisms, just closure on some GAs after I voted at New York Dolls FAC. And please don't remove the template from the talk page since I'm retired now.89.205.38.27</td>\n",
       "      <td>0</td>\n",
       "      <td>explanation why the edit make under my username hardcore metallica fan be revert they weren t vandalism just closure on some gas after I vote at new york doll fac and please don t remove the template from the talk page since I m retire now</td>\n",
       "    </tr>\n",
       "    <tr>\n",
       "      <th>1</th>\n",
       "      <td>D'aww! He matches this background colour I'm seemingly stuck with. Thanks.  (talk) 21:51, January 11, 2016 (UTC)</td>\n",
       "      <td>0</td>\n",
       "      <td>d aww he match this background colour I m seemingly stuck with thank talk january utc</td>\n",
       "    </tr>\n",
       "    <tr>\n",
       "      <th>2</th>\n",
       "      <td>Hey man, I'm really not trying to edit war. It's just that this guy is constantly removing relevant information and talking to me through edits instead of my talk page. He seems to care more about the formatting than the actual info.</td>\n",
       "      <td>0</td>\n",
       "      <td>hey man I m really not try to edit war it s just that this guy be constantly remove relevant information and talk to I through edit instead of my talk page he seem to care more about the formatting than the actual info</td>\n",
       "    </tr>\n",
       "    <tr>\n",
       "      <th>3</th>\n",
       "      <td>\"\\nMore\\nI can't make any real suggestions on improvement - I wondered if the section statistics should be later on, or a subsection of \"\"types of accidents\"\"  -I think the references may need tidying so that they are all in the exact same format ie date format etc. I can do that later on, if no-one else does first - if you have any preferences for formatting style on references or want to do it yourself please let me know.\\n\\nThere appears to be a backlog on articles for review so I guess there may be a delay until a reviewer turns up. It's listed in the relevant form eg Wikipedia:Good_article_nominations#Transport  \"</td>\n",
       "      <td>0</td>\n",
       "      <td>more I can t make any real suggestion on improvement I wonder if the section statistic should be later on or a subsection of type of accident I think the reference may need tidy so that they be all in the exact same format ie date format etc I can do that later on if no one else do first if you have any preference for format style on reference or want to do it yourself please let I know there appear to be a backlog on article for review so I guess there may be a delay until a reviewer turn up it s list in the relevant form eg wikipedia good article nomination transport</td>\n",
       "    </tr>\n",
       "    <tr>\n",
       "      <th>4</th>\n",
       "      <td>You, sir, are my hero. Any chance you remember what page that's on?</td>\n",
       "      <td>0</td>\n",
       "      <td>you sir be my hero any chance you remember what page that s on</td>\n",
       "    </tr>\n",
       "  </tbody>\n",
       "</table>\n",
       "</div>"
      ],
      "text/plain": [
       "                                                                                                                                                                                                                                                                                                                                                                                                                                                                                                                                                                                                                                                 text  \\\n",
       "0                                                                                                                                                                                                                                                                                                                                                                           Explanation\\nWhy the edits made under my username Hardcore Metallica Fan were reverted? They weren't vandalisms, just closure on some GAs after I voted at New York Dolls FAC. And please don't remove the template from the talk page since I'm retired now.89.205.38.27   \n",
       "1                                                                                                                                                                                                                                                                                                                                                                                                                                                                                                                                    D'aww! He matches this background colour I'm seemingly stuck with. Thanks.  (talk) 21:51, January 11, 2016 (UTC)   \n",
       "2                                                                                                                                                                                                                                                                                                                                                                                                           Hey man, I'm really not trying to edit war. It's just that this guy is constantly removing relevant information and talking to me through edits instead of my talk page. He seems to care more about the formatting than the actual info.   \n",
       "3  \"\\nMore\\nI can't make any real suggestions on improvement - I wondered if the section statistics should be later on, or a subsection of \"\"types of accidents\"\"  -I think the references may need tidying so that they are all in the exact same format ie date format etc. I can do that later on, if no-one else does first - if you have any preferences for formatting style on references or want to do it yourself please let me know.\\n\\nThere appears to be a backlog on articles for review so I guess there may be a delay until a reviewer turns up. It's listed in the relevant form eg Wikipedia:Good_article_nominations#Transport  \"   \n",
       "4                                                                                                                                                                                                                                                                                                                                                                                                                                                                                                                                                                                 You, sir, are my hero. Any chance you remember what page that's on?   \n",
       "\n",
       "   toxic  \\\n",
       "0      0   \n",
       "1      0   \n",
       "2      0   \n",
       "3      0   \n",
       "4      0   \n",
       "\n",
       "                                                                                                                                                                                                                                                                                                                                                                                                                                                                                                                                                                                         lemm_text  \n",
       "0                                                                                                                                                                                                                                                                                                                                                  explanation why the edit make under my username hardcore metallica fan be revert they weren t vandalism just closure on some gas after I vote at new york doll fac and please don t remove the template from the talk page since I m retire now  \n",
       "1                                                                                                                                                                                                                                                                                                                                                                                                                                                                                                            d aww he match this background colour I m seemingly stuck with thank talk january utc  \n",
       "2                                                                                                                                                                                                                                                                                                                                                                       hey man I m really not try to edit war it s just that this guy be constantly remove relevant information and talk to I through edit instead of my talk page he seem to care more about the formatting than the actual info  \n",
       "3  more I can t make any real suggestion on improvement I wonder if the section statistic should be later on or a subsection of type of accident I think the reference may need tidy so that they be all in the exact same format ie date format etc I can do that later on if no one else do first if you have any preference for format style on reference or want to do it yourself please let I know there appear to be a backlog on article for review so I guess there may be a delay until a reviewer turn up it s list in the relevant form eg wikipedia good article nomination transport  \n",
       "4                                                                                                                                                                                                                                                                                                                                                                                                                                                                                                                                   you sir be my hero any chance you remember what page that s on  "
      ]
     },
     "execution_count": 26,
     "metadata": {},
     "output_type": "execute_result"
    }
   ],
   "source": [
    "# берем обработанные данные из файла - экономи 2 часа жизни\n",
    "df_features = pd.read_csv('lemm_text_file.csv')\n",
    "df_features.head()"
   ]
  },
  {
   "cell_type": "markdown",
   "metadata": {},
   "source": [
    "**Вывод**: Лемматизация и очистка от символово прошла успешно."
   ]
  },
  {
   "cell_type": "markdown",
   "metadata": {},
   "source": [
    "### Разбиение на выборки"
   ]
  },
  {
   "cell_type": "markdown",
   "metadata": {},
   "source": [
    "Так как при расчетах TFIDF мы можем допустить косвенную утечку данных, то разделим данные на тренировочную(60%), валидационную(20%) и тестовую(20%) выборки до этих расчетов."
   ]
  },
  {
   "cell_type": "markdown",
   "metadata": {},
   "source": [
    "А перед этим выделим целевой и обучающий признаки."
   ]
  },
  {
   "cell_type": "code",
   "execution_count": 23,
   "metadata": {},
   "outputs": [],
   "source": [
    "target = df_features['toxic']\n",
    "features = df_features['lemm_text']"
   ]
  },
  {
   "cell_type": "code",
   "execution_count": 28,
   "metadata": {},
   "outputs": [
    {
     "data": {
      "text/plain": [
       "(pandas.core.series.Series, pandas.core.series.Series)"
      ]
     },
     "execution_count": 28,
     "metadata": {},
     "output_type": "execute_result"
    }
   ],
   "source": [
    "type(target), type(features)"
   ]
  },
  {
   "cell_type": "code",
   "execution_count": 24,
   "metadata": {},
   "outputs": [
    {
     "data": {
      "text/plain": [
       "((127433,), (31859,), (127433,), (31859,))"
      ]
     },
     "execution_count": 24,
     "metadata": {},
     "output_type": "execute_result"
    }
   ],
   "source": [
    "features_train, features_test, target_train, target_test = train_test_split(features, target\n",
    "                                                                           , test_size=0.2\n",
    "                                                                            , random_state=rs\n",
    "                                                                            , stratify=target\n",
    "                                                                           )\n",
    "features_train.shape, features_test.shape, target_train.shape, target_test.shape"
   ]
  },
  {
   "cell_type": "code",
   "execution_count": 25,
   "metadata": {},
   "outputs": [
    {
     "data": {
      "text/plain": [
       "((95574,), (31859,), (95574,), (31859,))"
      ]
     },
     "execution_count": 25,
     "metadata": {},
     "output_type": "execute_result"
    }
   ],
   "source": [
    "features_train, features_valid, target_train, target_valid = train_test_split(features_train, target_train\n",
    "                                                                           , test_size=0.25\n",
    "                                                                            , random_state=rs\n",
    "                                                                            , stratify=target_train\n",
    "                                                                           )\n",
    "features_train.shape, features_valid.shape, target_train.shape, target_valid.shape"
   ]
  },
  {
   "cell_type": "code",
   "execution_count": 26,
   "metadata": {},
   "outputs": [
    {
     "data": {
      "text/plain": [
       "(0.10160394237107254, 0.10160394237107254, 0.10161759474334024)"
      ]
     },
     "execution_count": 26,
     "metadata": {},
     "output_type": "execute_result"
    }
   ],
   "source": [
    "# проверим наш дисбаланс\n",
    "target_test.mean(), target_valid.mean(), target_train.mean()"
   ]
  },
  {
   "cell_type": "markdown",
   "metadata": {},
   "source": [
    "**Вывод**: Разделения на целевой и обучающий признаки, а так же на тренировочную, валидационную/проверочную и тестовую прошли успешно. Дисбаланс класса сохранился везде."
   ]
  },
  {
   "cell_type": "markdown",
   "metadata": {},
   "source": [
    "#### Upsampling тренировочной выборки"
   ]
  },
  {
   "cell_type": "markdown",
   "metadata": {},
   "source": [
    "Напишем функцию для борьбы с дисбалансом классов."
   ]
  },
  {
   "cell_type": "code",
   "execution_count": 27,
   "metadata": {},
   "outputs": [],
   "source": [
    "# функция upsample для увеличения числа объектов для борьбы с дисбалансом классов\n",
    "def upsample(X, y, repeat=10):\n",
    "#     # перейдем в типы данных pd\n",
    "#     X = pd.DataFrame(X, copy=True)\n",
    "#     y = pd.Series(y, index=X.index, copy=True)\n",
    "    # сделаем upsumpling\n",
    "    features_zeros = X[y == 0]\n",
    "    features_ones = X[y == 1]\n",
    "    target_zeros = y[y == 0]\n",
    "    target_ones = y[y == 1]\n",
    "    \n",
    "    \n",
    "    features_upsampled = pd.concat([features_zeros] + [features_ones] * repeat)\n",
    "    target_upsampled = pd.concat([target_zeros] + [target_ones] * repeat)\n",
    "    \n",
    "    \n",
    "    features_upsampled, target_upsampled = shuffle(features_upsampled, target_upsampled, random_state=rs)\n",
    "    \n",
    "#     # вернемся в np\n",
    "#     features_upsampled = features_upsampled.values\n",
    "#     target_upsampled = target_upsampled.values\n",
    "    \n",
    "    return features_upsampled, target_upsampled\n"
   ]
  },
  {
   "cell_type": "markdown",
   "metadata": {},
   "source": [
    "Подготовим сбалансированную тренировочную выборку."
   ]
  },
  {
   "cell_type": "code",
   "execution_count": 28,
   "metadata": {},
   "outputs": [
    {
     "data": {
      "text/plain": [
       "((173270,), (173270,))"
      ]
     },
     "execution_count": 28,
     "metadata": {},
     "output_type": "execute_result"
    }
   ],
   "source": [
    "features_train_upsamled, target_train_upsampled = upsample(features_train, target_train, 9)\n",
    "features_train_upsamled.shape, target_train_upsampled.shape"
   ]
  },
  {
   "cell_type": "markdown",
   "metadata": {},
   "source": [
    "**Вывод**: Мы подготовили сбалансированную тренировочную выборку по методу *upsampling*. И целевой тренировочный признак."
   ]
  },
  {
   "cell_type": "markdown",
   "metadata": {},
   "source": [
    "### TF-IDF: подготовка обучающий признаков"
   ]
  },
  {
   "cell_type": "markdown",
   "metadata": {},
   "source": [
    "Пришло время от слов перейти к числам. Преобразуем наш обучающий признак в признаки, которые отражают как часто каждое слово входит и в сам объект и во все данные выборки. И, конечно, перед началом цифровизации уберем стоп-слова."
   ]
  },
  {
   "cell_type": "markdown",
   "metadata": {},
   "source": [
    "Важно, чтобы признаки у всех выборок были как тренировочной."
   ]
  },
  {
   "cell_type": "markdown",
   "metadata": {},
   "source": [
    "Напишем функцию, которая подготовит для нас обучающие признаки."
   ]
  },
  {
   "cell_type": "code",
   "execution_count": 29,
   "metadata": {},
   "outputs": [],
   "source": [
    "\n",
    "def tf_idf_transform(train, valid, test):\n",
    "    # приведем к нужному формату\n",
    "    coprus_train = train.values #.astype('U')\n",
    "    coprus_valid = valid.values #.astype('U')\n",
    "    coprus_test = test.values #.astype('U')\n",
    "    # создадим и обучим модель на тренировочной выборке для создания TFIDF матриц\n",
    "    count_tf_idf = TfidfVectorizer(stop_words=stop_words).fit(coprus_train)\n",
    "#     count_tf_idf.get_feature_names() \n",
    "    # получим обучающие признаки\n",
    "    result_train = count_tf_idf.transform(coprus_train)\n",
    "    result_valid = count_tf_idf.transform(coprus_valid)\n",
    "    result_test = count_tf_idf.transform(coprus_test)\n",
    "    return result_train, result_valid, result_test"
   ]
  },
  {
   "cell_type": "markdown",
   "metadata": {},
   "source": [
    "Применим её для тренировочной, валидационной и тестовой выборок."
   ]
  },
  {
   "cell_type": "code",
   "execution_count": 30,
   "metadata": {},
   "outputs": [
    {
     "data": {
      "text/plain": [
       "(<95574x125135 sparse matrix of type '<class 'numpy.float64'>'\n",
       " \twith 2595765 stored elements in Compressed Sparse Row format>,\n",
       " <31859x125135 sparse matrix of type '<class 'numpy.float64'>'\n",
       " \twith 846779 stored elements in Compressed Sparse Row format>,\n",
       " <31859x125135 sparse matrix of type '<class 'numpy.float64'>'\n",
       " \twith 847598 stored elements in Compressed Sparse Row format>)"
      ]
     },
     "execution_count": 30,
     "metadata": {},
     "output_type": "execute_result"
    }
   ],
   "source": [
    "features_train_tf_idf, features_valid_tf_idf, features_test_tf_idf = tf_idf_transform(features_train\n",
    "                                                                                     , features_valid\n",
    "                                                                                     , features_test)\n",
    "features_train_tf_idf, features_valid_tf_idf, features_test_tf_idf"
   ]
  },
  {
   "cell_type": "markdown",
   "metadata": {},
   "source": [
    "**Вывод**: Был один признак огромной длины, а теперь много признаков, зато числовых. Это не сбалансированные данные. Подстрахуемся и продолжим готовить и сбалансированные данные."
   ]
  },
  {
   "cell_type": "markdown",
   "metadata": {},
   "source": [
    "#### TF-IDF: подготовка сбалансированных обучающий признаков"
   ]
  },
  {
   "cell_type": "code",
   "execution_count": 31,
   "metadata": {},
   "outputs": [
    {
     "data": {
      "text/plain": [
       "(<173270x125135 sparse matrix of type '<class 'numpy.float64'>'\n",
       " \twith 4039829 stored elements in Compressed Sparse Row format>,\n",
       " <31859x125135 sparse matrix of type '<class 'numpy.float64'>'\n",
       " \twith 846779 stored elements in Compressed Sparse Row format>,\n",
       " <31859x125135 sparse matrix of type '<class 'numpy.float64'>'\n",
       " \twith 847598 stored elements in Compressed Sparse Row format>)"
      ]
     },
     "execution_count": 31,
     "metadata": {},
     "output_type": "execute_result"
    }
   ],
   "source": [
    "features_train_upsamled_tf_idf, features_valid_upsampled_tf_idf, features_test_upsampled_tf_idf = tf_idf_transform(\n",
    "    features_train_upsamled, features_valid, features_test)\n",
    "\n",
    "features_train_upsamled_tf_idf, features_valid_upsampled_tf_idf, features_test_upsampled_tf_idf"
   ]
  },
  {
   "cell_type": "markdown",
   "metadata": {},
   "source": [
    "**Вывод**: Мы получили сбалансированный набор данных для обучения моделей."
   ]
  },
  {
   "cell_type": "markdown",
   "metadata": {},
   "source": [
    "### Тип целевого признака"
   ]
  },
  {
   "cell_type": "markdown",
   "metadata": {},
   "source": [
    "Приведем наши целевые признаки в разных выборках к сочетающему типу наших обучающиих признаков."
   ]
  },
  {
   "cell_type": "code",
   "execution_count": 39,
   "metadata": {},
   "outputs": [],
   "source": [
    "target_train = target_train.values\n",
    "target_valid = target_valid.values\n",
    "target_test = target_test.values\n",
    "\n",
    "target_train_upsampled = target_train_upsampled.values"
   ]
  },
  {
   "cell_type": "code",
   "execution_count": 40,
   "metadata": {},
   "outputs": [
    {
     "data": {
      "text/plain": [
       "(numpy.ndarray, numpy.ndarray, numpy.ndarray, numpy.ndarray)"
      ]
     },
     "execution_count": 40,
     "metadata": {},
     "output_type": "execute_result"
    }
   ],
   "source": [
    "type(target_train), type(target_valid), type(target_test), type(target_train_upsampled)"
   ]
  },
  {
   "cell_type": "markdown",
   "metadata": {},
   "source": [
    "**Вывод**: Целевой признак по типу готов."
   ]
  },
  {
   "cell_type": "markdown",
   "metadata": {},
   "source": [
    "## Обучение"
   ]
  },
  {
   "cell_type": "markdown",
   "metadata": {},
   "source": [
    "Раз обучающие и целевые признаки готовы пора работать с моделями:\n",
    "- мы будем обучать модели на тренировочных выборках,\n",
    "- среди обученных моделей выберем ту, у которой F1-мера (гармоническое среднее точности и полноты) будет самое высокой и выше 0,75.\n",
    "- победителя, проверим на тестовой выборке."
   ]
  },
  {
   "cell_type": "markdown",
   "metadata": {},
   "source": [
    "### Модели"
   ]
  },
  {
   "cell_type": "markdown",
   "metadata": {},
   "source": [
    "#### Логистическая регрессия"
   ]
  },
  {
   "cell_type": "markdown",
   "metadata": {},
   "source": [
    "Проверим наши показатели на настройках по умолчанию."
   ]
  },
  {
   "cell_type": "code",
   "execution_count": 41,
   "metadata": {},
   "outputs": [
    {
     "data": {
      "text/plain": [
       "0.7600720094357191"
      ]
     },
     "execution_count": 41,
     "metadata": {},
     "output_type": "execute_result"
    }
   ],
   "source": [
    "model = LogisticRegression()\n",
    "model.fit(features_train_tf_idf, target_train)\n",
    "# F1 метрика на тренировочной выборке\n",
    "f1_score(target_train, model.predict(features_train_tf_idf))"
   ]
  },
  {
   "cell_type": "code",
   "execution_count": 42,
   "metadata": {
    "scrolled": true
   },
   "outputs": [
    {
     "data": {
      "text/plain": [
       "0.7373548145372799"
      ]
     },
     "execution_count": 42,
     "metadata": {},
     "output_type": "execute_result"
    }
   ],
   "source": [
    "# F1 метрика на проверочной выборке\n",
    "f1_score(target_valid, model.predict(features_valid_tf_idf))"
   ]
  },
  {
   "cell_type": "markdown",
   "metadata": {},
   "source": [
    "**Вывод**: Модель плохо обучилась и на проверочных показателях показала плохие показетели.\n",
    "\n",
    "Но не будем забывать, что у нас большой дисбаланс классов. Проверим работу модели на сбалансированных данных и настройками для модели для устранения дисбаланса. А перед этим проверим пороги..."
   ]
  },
  {
   "cell_type": "markdown",
   "metadata": {},
   "source": [
    "##### threshold"
   ]
  },
  {
   "cell_type": "code",
   "execution_count": 43,
   "metadata": {
    "collapsed": true
   },
   "outputs": [
    {
     "data": {
      "text/plain": [
       "'Порог = 0.02 | F1 = 0.295'"
      ]
     },
     "metadata": {},
     "output_type": "display_data"
    },
    {
     "data": {
      "text/plain": [
       "'Порог = 0.04 | F1 = 0.422'"
      ]
     },
     "metadata": {},
     "output_type": "display_data"
    },
    {
     "data": {
      "text/plain": [
       "'Порог = 0.06 | F1 = 0.535'"
      ]
     },
     "metadata": {},
     "output_type": "display_data"
    },
    {
     "data": {
      "text/plain": [
       "'Порог = 0.08 | F1 = 0.623'"
      ]
     },
     "metadata": {},
     "output_type": "display_data"
    },
    {
     "data": {
      "text/plain": [
       "'Порог = 0.10 | F1 = 0.676'"
      ]
     },
     "metadata": {},
     "output_type": "display_data"
    },
    {
     "data": {
      "text/plain": [
       "'Порог = 0.12 | F1 = 0.715'"
      ]
     },
     "metadata": {},
     "output_type": "display_data"
    },
    {
     "data": {
      "text/plain": [
       "'Порог = 0.14 | F1 = 0.742'"
      ]
     },
     "metadata": {},
     "output_type": "display_data"
    },
    {
     "data": {
      "text/plain": [
       "'Порог = 0.16 | F1 = 0.761'"
      ]
     },
     "metadata": {},
     "output_type": "display_data"
    },
    {
     "data": {
      "text/plain": [
       "'Порог = 0.18 | F1 = 0.773'"
      ]
     },
     "metadata": {},
     "output_type": "display_data"
    },
    {
     "data": {
      "text/plain": [
       "'Порог = 0.20 | F1 = 0.780'"
      ]
     },
     "metadata": {},
     "output_type": "display_data"
    },
    {
     "data": {
      "text/plain": [
       "'Порог = 0.22 | F1 = 0.786'"
      ]
     },
     "metadata": {},
     "output_type": "display_data"
    },
    {
     "data": {
      "text/plain": [
       "'Порог = 0.24 | F1 = 0.788'"
      ]
     },
     "metadata": {},
     "output_type": "display_data"
    },
    {
     "data": {
      "text/plain": [
       "'Порог = 0.26 | F1 = 0.787'"
      ]
     },
     "metadata": {},
     "output_type": "display_data"
    },
    {
     "data": {
      "text/plain": [
       "'Порог = 0.28 | F1 = 0.783'"
      ]
     },
     "metadata": {},
     "output_type": "display_data"
    },
    {
     "data": {
      "text/plain": [
       "'Порог = 0.30 | F1 = 0.781'"
      ]
     },
     "metadata": {},
     "output_type": "display_data"
    },
    {
     "data": {
      "text/plain": [
       "'Порог = 0.32 | F1 = 0.780'"
      ]
     },
     "metadata": {},
     "output_type": "display_data"
    },
    {
     "data": {
      "text/plain": [
       "'Порог = 0.34 | F1 = 0.779'"
      ]
     },
     "metadata": {},
     "output_type": "display_data"
    },
    {
     "data": {
      "text/plain": [
       "'Порог = 0.36 | F1 = 0.774'"
      ]
     },
     "metadata": {},
     "output_type": "display_data"
    },
    {
     "data": {
      "text/plain": [
       "'Порог = 0.38 | F1 = 0.771'"
      ]
     },
     "metadata": {},
     "output_type": "display_data"
    },
    {
     "data": {
      "text/plain": [
       "'Порог = 0.40 | F1 = 0.763'"
      ]
     },
     "metadata": {},
     "output_type": "display_data"
    },
    {
     "data": {
      "text/plain": [
       "'Порог = 0.42 | F1 = 0.757'"
      ]
     },
     "metadata": {},
     "output_type": "display_data"
    },
    {
     "data": {
      "text/plain": [
       "'Порог = 0.44 | F1 = 0.755'"
      ]
     },
     "metadata": {},
     "output_type": "display_data"
    },
    {
     "data": {
      "text/plain": [
       "'Порог = 0.46 | F1 = 0.751'"
      ]
     },
     "metadata": {},
     "output_type": "display_data"
    },
    {
     "data": {
      "text/plain": [
       "'Порог = 0.48 | F1 = 0.744'"
      ]
     },
     "metadata": {},
     "output_type": "display_data"
    },
    {
     "data": {
      "text/plain": [
       "'Порог = 0.50 | F1 = 0.737'"
      ]
     },
     "metadata": {},
     "output_type": "display_data"
    },
    {
     "data": {
      "text/plain": [
       "'Порог = 0.52 | F1 = 0.731'"
      ]
     },
     "metadata": {},
     "output_type": "display_data"
    },
    {
     "data": {
      "text/plain": [
       "'Порог = 0.54 | F1 = 0.722'"
      ]
     },
     "metadata": {},
     "output_type": "display_data"
    },
    {
     "data": {
      "text/plain": [
       "'Порог = 0.56 | F1 = 0.714'"
      ]
     },
     "metadata": {},
     "output_type": "display_data"
    },
    {
     "data": {
      "text/plain": [
       "'Порог = 0.58 | F1 = 0.708'"
      ]
     },
     "metadata": {},
     "output_type": "display_data"
    },
    {
     "data": {
      "text/plain": [
       "'Порог = 0.60 | F1 = 0.698'"
      ]
     },
     "metadata": {},
     "output_type": "display_data"
    },
    {
     "data": {
      "text/plain": [
       "'Порог = 0.62 | F1 = 0.691'"
      ]
     },
     "metadata": {},
     "output_type": "display_data"
    },
    {
     "data": {
      "text/plain": [
       "'Порог = 0.64 | F1 = 0.680'"
      ]
     },
     "metadata": {},
     "output_type": "display_data"
    },
    {
     "data": {
      "text/plain": [
       "'Порог = 0.66 | F1 = 0.671'"
      ]
     },
     "metadata": {},
     "output_type": "display_data"
    },
    {
     "data": {
      "text/plain": [
       "'Порог = 0.68 | F1 = 0.661'"
      ]
     },
     "metadata": {},
     "output_type": "display_data"
    },
    {
     "data": {
      "text/plain": [
       "'Порог = 0.70 | F1 = 0.650'"
      ]
     },
     "metadata": {},
     "output_type": "display_data"
    },
    {
     "data": {
      "text/plain": [
       "'Порог = 0.72 | F1 = 0.641'"
      ]
     },
     "metadata": {},
     "output_type": "display_data"
    },
    {
     "data": {
      "text/plain": [
       "'Порог = 0.74 | F1 = 0.631'"
      ]
     },
     "metadata": {},
     "output_type": "display_data"
    },
    {
     "data": {
      "text/plain": [
       "'Порог = 0.76 | F1 = 0.619'"
      ]
     },
     "metadata": {},
     "output_type": "display_data"
    },
    {
     "data": {
      "text/plain": [
       "'Порог = 0.78 | F1 = 0.607'"
      ]
     },
     "metadata": {},
     "output_type": "display_data"
    },
    {
     "data": {
      "text/plain": [
       "'Порог = 0.80 | F1 = 0.596'"
      ]
     },
     "metadata": {},
     "output_type": "display_data"
    },
    {
     "data": {
      "text/plain": [
       "'Порог = 0.82 | F1 = 0.587'"
      ]
     },
     "metadata": {},
     "output_type": "display_data"
    },
    {
     "data": {
      "text/plain": [
       "'Порог = 0.84 | F1 = 0.574'"
      ]
     },
     "metadata": {},
     "output_type": "display_data"
    },
    {
     "data": {
      "text/plain": [
       "'Порог = 0.86 | F1 = 0.559'"
      ]
     },
     "metadata": {},
     "output_type": "display_data"
    },
    {
     "data": {
      "text/plain": [
       "'Порог = 0.88 | F1 = 0.541'"
      ]
     },
     "metadata": {},
     "output_type": "display_data"
    },
    {
     "data": {
      "text/plain": [
       "'Порог = 0.90 | F1 = 0.521'"
      ]
     },
     "metadata": {},
     "output_type": "display_data"
    },
    {
     "data": {
      "text/plain": [
       "'Порог = 0.92 | F1 = 0.502'"
      ]
     },
     "metadata": {},
     "output_type": "display_data"
    },
    {
     "data": {
      "text/plain": [
       "'Порог = 0.94 | F1 = 0.473'"
      ]
     },
     "metadata": {},
     "output_type": "display_data"
    },
    {
     "data": {
      "text/plain": [
       "'Порог = 0.96 | F1 = 0.439'"
      ]
     },
     "metadata": {},
     "output_type": "display_data"
    }
   ],
   "source": [
    "probabilities_valid = model.predict_proba(features_valid_tf_idf)\n",
    "probabilities_one_valid = probabilities_valid[:, 1]\n",
    "\n",
    "for threshold in np.arange(0.02, 0.98, 0.02):\n",
    "    predicted_valid = probabilities_one_valid > threshold\n",
    "    display(\"Порог = {:.2f} | F1 = {:.3f}\".format(threshold, f1_score(target_valid, predicted_valid)))"
   ]
  },
  {
   "cell_type": "markdown",
   "metadata": {},
   "source": [
    "**Вывод**: При понижении порога с 0,5 до 0,24 мы можем получить 0,788! Хороший претендент для проверки на тестовой выборке."
   ]
  },
  {
   "cell_type": "markdown",
   "metadata": {},
   "source": [
    "##### настройка модели `balanced`"
   ]
  },
  {
   "cell_type": "code",
   "execution_count": 44,
   "metadata": {},
   "outputs": [
    {
     "data": {
      "text/plain": [
       "0.8362682319459267"
      ]
     },
     "execution_count": 44,
     "metadata": {},
     "output_type": "execute_result"
    }
   ],
   "source": [
    "model = LogisticRegression(class_weight='balanced')\n",
    "model.fit(features_train_tf_idf, target_train)\n",
    "# F1 метрика на тренировочной выборке\n",
    "f1_score(target_train, model.predict(features_train_tf_idf))"
   ]
  },
  {
   "cell_type": "code",
   "execution_count": 45,
   "metadata": {},
   "outputs": [
    {
     "data": {
      "text/plain": [
       "0.748064647562135"
      ]
     },
     "execution_count": 45,
     "metadata": {},
     "output_type": "execute_result"
    }
   ],
   "source": [
    "# F1 метрика на проверочной выборке\n",
    "f1_score(target_valid, model.predict(features_valid_tf_idf))"
   ]
  },
  {
   "cell_type": "markdown",
   "metadata": {},
   "source": [
    "**Вывод**: Настройка модели для устранения дисбаланса классов позволила модели обучиться значительно лучше, но на проверочной выборке мы не получили заветные 0,75, только 0,74."
   ]
  },
  {
   "cell_type": "markdown",
   "metadata": {},
   "source": [
    "##### upsamling данных"
   ]
  },
  {
   "cell_type": "code",
   "execution_count": 46,
   "metadata": {},
   "outputs": [
    {
     "data": {
      "text/plain": [
       "0.9730199284619315"
      ]
     },
     "execution_count": 46,
     "metadata": {},
     "output_type": "execute_result"
    }
   ],
   "source": [
    "model = LogisticRegression()\n",
    "model.fit(features_train_upsamled_tf_idf, target_train_upsampled)\n",
    "# F1 метрика на тренировочной выборке\n",
    "f1_score(target_train_upsampled, model.predict(features_train_upsamled_tf_idf))"
   ]
  },
  {
   "cell_type": "code",
   "execution_count": 47,
   "metadata": {},
   "outputs": [
    {
     "data": {
      "text/plain": [
       "0.7488295235472321"
      ]
     },
     "execution_count": 47,
     "metadata": {},
     "output_type": "execute_result"
    }
   ],
   "source": [
    "# F1 метрика на проверочной выборке\n",
    "f1_score(target_valid, model.predict(features_valid_upsampled_tf_idf))"
   ]
  },
  {
   "cell_type": "markdown",
   "metadata": {},
   "source": [
    "**Вывод**: Подготовленные данные позволили обучиться модели максимально хорошо, но на проверочной выборке результат меньше 0,75."
   ]
  },
  {
   "cell_type": "markdown",
   "metadata": {},
   "source": [
    "### LGBMClassifier "
   ]
  },
  {
   "cell_type": "markdown",
   "metadata": {},
   "source": [
    "Проверим, что нам предложит такая мощьная модель как LGBMClassifier на сбалансированных данных. Только дадим ей 1000 работников..."
   ]
  },
  {
   "cell_type": "code",
   "execution_count": 56,
   "metadata": {},
   "outputs": [],
   "source": [
    "model = lgb.LGBMClassifier(\n",
    "#     boosting_type='gbdt', num_leaves=31, max_depth=-1, learning_rate=0.1, \n",
    "    n_estimators=1000\n",
    "#     , subsample_for_bin=200000, objective=None, class_weight=None, min_split_gain=0.0, min_child_weight=0.001, min_child_samples=20, subsample=1.0, subsample_freq=0, colsample_bytree=1.0, reg_alpha=0.0, reg_lambda=0.0, random_state=rs, n_jobs=-100, importance_type='split'\n",
    ")"
   ]
  },
  {
   "cell_type": "code",
   "execution_count": 57,
   "metadata": {},
   "outputs": [
    {
     "data": {
      "text/plain": [
       "0.787143723468769"
      ]
     },
     "execution_count": 57,
     "metadata": {},
     "output_type": "execute_result"
    }
   ],
   "source": [
    "# model.fit(features_train, target_train)\n",
    "model.fit(features_train_upsamled_tf_idf, target_train_upsampled)\n",
    "f1_score(target_valid, model.predict(features_valid_upsampled_tf_idf))"
   ]
  },
  {
   "cell_type": "markdown",
   "metadata": {},
   "source": [
    "**Вывод**: Результат проходной, хоть и долго работали."
   ]
  },
  {
   "cell_type": "markdown",
   "metadata": {},
   "source": [
    "### Проверка не тестовой выборке"
   ]
  },
  {
   "cell_type": "markdown",
   "metadata": {},
   "source": [
    "У нас 2 претендента:\n",
    "- Логистическая регрессия с решением по дисбалансу классов через уменьшения порога до 0,28.\n",
    "- LGBMClassififier с 1000 работников с обучением на сбалансированных данных по методу *upsampling*.\n",
    "\n",
    "У второго варианта при округлении результат выше, а это единственных критерий. Значит будем использовать его. Но если бы время было бы в приоритете, то мы бы использовали первый вариант."
   ]
  },
  {
   "cell_type": "code",
   "execution_count": 51,
   "metadata": {},
   "outputs": [],
   "source": [
    "model = lgb.LGBMClassifier(\n",
    "#     boosting_type='gbdt', num_leaves=31, max_depth=-1, learning_rate=0.1, \n",
    "    n_estimators=1000\n",
    "#     , subsample_for_bin=200000, objective=None, class_weight=None, min_split_gain=0.0, min_child_weight=0.001, min_child_samples=20, subsample=1.0, subsample_freq=0, colsample_bytree=1.0, reg_alpha=0.0, reg_lambda=0.0, random_state=rs, n_jobs=-100, importance_type='split'\n",
    ")"
   ]
  },
  {
   "cell_type": "code",
   "execution_count": 52,
   "metadata": {},
   "outputs": [
    {
     "data": {
      "text/plain": [
       "0.7876036938488026"
      ]
     },
     "execution_count": 52,
     "metadata": {},
     "output_type": "execute_result"
    }
   ],
   "source": [
    "# обучение на сбалансированной тренировочной выборке\n",
    "model.fit(features_train_upsamled_tf_idf, target_train_upsampled)\n",
    "# проверка на тестовой выборке\n",
    "f1_score(target_test, model.predict(features_test_upsampled_tf_idf))"
   ]
  },
  {
   "cell_type": "markdown",
   "metadata": {},
   "source": [
    "**Вывод**: Ура! Тест пройден!"
   ]
  },
  {
   "cell_type": "markdown",
   "metadata": {},
   "source": [
    "## Выводы"
   ]
  },
  {
   "cell_type": "markdown",
   "metadata": {},
   "source": [
    "Мы, конечно, берегли аппаратную часть и свои нервы, поэтому убрали особо длинные словоизлияния, но...\n",
    "\n",
    "Поигрались с BERT:\n",
    "- Колаб бесплатно работать не хочет и через 5 часов работы останавливает работу\n",
    "- Локально получилось получить только 8000 эмбедингов, что хватило только на 0,23 и никакая балансировка не помоглала.\n",
    "\n",
    "Откатились к более базовому варианту с TF-IDF, но тоже на сахар:\n",
    "- на 20% данных 0,71\n",
    "- только обработав все данные получили результат по метрике F1, который соответствовал поставленной задаче.\n",
    "\n",
    "Что интересно, в этой задаче достаточно быстрой Логистической регрессии, если хорошо подготовить и сбалансировать данных. Но существуют мощьные модели, которые надежно дают нужный результат."
   ]
  }
 ],
 "metadata": {
  "ExecuteTimeLog": [
   {
    "duration": 6887,
    "start_time": "2023-06-29T21:06:58.680Z"
   },
   {
    "duration": 19586,
    "start_time": "2023-06-29T21:07:05.569Z"
   },
   {
    "duration": 4263,
    "start_time": "2023-06-29T21:07:25.158Z"
   },
   {
    "duration": 32139,
    "start_time": "2023-06-29T21:07:29.424Z"
   },
   {
    "duration": 220,
    "start_time": "2023-06-29T21:08:01.566Z"
   },
   {
    "duration": 3718,
    "start_time": "2023-06-29T21:08:01.788Z"
   },
   {
    "duration": 626,
    "start_time": "2023-06-29T21:08:05.507Z"
   },
   {
    "duration": 1186,
    "start_time": "2023-06-29T21:09:56.651Z"
   },
   {
    "duration": 3806,
    "start_time": "2023-07-03T07:15:43.020Z"
   },
   {
    "duration": 19593,
    "start_time": "2023-07-03T07:15:46.830Z"
   },
   {
    "duration": 4771,
    "start_time": "2023-07-03T07:16:06.426Z"
   },
   {
    "duration": 8331,
    "start_time": "2023-07-03T07:16:11.201Z"
   },
   {
    "duration": 264,
    "start_time": "2023-07-03T07:16:19.534Z"
   },
   {
    "duration": 4704,
    "start_time": "2023-07-03T07:16:19.800Z"
   },
   {
    "duration": 1245,
    "start_time": "2023-07-03T07:16:24.506Z"
   },
   {
    "duration": 9,
    "start_time": "2023-07-03T07:16:25.753Z"
   },
   {
    "duration": 21,
    "start_time": "2023-07-03T07:16:25.764Z"
   },
   {
    "duration": 49,
    "start_time": "2023-07-03T07:16:25.789Z"
   },
   {
    "duration": 163,
    "start_time": "2023-07-03T07:16:25.840Z"
   },
   {
    "duration": 1047,
    "start_time": "2023-07-03T07:16:26.005Z"
   },
   {
    "duration": 7,
    "start_time": "2023-07-03T07:16:27.054Z"
   },
   {
    "duration": 22,
    "start_time": "2023-07-03T07:16:27.066Z"
   },
   {
    "duration": 6,
    "start_time": "2023-07-03T07:16:27.094Z"
   },
   {
    "duration": 20,
    "start_time": "2023-07-03T07:16:27.102Z"
   },
   {
    "duration": 3,
    "start_time": "2023-07-03T07:16:27.124Z"
   },
   {
    "duration": 6,
    "start_time": "2023-07-03T07:16:27.129Z"
   },
   {
    "duration": 5,
    "start_time": "2023-07-03T07:16:27.137Z"
   },
   {
    "duration": 35,
    "start_time": "2023-07-03T07:16:27.143Z"
   },
   {
    "duration": 885,
    "start_time": "2023-07-03T07:16:27.180Z"
   },
   {
    "duration": 4364,
    "start_time": "2023-07-03T07:16:28.066Z"
   },
   {
    "duration": 4,
    "start_time": "2023-07-03T07:16:48.240Z"
   },
   {
    "duration": 87,
    "start_time": "2023-07-03T07:16:54.904Z"
   },
   {
    "duration": 92,
    "start_time": "2023-07-03T07:16:56.584Z"
   },
   {
    "duration": 8,
    "start_time": "2023-07-03T07:16:59.779Z"
   },
   {
    "duration": 8,
    "start_time": "2023-07-03T07:17:06.791Z"
   },
   {
    "duration": 104,
    "start_time": "2023-07-03T07:17:10.546Z"
   },
   {
    "duration": 4,
    "start_time": "2023-07-03T07:17:15.833Z"
   },
   {
    "duration": 13965,
    "start_time": "2023-07-03T07:17:26.564Z"
   },
   {
    "duration": 19018,
    "start_time": "2023-07-03T07:18:25.210Z"
   },
   {
    "duration": 8,
    "start_time": "2023-07-03T07:47:16.150Z"
   }
  ],
  "kernelspec": {
   "display_name": "Python 3 (ipykernel)",
   "language": "python",
   "name": "python3"
  },
  "language_info": {
   "codemirror_mode": {
    "name": "ipython",
    "version": 3
   },
   "file_extension": ".py",
   "mimetype": "text/x-python",
   "name": "python",
   "nbconvert_exporter": "python",
   "pygments_lexer": "ipython3",
   "version": "3.9.15"
  },
  "toc": {
   "base_numbering": 1,
   "nav_menu": {},
   "number_sections": true,
   "sideBar": true,
   "skip_h1_title": true,
   "title_cell": "Содержание",
   "title_sidebar": "Содержание",
   "toc_cell": true,
   "toc_position": {
    "height": "calc(100% - 180px)",
    "left": "10px",
    "top": "150px",
    "width": "302.391px"
   },
   "toc_section_display": true,
   "toc_window_display": true
  }
 },
 "nbformat": 4,
 "nbformat_minor": 2
}
